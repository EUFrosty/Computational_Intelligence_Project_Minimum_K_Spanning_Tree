{
 "cells": [
  {
   "cell_type": "code",
   "execution_count": 1,
   "id": "a00caf8f",
   "metadata": {},
   "outputs": [],
   "source": [
    "import random\n",
    "import copy\n",
    "import time"
   ]
  },
  {
   "cell_type": "code",
   "execution_count": 2,
   "id": "c0a5062d",
   "metadata": {},
   "outputs": [],
   "source": [
    "# dodajemo sve grane koje vode ka neposecenim cvorovima\n",
    "def add_neighbours(visited, neighbours, graph):\n",
    "    for node in visited:\n",
    "        for edge in graph[node]:\n",
    "            if edge not in visited:\n",
    "                neighbours.append((node, edge))"
   ]
  },
  {
   "cell_type": "code",
   "execution_count": 3,
   "id": "549d1eb5",
   "metadata": {},
   "outputs": [],
   "source": [
    "def traverse(i, graph, alpha, beta, k):\n",
    "    n = len(graph)\n",
    "    tree = []\n",
    "    tree_weight = 0\n",
    "    visited = [i]\n",
    "    while len(visited) < k:\n",
    "        neighbours = []\n",
    "        add_neighbours(visited, neighbours, graph)\n",
    "        if len(neighbours) == 0:\n",
    "            break\n",
    "        values = [graph[v[0]][v[1]]['pheromones']**alpha / graph[v[0]][v[1]]['weight']**beta for v in neighbours]\n",
    "        chosen_neighbour = random.choices(neighbours, weights = values, k = 1)[0]\n",
    "        tree.append(chosen_neighbour)\n",
    "        tree_weight += graph[chosen_neighbour[0]][chosen_neighbour[1]]['weight']\n",
    "        visited.append(chosen_neighbour[1])\n",
    "    \n",
    "    if len(visited) != k:\n",
    "        return ([], float('inf'))\n",
    "    \n",
    "    return tree, tree_weight"
   ]
  },
  {
   "cell_type": "code",
   "execution_count": 5,
   "id": "f3a59198",
   "metadata": {},
   "outputs": [],
   "source": [
    "def calculate_convergence_factor(graph, best_tree, k):\n",
    "    pheromone_list = [graph.edges[edge]['pheromones'] for edge in best_tree[0]]\n",
    "    pheromone_sum = sum(pheromone_list)\n",
    "    \n",
    "    return pheromone_sum / k * 0.99"
   ]
  },
  {
   "cell_type": "code",
   "execution_count": 6,
   "id": "8bab51c3",
   "metadata": {},
   "outputs": [],
   "source": [
    "def aco(graph_orig, num_ants, rho, num_iters, theta, alpha, beta, k):\n",
    "    start = time.time()\n",
    "    graph = copy.deepcopy(graph_orig)\n",
    "    n = len(graph_orig)\n",
    "    best_tree = ([], float('inf'))\n",
    "    \n",
    "    for i in range(num_iters):\n",
    "        node_best_tree = ([], float('inf'))\n",
    "        \n",
    "        chosen_nodes = random.choices(range(n), k = num_ants)\n",
    "        trees = [traverse(i, graph, alpha, beta, k) for i in chosen_nodes]\n",
    "\n",
    "        for edge in graph.edges:\n",
    "            graph[edge[0]][edge[1]]['pheromones'] *= rho\n",
    "\n",
    "        for tree, tree_weight in trees:\n",
    "            delta = theta / tree_weight\n",
    "            for branch in tree:\n",
    "                graph[branch[0]][branch[1]]['pheromones'] += delta\n",
    "\n",
    "        ants_best_tree = min(trees, key = lambda c: c[1])\n",
    "        if node_best_tree[0] == [] or ants_best_tree[1] < node_best_tree[1]:\n",
    "            node_best_tree = copy.deepcopy(ants_best_tree)\n",
    "\n",
    "        if best_tree[0] == [] or node_best_tree[1] < best_tree[1]:\n",
    "            best_tree = copy.deepcopy(node_best_tree)\n",
    "            \n",
    "        cf = calculate_convergence_factor(graph, best_tree, k)\n",
    "        if cf >= 0.99:\n",
    "            graph = copy.deepcopy(graph_orig)\n",
    "\n",
    "    if best_tree[0] != []:\n",
    "        print(best_tree[0], best_tree[1])\n",
    "    else:\n",
    "        print(\"Not possible to construct a sufficient tree\")\n",
    "        \n",
    "    end = time.time()\n",
    "    print(end - start)\n",
    "    \n",
    "    return best_tree"
   ]
  },
  {
   "cell_type": "code",
   "execution_count": null,
   "id": "a4f7b288",
   "metadata": {},
   "outputs": [],
   "source": []
  }
 ],
 "metadata": {
  "kernelspec": {
   "display_name": "Python 3 (ipykernel)",
   "language": "python",
   "name": "python3"
  },
  "language_info": {
   "codemirror_mode": {
    "name": "ipython",
    "version": 3
   },
   "file_extension": ".py",
   "mimetype": "text/x-python",
   "name": "python",
   "nbconvert_exporter": "python",
   "pygments_lexer": "ipython3",
   "version": "3.8.10"
  }
 },
 "nbformat": 4,
 "nbformat_minor": 5
}
