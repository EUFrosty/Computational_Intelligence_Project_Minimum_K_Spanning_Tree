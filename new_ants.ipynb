{
 "cells": [
  {
   "cell_type": "code",
   "execution_count": 36,
   "id": "a00caf8f",
   "metadata": {},
   "outputs": [],
   "source": [
    "import import_ipynb\n",
    "import random\n",
    "import copy\n",
    "import graph_generator as gg\n",
    "import time"
   ]
  },
  {
   "cell_type": "code",
   "execution_count": 92,
   "id": "19e6c1c2",
   "metadata": {},
   "outputs": [],
   "source": [
    "k = 60\n",
    "n = 100\n",
    "graph = gg.generate_graph(n)"
   ]
  },
  {
   "cell_type": "code",
   "execution_count": 93,
   "id": "c0a5062d",
   "metadata": {},
   "outputs": [],
   "source": [
    "# dodajemo sve grane koje vode ka neposecenim cvorovima\n",
    "def add_neighbours(visited, neighbours, graph):\n",
    "    for node in visited:\n",
    "        for edge in graph[node]:\n",
    "            if edge not in visited:\n",
    "                neighbours.append((node, edge))"
   ]
  },
  {
   "cell_type": "code",
   "execution_count": 94,
   "id": "549d1eb5",
   "metadata": {},
   "outputs": [],
   "source": [
    "def traverse(i, graph, alpha, beta, k):\n",
    "    n = len(graph)\n",
    "    tree = []\n",
    "    tree_weight = 0\n",
    "    visited = [i]\n",
    "    while len(visited) < k:\n",
    "        neighbours = []\n",
    "        add_neighbours(visited, neighbours, graph)\n",
    "        if len(neighbours) == 0:\n",
    "            break\n",
    "        values = [graph[v[0]][v[1]]['pheromones']**alpha / graph[v[0]][v[1]]['weight']**beta for v in neighbours]\n",
    "        chosen_neighbour = random.choices(neighbours, weights = values, k = 1)[0]\n",
    "        tree.append(chosen_neighbour)\n",
    "        #print((chosen_neighbour[1], chosen_neighbour[0]))\n",
    "        tree_weight += graph[chosen_neighbour[0]][chosen_neighbour[1]]['weight']\n",
    "        visited.append(chosen_neighbour[1])\n",
    "        \n",
    "    \n",
    "    if tree_weight != float('inf') and len(visited) == k:\n",
    "        return tree, tree_weight"
   ]
  },
  {
   "cell_type": "code",
   "execution_count": 95,
   "id": "406c7558",
   "metadata": {},
   "outputs": [],
   "source": [
    "# dodajemo sve grane koje vode ka neposecenim cvorovima\n",
    "def add_neighbours(visited, neighbours, graph):\n",
    "    for node in visited:\n",
    "        for edge in graph[node]:\n",
    "            if edge not in visited:\n",
    "                neighbours.append((node, edge))"
   ]
  },
  {
   "cell_type": "code",
   "execution_count": 96,
   "id": "8bab51c3",
   "metadata": {},
   "outputs": [],
   "source": [
    "def aco(graph_orig, num_ants, rho, num_iters, theta, alpha, beta, k):\n",
    "    start = time.time()\n",
    "    n = len(graph_orig)\n",
    "    best_tree = None\n",
    "    \n",
    "    for i in range(num_iters):\n",
    "        graph = copy.deepcopy(graph_orig)\n",
    "        node_best_tree = None\n",
    "        \n",
    "        chosen_nodes = random.choices(range(n), k = num_ants)\n",
    "        trees = [traverse(i, graph, alpha, beta, k) for i in chosen_nodes]\n",
    "\n",
    "        check = 0\n",
    "        for tree in trees:\n",
    "            if tree is not None:\n",
    "                check += 1\n",
    "\n",
    "        if check == 0:\n",
    "            break\n",
    "\n",
    "        for edge in graph.edges:\n",
    "            graph[edge[0]][edge[1]]['pheromones'] *= rho\n",
    "\n",
    "        for tree, tree_weight in trees:\n",
    "            delta = theta / tree_weight\n",
    "            for branch in tree:\n",
    "                graph[branch[0]][branch[1]]['pheromones'] += delta\n",
    "\n",
    "        ants_best_tree = min(trees, key = lambda c: c[1])\n",
    "        if node_best_tree is None or ants_best_tree[1] < node_best_tree[1]:\n",
    "            node_best_tree = copy.deepcopy(ants_best_tree)\n",
    "\n",
    "        if best_tree is None or node_best_tree[1] < best_tree[1]:\n",
    "                best_tree = copy.deepcopy(node_best_tree)\n",
    "\n",
    "    if best_tree is not None:\n",
    "        print(best_tree)\n",
    "        end = time.time()\n",
    "    else:\n",
    "        print(\"No such tree\")\n",
    "        end = time.time()\n",
    "    print(end - start)"
   ]
  },
  {
   "cell_type": "code",
   "execution_count": 97,
   "id": "50b359a9",
   "metadata": {},
   "outputs": [
    {
     "name": "stdout",
     "output_type": "stream",
     "text": [
      "([(35, 90), (90, 30), (90, 22), (22, 37), (90, 31), (90, 80), (80, 39), (39, 72), (39, 16), (16, 38), (38, 20), (39, 82), (80, 81), (16, 48), (48, 96), (48, 89), (38, 21), (21, 4), (21, 44), (21, 93), (21, 8), (4, 34), (93, 0), (0, 64), (64, 47), (0, 36), (64, 27), (47, 98), (98, 83), (98, 99), (99, 43), (43, 17), (43, 86), (98, 85), (85, 18), (85, 26), (85, 60), (18, 71), (83, 53), (53, 95), (18, 32), (43, 65), (32, 75), (75, 91), (91, 9), (75, 94), (94, 92), (92, 6), (6, 68), (68, 87), (87, 88), (88, 79), (79, 73), (73, 84), (79, 45), (9, 11), (11, 46), (79, 59), (59, 78)], 789)\n",
      "5.97693133354187\n"
     ]
    }
   ],
   "source": [
    "num_iters = 5\n",
    "num_ants = int(n/(2*num_iters))\n",
    "aco(graph, num_ants, 0.9, num_iters, 0.9, 1.5, 100.0, k)"
   ]
  },
  {
   "cell_type": "code",
   "execution_count": 98,
   "id": "6142dff2",
   "metadata": {},
   "outputs": [],
   "source": [
    "import brute_force_optimized as bfo"
   ]
  },
  {
   "cell_type": "code",
   "execution_count": 99,
   "id": "ce5c4e59",
   "metadata": {},
   "outputs": [
    {
     "name": "stdout",
     "output_type": "stream",
     "text": [
      "[(16, 38), (16, 39), (39, 72), (38, 20), (39, 80), (39, 82), (80, 90), (90, 35), (90, 30), (90, 22), (22, 37), (90, 31), (80, 81), (16, 48), (48, 96), (48, 89), (38, 21), (21, 4), (21, 44), (21, 93), (21, 8), (4, 34), (93, 0), (0, 64), (64, 47), (0, 36), (64, 27), (47, 98), (98, 83), (98, 99), (99, 43), (43, 17), (43, 86), (98, 85), (85, 18), (85, 26), (85, 60), (18, 71), (83, 53), (53, 95), (18, 32), (43, 65), (26, 52), (53, 56), (56, 23), (23, 42), (42, 61), (61, 15), (32, 75), (75, 91), (91, 9), (75, 94), (94, 92), (92, 6), (6, 68), (68, 87), (87, 88), (88, 79), (79, 73)]\n",
      "821\n",
      "7.270281553268433\n"
     ]
    }
   ],
   "source": [
    "bfo.brute_force_optimized(graph, k)"
   ]
  },
  {
   "cell_type": "code",
   "execution_count": null,
   "id": "3c6ac363",
   "metadata": {},
   "outputs": [],
   "source": []
  }
 ],
 "metadata": {
  "kernelspec": {
   "display_name": "Python 3 (ipykernel)",
   "language": "python",
   "name": "python3"
  },
  "language_info": {
   "codemirror_mode": {
    "name": "ipython",
    "version": 3
   },
   "file_extension": ".py",
   "mimetype": "text/x-python",
   "name": "python",
   "nbconvert_exporter": "python",
   "pygments_lexer": "ipython3",
   "version": "3.8.10"
  }
 },
 "nbformat": 4,
 "nbformat_minor": 5
}
