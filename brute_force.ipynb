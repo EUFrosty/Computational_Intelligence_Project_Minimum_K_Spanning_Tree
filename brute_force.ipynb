{
 "cells": [
  {
   "cell_type": "code",
   "execution_count": 1,
   "id": "edffca24-7b34-4f1a-afb4-fa3c767f1472",
   "metadata": {},
   "outputs": [],
   "source": [
    "import copy\n",
    "import time\n",
    "from itertools import combinations\n",
    "import networkx as nx"
   ]
  },
  {
   "cell_type": "code",
   "execution_count": 4,
   "id": "f57311db-48cf-4048-9735-08ce5dd0d3a1",
   "metadata": {},
   "outputs": [],
   "source": [
    "def brute_force(graph, k):\n",
    "    start = time.time()\n",
    "    best_tree = []\n",
    "    best_weight = float('inf')\n",
    "\n",
    "    #Sve kombinacije k cvorova\n",
    "    node_combinations = combinations(graph.nodes(), k)\n",
    "    \n",
    "    for nodes in node_combinations:\n",
    "        # Pravimo podgraf od izvucenih cvorova\n",
    "        weight = 0\n",
    "        subgraph = graph.subgraph(nodes) \n",
    "            \n",
    "        spanning_tree = nx.minimum_spanning_tree(subgraph)\n",
    "\n",
    "        count = 0\n",
    "        for u, v in spanning_tree.edges():\n",
    "            weight += spanning_tree[u][v]['weight']\n",
    "            count += 1\n",
    "            #print(weight)\n",
    "\n",
    "        if weight < best_weight and len(spanning_tree.edges) == k-1 and count == k-1:\n",
    "            best_weight = weight\n",
    "            best_tree = copy.deepcopy(spanning_tree)\n",
    "\n",
    "    best_tree1 = [edge for edge in best_tree.edges]\n",
    "            \n",
    "    if best_weight != float('inf'):\n",
    "        print(best_tree1, best_weight)\n",
    "    else:\n",
    "        print(\"Not possible to construct a sufficient tree\")\n",
    "    \n",
    "    end = time.time()\n",
    "    print(end - start)\n",
    "    \n",
    "    return (best_tree1, best_weight)"
   ]
  },
  {
   "cell_type": "code",
   "execution_count": null,
   "id": "682347fb-3d41-4b31-93d0-46fd460bac0b",
   "metadata": {},
   "outputs": [],
   "source": []
  }
 ],
 "metadata": {
  "kernelspec": {
   "display_name": "Python 3 (ipykernel)",
   "language": "python",
   "name": "python3"
  },
  "language_info": {
   "codemirror_mode": {
    "name": "ipython",
    "version": 3
   },
   "file_extension": ".py",
   "mimetype": "text/x-python",
   "name": "python",
   "nbconvert_exporter": "python",
   "pygments_lexer": "ipython3",
   "version": "3.10.12"
  }
 },
 "nbformat": 4,
 "nbformat_minor": 5
}
