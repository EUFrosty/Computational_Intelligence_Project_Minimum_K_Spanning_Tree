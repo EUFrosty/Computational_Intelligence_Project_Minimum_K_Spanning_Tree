{
 "cells": [
  {
   "cell_type": "code",
   "execution_count": 1,
   "id": "edffca24-7b34-4f1a-afb4-fa3c767f1472",
   "metadata": {},
   "outputs": [
    {
     "name": "stdout",
     "output_type": "stream",
     "text": [
      "importing Jupyter notebook from graph_generator.ipynb\n"
     ]
    }
   ],
   "source": [
    "import numpy as np\n",
    "import copy\n",
    "import import_ipynb\n",
    "import graph_generator as gg\n",
    "import time\n",
    "from itertools import combinations\n",
    "import networkx as nx"
   ]
  },
  {
   "cell_type": "code",
   "execution_count": 12,
   "id": "d829b957-9748-40f8-b2c9-60970fc86ccf",
   "metadata": {},
   "outputs": [],
   "source": [
    "graph = gg.generate_graph(25)"
   ]
  },
  {
   "cell_type": "code",
   "execution_count": 14,
   "id": "f57311db-48cf-4048-9735-08ce5dd0d3a1",
   "metadata": {},
   "outputs": [],
   "source": [
    "def brute_force(graph, k):\n",
    "    start = time.time()\n",
    "    best_weight = float('inf')\n",
    "    best_tree = None\n",
    "\n",
    "    #Sve kombinacije k cvorova\n",
    "    node_combinations = combinations(graph.nodes(), k)\n",
    "    \n",
    "    for nodes in node_combinations:\n",
    "        # Pravimo podgraf od izvucenih cvorova\n",
    "        weight = 0\n",
    "        subgraph = graph.subgraph(nodes) \n",
    "            \n",
    "        spanning_tree = nx.minimum_spanning_tree(subgraph)\n",
    "\n",
    "        count = 0\n",
    "        for u, v in spanning_tree.edges():\n",
    "            weight += spanning_tree[u][v]['weight']\n",
    "            count += 1\n",
    "            #print(weight)\n",
    "\n",
    "        if weight < best_weight and len(spanning_tree.edges) == k-1 and count == k-1:\n",
    "            best_weight = weight\n",
    "            best_tree = copy.deepcopy(spanning_tree)\n",
    "\n",
    "    print(best_tree.edges, best_weight)\n",
    "    end = time.time()\n",
    "    print(end-start)"
   ]
  },
  {
   "cell_type": "code",
   "execution_count": 15,
   "id": "0bf047e2-eb48-4bb5-a380-3d4e48ebd73e",
   "metadata": {},
   "outputs": [
    {
     "name": "stdout",
     "output_type": "stream",
     "text": [
      "[(2, 6), (2, 7), (4, 18), (4, 7)] 100\n",
      "11.386929035186768\n"
     ]
    }
   ],
   "source": [
    "brute_force(graph, 5)"
   ]
  },
  {
   "cell_type": "code",
   "execution_count": null,
   "id": "682347fb-3d41-4b31-93d0-46fd460bac0b",
   "metadata": {},
   "outputs": [],
   "source": []
  }
 ],
 "metadata": {
  "kernelspec": {
   "display_name": "Python 3 (ipykernel)",
   "language": "python",
   "name": "python3"
  },
  "language_info": {
   "codemirror_mode": {
    "name": "ipython",
    "version": 3
   },
   "file_extension": ".py",
   "mimetype": "text/x-python",
   "name": "python",
   "nbconvert_exporter": "python",
   "pygments_lexer": "ipython3",
   "version": "3.10.12"
  }
 },
 "nbformat": 4,
 "nbformat_minor": 5
}
