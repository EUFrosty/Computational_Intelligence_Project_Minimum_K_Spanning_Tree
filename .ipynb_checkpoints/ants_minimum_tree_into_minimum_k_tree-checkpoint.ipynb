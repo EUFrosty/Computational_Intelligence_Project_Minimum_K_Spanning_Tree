{
 "cells": [
  {
   "cell_type": "code",
   "execution_count": 24,
   "id": "3e5db9e6-cd40-4050-b101-9defe2b69539",
   "metadata": {},
   "outputs": [],
   "source": [
    "import import_ipynb\n",
    "import random\n",
    "import copy\n",
    "import graph_generator as gg\n",
    "import time"
   ]
  },
  {
   "cell_type": "code",
   "execution_count": 25,
   "id": "a658b0a8-e9ca-4daa-994c-29ffae2c8db6",
   "metadata": {},
   "outputs": [],
   "source": [
    "pheromone_graph = gg.generate_graph(10)"
   ]
  },
  {
   "cell_type": "code",
   "execution_count": 26,
   "id": "45b2259e-98e7-4d2c-9cd3-2fd5e81b43fd",
   "metadata": {},
   "outputs": [],
   "source": [
    "# dodajemo sve grane koje vode ka neposecenim cvorovima\n",
    "def add_neighbours(visited, neighbours, pheromone_graph):\n",
    "    for node in visited:\n",
    "        for edge in pheromone_graph[node]:\n",
    "            if edge not in visited:\n",
    "                neighbours.append((node, edge))"
   ]
  },
  {
   "cell_type": "code",
   "execution_count": 27,
   "id": "8c4b8091-c4d3-423b-94bf-cabf030a1435",
   "metadata": {},
   "outputs": [],
   "source": [
    "def traverse(pheromone_graph, alpha, beta):\n",
    "    n = len(pheromone_graph)\n",
    "    tree = []\n",
    "    tree_weight = 0\n",
    "    visited = [0]\n",
    "    while len(visited) < n:\n",
    "        neighbours = []\n",
    "        add_neighbours(visited, neighbours, pheromone_graph)\n",
    "        if len(neighbours) == 0:\n",
    "            break\n",
    "        values = [pheromone_graph[v[0]][v[1]]['pheromones']**alpha / pheromone_graph[v[0]][v[1]]['weight']**beta for v in neighbours]\n",
    "        chosen_neighbour = random.choices(neighbours, weights = values, k = 1)[0]\n",
    "        tree.append(chosen_neighbour)\n",
    "        #print((chosen_neighbour[1], chosen_neighbour[0]))\n",
    "        tree_weight += pheromone_graph[chosen_neighbour[0]][chosen_neighbour[1]]['weight']\n",
    "        visited.append(chosen_neighbour[1])\n",
    "        \n",
    "    \n",
    "    if tree_weight != float('inf') and len(visited) == n:\n",
    "        return tree, tree_weight"
   ]
  },
  {
   "cell_type": "code",
   "execution_count": 28,
   "id": "de76cc2d-1cde-40bf-a2ef-b3e0471e24f1",
   "metadata": {},
   "outputs": [
    {
     "data": {
      "text/plain": [
       "([(0, 4), (4, 7), (0, 6), (7, 3), (6, 9), (9, 1), (7, 2), (0, 8), (6, 5)],\n",
       " 4378)"
      ]
     },
     "execution_count": 28,
     "metadata": {},
     "output_type": "execute_result"
    }
   ],
   "source": [
    "traverse(pheromone_graph, alpha = 0.5, beta = 0.5)"
   ]
  },
  {
   "cell_type": "code",
   "execution_count": 43,
   "id": "4b427d8a-e327-41e2-ae00-94e8eae66f9f",
   "metadata": {},
   "outputs": [],
   "source": [
    "def aco(pheromone_graph, num_ants, rho, num_iters, theta, alpha, beta):\n",
    "    #start = time.time()\n",
    "    best_tree = None\n",
    "    \n",
    "    for j in range(num_iters):\n",
    "        trees = [traverse(pheromone_graph, alpha, beta) for _ in range(num_ants)]\n",
    "\n",
    "        for edge in pheromone_graph.edges:\n",
    "            pheromone_graph[edge[0]][edge[1]]['pheromones'] *= rho\n",
    "\n",
    "        for tree, tree_weight in trees:\n",
    "            delta = theta / tree_weight\n",
    "            for branch in tree:\n",
    "                pheromone_graph[branch[0]][branch[1]]['pheromones'] += delta\n",
    "\n",
    "        ants_best_tree = min(trees, key = lambda c: c[1])\n",
    "        if best_tree is None or ants_best_tree[1] < best_tree[1]:\n",
    "            best_tree = copy.deepcopy(ants_best_tree)\n",
    "\n",
    "    if best_tree is not None:\n",
    "        print(best_tree)\n",
    "    else:\n",
    "        print(\"No such tree\")\n",
    "    #end = time.time()\n",
    "    #print(end - start)"
   ]
  },
  {
   "cell_type": "code",
   "execution_count": 44,
   "id": "97b6dc53-120c-44a4-b014-0b723bc98687",
   "metadata": {},
   "outputs": [
    {
     "name": "stdout",
     "output_type": "stream",
     "text": [
      "([(0, 8), (8, 3), (3, 7), (3, 4), (4, 5), (5, 2), (2, 1), (1, 9), (9, 6)], 1638)\n"
     ]
    }
   ],
   "source": [
    "aco(pheromone_graph, 10, 0.9, 100, 0.9, 1.5, 100.0)"
   ]
  },
  {
   "cell_type": "code",
   "execution_count": 45,
   "id": "67daebf2-3f33-46e3-be58-06edf8b743c2",
   "metadata": {},
   "outputs": [],
   "source": [
    "def select_k_tree(tree, k):\n",
    "    ##\"Samo\" ovo treba da se odradi lepo\n",
    "    pass\n",
    "    "
   ]
  },
  {
   "cell_type": "code",
   "execution_count": 46,
   "id": "9f678594-0492-431b-ab21-82190b95f076",
   "metadata": {},
   "outputs": [],
   "source": [
    "def minimum_k_tree(pheromone_graph, k):\n",
    "    start = time.time()\n",
    "    tree = aco(pheromone_graph, 10, 0.9, 100, 0.9, 1.5, 100.0)\n",
    "    select_k_tree(tree, k)\n",
    "    end = time.time()\n",
    "    print(end - start)"
   ]
  },
  {
   "cell_type": "code",
   "execution_count": 47,
   "id": "2089c64e-ea4e-4938-a2c6-636d3844b1fe",
   "metadata": {},
   "outputs": [
    {
     "name": "stdout",
     "output_type": "stream",
     "text": [
      "([(0, 8), (8, 3), (3, 7), (3, 4), (4, 5), (5, 2), (2, 1), (1, 9), (9, 6)], 1638)\n",
      "0.44910407066345215\n"
     ]
    }
   ],
   "source": [
    "minimum_k_tree(pheromone_graph, 5)"
   ]
  },
  {
   "cell_type": "code",
   "execution_count": null,
   "id": "25151540-7af8-454d-846c-6810958deca0",
   "metadata": {},
   "outputs": [],
   "source": []
  }
 ],
 "metadata": {
  "kernelspec": {
   "display_name": "Python 3 (ipykernel)",
   "language": "python",
   "name": "python3"
  },
  "language_info": {
   "codemirror_mode": {
    "name": "ipython",
    "version": 3
   },
   "file_extension": ".py",
   "mimetype": "text/x-python",
   "name": "python",
   "nbconvert_exporter": "python",
   "pygments_lexer": "ipython3",
   "version": "3.10.12"
  }
 },
 "nbformat": 4,
 "nbformat_minor": 5
}
