{
 "cells": [
  {
   "cell_type": "code",
   "execution_count": 1,
   "id": "d9899b6b-572e-4454-a569-b082e94602a2",
   "metadata": {},
   "outputs": [],
   "source": [
    "import numpy as np\n",
    "import copy"
   ]
  },
  {
   "cell_type": "code",
   "execution_count": 2,
   "id": "9dc33194-5c73-4402-82c9-0881f582ba5d",
   "metadata": {},
   "outputs": [],
   "source": [
    "graph_5_nodes = np.array([[0, 1, 2, 3, 4],\n",
    "                          [1, 0, 5, 6, 7],\n",
    "                          [2, 5, 0, 8, 9],\n",
    "                          [3, 6, 8, 0, 10],\n",
    "                          [4, 7, 9, 10, 0]])"
   ]
  },
  {
   "cell_type": "markdown",
   "id": "adb17a09-b186-4845-a8e4-a577caa4188e",
   "metadata": {},
   "source": [
    "Za k = 3, resenje: [(0, 1), (0, 2)], 3"
   ]
  },
  {
   "cell_type": "code",
   "execution_count": 3,
   "id": "ee165f98-40d4-47c1-a9ad-554ba7ed50cf",
   "metadata": {},
   "outputs": [],
   "source": [
    "graph_10_nodes = np.array([[0, 3, 8, 0, 0, 2, 0, 0, 0, 0],\n",
    "                           [3, 0, 0, 7, 0, 0, 0, 1, 0, 0],\n",
    "                           [8, 0, 0, 0, 9, 0, 0, 0, 0, 0],\n",
    "                           [0, 7, 0, 0, 0, 0, 0, 0, 0, 5],\n",
    "                           [0, 0, 9, 0, 0, 4, 0, 0, 0, 0],\n",
    "                           [2, 0, 0, 0, 4, 0, 6, 0, 0, 0],\n",
    "                           [0, 0, 0, 0, 0, 6, 0, 0, 0, 0],\n",
    "                           [0, 1, 0, 0, 0, 0, 0, 0, 2, 0],\n",
    "                           [0, 0, 0, 0, 0, 0, 0, 2, 0, 1],\n",
    "                           [0, 0, 0, 5, 0, 0, 0, 0, 1, 0]])"
   ]
  },
  {
   "cell_type": "markdown",
   "id": "dbdf77a5-1efc-462b-808c-4f0ce6d826b3",
   "metadata": {},
   "source": [
    "Za k = 5, resenje: [(1, 7), (7, 8), (8, 9), (1, 0)], 7"
   ]
  },
  {
   "cell_type": "code",
   "execution_count": 4,
   "id": "d4eb0bbd-36d4-43b2-b08b-76f87c0735d1",
   "metadata": {},
   "outputs": [],
   "source": [
    "graph_connected = np.array([[0, 3, 4, 5, 1, 2, 3, 0, 0, 0],\n",
    "                            [3, 0, 5, 2, 1, 0, 0, 1, 0, 0],\n",
    "                            [4, 5, 0, 1, 2, 0, 0, 0, 1, 0],\n",
    "                            [5, 2, 1, 0, 3, 0, 0, 0, 0, 1],\n",
    "                            [1, 1, 2, 3, 0, 0, 0, 0, 0, 0],\n",
    "                            [2, 0, 0, 0, 0, 0, 2, 3, 0, 0],\n",
    "                            [3, 0, 0, 0, 0, 2, 0, 1, 0, 0],\n",
    "                            [0, 1, 0, 0, 0, 3, 1, 0, 1, 0],\n",
    "                            [0, 0, 1, 0, 0, 0, 0, 1, 0, 1],\n",
    "                            [0, 0, 0, 1, 0, 0, 0, 0, 1, 0]])"
   ]
  },
  {
   "cell_type": "markdown",
   "id": "cf4ccc8b-33ca-4a46-9541-f8d149ce0926",
   "metadata": {},
   "source": [
    "Za k = 5, resenje: [(0, 4), (4, 1), (1, 7), (7, 6)],  4"
   ]
  },
  {
   "cell_type": "code",
   "execution_count": 5,
   "id": "34d2132d-b4a3-402d-8c80-7c932cced934",
   "metadata": {},
   "outputs": [],
   "source": [
    "graph_15_nodes = np.array([[0, 3, 0, 0, 0, 2, 0, 0, 0, 0, 0, 0, 0, 0, 0],\n",
    "                           [3, 0, 0, 7, 0, 0, 0, 1, 0, 0, 0, 0, 0, 0, 0],\n",
    "                           [0, 0, 0, 0, 9, 0, 0, 0, 0, 0, 0, 0, 0, 0, 0],\n",
    "                           [0, 7, 0, 0, 0, 0, 0, 0, 0, 5, 0, 0, 0, 0, 0],\n",
    "                           [0, 0, 9, 0, 0, 4, 0, 0, 0, 0, 0, 0, 0, 0, 0],\n",
    "                           [2, 0, 0, 0, 4, 0, 6, 0, 0, 0, 0, 0, 0, 0, 0],\n",
    "                           [0, 0, 0, 0, 0, 6, 0, 0, 0, 0, 0, 0, 0, 0, 0],\n",
    "                           [0, 1, 0, 0, 0, 0, 0, 0, 2, 0, 0, 0, 0, 0, 0],\n",
    "                           [0, 0, 0, 0, 0, 0, 0, 2, 0, 1, 0, 0, 0, 0, 0],\n",
    "                           [0, 0, 0, 5, 0, 0, 0, 0, 1, 0, 4, 0, 0, 0, 0],\n",
    "                           [0, 0, 0, 0, 0, 0, 0, 0, 0, 4, 0, 6, 0, 0, 0],\n",
    "                           [0, 0, 0, 0, 0, 0, 0, 0, 0, 0, 6, 0, 8, 0, 0],\n",
    "                           [0, 0, 0, 0, 0, 0, 0, 0, 0, 0, 0, 8, 0, 9, 0],\n",
    "                           [0, 0, 0, 0, 0, 0, 0, 0, 0, 0, 0, 0, 9, 0, 1],\n",
    "                           [0, 0, 0, 0, 0, 0, 0, 0, 0, 0, 0, 0, 0, 1, 0]])\n"
   ]
  },
  {
   "cell_type": "markdown",
   "id": "a00e3c1f-26f3-4638-81ff-0ad329eb6e7b",
   "metadata": {},
   "source": [
    "Za k = 10, resenje: [(0, 5), (0, 1), (1, 7), (7, 8), (8, 9), (5, 4), (9, 10), (9, 3), (5, 6)], 28"
   ]
  },
  {
   "cell_type": "code",
   "execution_count": 6,
   "id": "257923cd-c0bb-4453-ad15-5b4c2eee53a6",
   "metadata": {},
   "outputs": [],
   "source": [
    "wikipedia_graph =  np.array([[0, 5, 3, 1, 0, 0, 0, 0, 0],\n",
    "                             [5, 0, 0, 4, 7, 0, 0, 0, 0],\n",
    "                             [3, 0, 0, 0, 0, 0, 3, 0, 0],\n",
    "                             [1, 4, 0, 0, 1, 0, 3, 0, 0],\n",
    "                             [0, 7, 0, 1, 0, 3, 0, 2, 0],\n",
    "                             [0, 0, 0, 0, 3, 0, 0, 0, 2],\n",
    "                             [0, 0, 3, 3, 0, 0, 0, 4, 0],\n",
    "                             [0, 0, 0, 0, 2, 0, 4, 0, 2],\n",
    "                             [0, 0, 0, 0, 0, 2, 0, 2, 0]])"
   ]
  },
  {
   "cell_type": "markdown",
   "id": "f03a07f7-eaba-47a6-bfd4-757b53c74e2f",
   "metadata": {},
   "source": [
    "Za k = 5, resenje: [(0, 3), (3, 4), (4, 7), (7, 8)], 6"
   ]
  },
  {
   "cell_type": "code",
   "execution_count": 7,
   "id": "e475ad77-c7bb-4570-8e46-4187b75a44dd",
   "metadata": {},
   "outputs": [],
   "source": [
    "graph = graph_15_nodes"
   ]
  },
  {
   "cell_type": "code",
   "execution_count": 8,
   "id": "44c343d5-0507-4aa6-b5f1-61217aaeaa13",
   "metadata": {},
   "outputs": [],
   "source": [
    "def add_neighbours(neighbours, node, n):\n",
    "    n = graph.shape[0]\n",
    "    for i in range(0, n):\n",
    "        if graph[node][i] != 0:\n",
    "            neighbours.append((node, i))"
   ]
  },
  {
   "cell_type": "code",
   "execution_count": 9,
   "id": "c8f33d0c-85b7-4fab-afa1-05d51c8ac776",
   "metadata": {},
   "outputs": [],
   "source": [
    "def brute_force(graph, k):\n",
    "    n = graph.shape[0]\n",
    "    \n",
    "    best_tree = []\n",
    "    best_tree_weight = float('inf')\n",
    "    \n",
    "    for i in range(0, n):\n",
    "        visited_nodes = [i]\n",
    "        neighbours = [] ##lista parova (cvor_izvor, cvor_cilj)\n",
    "        add_neighbours(neighbours, i, n)\n",
    "        \n",
    "        current_tree = []\n",
    "        current_weight = 0\n",
    "        \n",
    "        for j in range(0, k-1):\n",
    "            best_weight = float('inf')    ##najmanja tezina grane izmedju dva cvora u parovima u listi suseda\n",
    "            best_first_node = -1    ##prvi cvor u paru\n",
    "            best_second_node = -1    ##drugi cvor u paru\n",
    "            \n",
    "            for (first_node, second_node) in neighbours:\n",
    "                if second_node in visited_nodes:\n",
    "                    continue\n",
    "                if graph[first_node][second_node] < best_weight:\n",
    "                    best_weight = graph[first_node][second_node]\n",
    "                    best_first_node = first_node\n",
    "                    best_second_node = second_node\n",
    "            if best_weight != float('inf'):         ##ukoliko nije nadjena grana, best_weight ce ostati na inf\n",
    "                current_weight += best_weight\n",
    "                current_tree.append((best_first_node, best_second_node))\n",
    "                visited_nodes.append(best_second_node)\n",
    "                add_neighbours(neighbours, best_second_node, n)\n",
    "            else:\n",
    "                break\n",
    "        ##\n",
    "        if len(visited_nodes) < k:\n",
    "            continue\n",
    "        if current_weight < best_tree_weight:\n",
    "            best_tree_weight = current_weight\n",
    "            best_tree = copy.deepcopy(current_tree)\n",
    "    \n",
    "    if best_tree_weight != float('inf'):\n",
    "        print(best_tree)\n",
    "        print(best_tree_weight)\n",
    "    else:    ##ovo se desava ako nije moguce napraviti stablo trazene velicine\n",
    "        print(\"Not possible to construct a sufficient tree\")"
   ]
  },
  {
   "cell_type": "code",
   "execution_count": 14,
   "id": "d7565242-58fb-43bd-8502-17f2e0942b60",
   "metadata": {
    "scrolled": true
   },
   "outputs": [
    {
     "name": "stdout",
     "output_type": "stream",
     "text": [
      "[(0, 5), (0, 1), (1, 7), (7, 8), (8, 9), (5, 4), (9, 10), (9, 3), (5, 6)]\n",
      "28\n",
      "0.00495147705078125\n"
     ]
    }
   ],
   "source": [
    "import time\n",
    "start = time.time()\n",
    "brute_force(graph_15_nodes, 10)\n",
    "end = time.time()\n",
    "print(end - start)"
   ]
  },
  {
   "cell_type": "code",
   "execution_count": 15,
   "id": "42f64906-0482-4531-85e2-1016cabfc29d",
   "metadata": {},
   "outputs": [],
   "source": [
    "%store -r random_graph"
   ]
  },
  {
   "cell_type": "code",
   "execution_count": 16,
   "id": "0bde8fff-28e4-41db-87df-e646cc530a90",
   "metadata": {},
   "outputs": [
    {
     "ename": "IndexError",
     "evalue": "index 15 is out of bounds for axis 0 with size 15",
     "output_type": "error",
     "traceback": [
      "\u001b[0;31m---------------------------------------------------------------------------\u001b[0m",
      "\u001b[0;31mIndexError\u001b[0m                                Traceback (most recent call last)",
      "Cell \u001b[0;32mIn[16], line 2\u001b[0m\n\u001b[1;32m      1\u001b[0m start \u001b[38;5;241m=\u001b[39m time\u001b[38;5;241m.\u001b[39mtime()\n\u001b[0;32m----> 2\u001b[0m \u001b[43mbrute_force\u001b[49m\u001b[43m(\u001b[49m\u001b[43mrandom_graph\u001b[49m\u001b[43m,\u001b[49m\u001b[43m \u001b[49m\u001b[38;5;241;43m10\u001b[39;49m\u001b[43m)\u001b[49m\n\u001b[1;32m      3\u001b[0m end \u001b[38;5;241m=\u001b[39m time\u001b[38;5;241m.\u001b[39mtime()\n\u001b[1;32m      4\u001b[0m \u001b[38;5;28mprint\u001b[39m(end \u001b[38;5;241m-\u001b[39m start)\n",
      "Cell \u001b[0;32mIn[9], line 10\u001b[0m, in \u001b[0;36mbrute_force\u001b[0;34m(graph, k)\u001b[0m\n\u001b[1;32m      8\u001b[0m visited_nodes \u001b[38;5;241m=\u001b[39m [i]\n\u001b[1;32m      9\u001b[0m neighbours \u001b[38;5;241m=\u001b[39m [] \u001b[38;5;66;03m##lista parova (cvor_izvor, cvor_cilj)\u001b[39;00m\n\u001b[0;32m---> 10\u001b[0m \u001b[43madd_neighbours\u001b[49m\u001b[43m(\u001b[49m\u001b[43mneighbours\u001b[49m\u001b[43m,\u001b[49m\u001b[43m \u001b[49m\u001b[43mi\u001b[49m\u001b[43m)\u001b[49m\n\u001b[1;32m     12\u001b[0m current_tree \u001b[38;5;241m=\u001b[39m []\n\u001b[1;32m     13\u001b[0m current_weight \u001b[38;5;241m=\u001b[39m \u001b[38;5;241m0\u001b[39m\n",
      "Cell \u001b[0;32mIn[8], line 4\u001b[0m, in \u001b[0;36madd_neighbours\u001b[0;34m(neighbours, node)\u001b[0m\n\u001b[1;32m      2\u001b[0m n \u001b[38;5;241m=\u001b[39m graph\u001b[38;5;241m.\u001b[39mshape[\u001b[38;5;241m0\u001b[39m]\n\u001b[1;32m      3\u001b[0m \u001b[38;5;28;01mfor\u001b[39;00m i \u001b[38;5;129;01min\u001b[39;00m \u001b[38;5;28mrange\u001b[39m(\u001b[38;5;241m0\u001b[39m, n):\n\u001b[0;32m----> 4\u001b[0m     \u001b[38;5;28;01mif\u001b[39;00m \u001b[43mgraph\u001b[49m\u001b[43m[\u001b[49m\u001b[43mnode\u001b[49m\u001b[43m]\u001b[49m[i] \u001b[38;5;241m!=\u001b[39m \u001b[38;5;241m0\u001b[39m:\n\u001b[1;32m      5\u001b[0m         neighbours\u001b[38;5;241m.\u001b[39mappend((node, i))\n",
      "\u001b[0;31mIndexError\u001b[0m: index 15 is out of bounds for axis 0 with size 15"
     ]
    }
   ],
   "source": [
    "start = time.time()\n",
    "brute_force(random_graph, 10)\n",
    "end = time.time()\n",
    "print(end - start)"
   ]
  },
  {
   "cell_type": "code",
   "execution_count": 17,
   "id": "f08751bc-3aca-4ae6-beb6-ffc46c9a58e5",
   "metadata": {},
   "outputs": [
    {
     "data": {
      "text/plain": [
       "array([[0., 7., 0., ..., 7., 0., 8.],\n",
       "       [7., 0., 0., ..., 2., 1., 0.],\n",
       "       [0., 0., 0., ..., 9., 2., 6.],\n",
       "       ...,\n",
       "       [7., 2., 9., ..., 0., 3., 0.],\n",
       "       [0., 1., 2., ..., 3., 0., 5.],\n",
       "       [8., 0., 6., ..., 0., 5., 0.]])"
      ]
     },
     "execution_count": 17,
     "metadata": {},
     "output_type": "execute_result"
    }
   ],
   "source": [
    "random_graph"
   ]
  },
  {
   "cell_type": "code",
   "execution_count": null,
   "id": "7695b264-7e7a-42f2-bd81-dd27b9979445",
   "metadata": {},
   "outputs": [],
   "source": []
  }
 ],
 "metadata": {
  "kernelspec": {
   "display_name": "Python 3 (ipykernel)",
   "language": "python",
   "name": "python3"
  },
  "language_info": {
   "codemirror_mode": {
    "name": "ipython",
    "version": 3
   },
   "file_extension": ".py",
   "mimetype": "text/x-python",
   "name": "python",
   "nbconvert_exporter": "python",
   "pygments_lexer": "ipython3",
   "version": "3.10.12"
  }
 },
 "nbformat": 4,
 "nbformat_minor": 5
}
