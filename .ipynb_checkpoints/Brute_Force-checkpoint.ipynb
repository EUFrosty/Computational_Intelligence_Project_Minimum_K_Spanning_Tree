{
 "cells": [
  {
   "cell_type": "code",
   "execution_count": 1,
   "id": "d9899b6b-572e-4454-a569-b082e94602a2",
   "metadata": {},
   "outputs": [
    {
     "name": "stdout",
     "output_type": "stream",
     "text": [
      "importing Jupyter notebook from graph_generator.ipynb\n"
     ]
    }
   ],
   "source": [
    "import numpy as np\n",
    "import copy\n",
    "import import_ipynb\n",
    "import graph_generator as gg\n",
    "import time"
   ]
  },
  {
   "cell_type": "code",
   "execution_count": 2,
   "id": "7f5351c8-f400-4b3a-aae1-b9b486514465",
   "metadata": {},
   "outputs": [],
   "source": [
    "graph = gg.generate_graph(100)"
   ]
  },
  {
   "cell_type": "code",
   "execution_count": 3,
   "id": "44c343d5-0507-4aa6-b5f1-61217aaeaa13",
   "metadata": {},
   "outputs": [],
   "source": [
    "def add_neighbours(neighbours, node, graph):\n",
    "    for connection in graph[node]:\n",
    "            neighbours.append((node, connection))"
   ]
  },
  {
   "cell_type": "code",
   "execution_count": 4,
   "id": "c8f33d0c-85b7-4fab-afa1-05d51c8ac776",
   "metadata": {},
   "outputs": [],
   "source": [
    "def brute_force(graph, k):\n",
    "    start = time.time()\n",
    "    n = len(graph)\n",
    "    \n",
    "    best_tree = []\n",
    "    best_tree_weight = float('inf')\n",
    "    \n",
    "    for i in range(0, n):\n",
    "        visited_nodes = [i]\n",
    "        neighbours = [] ##lista parova (cvor_izvor, cvor_cilj)\n",
    "        add_neighbours(neighbours, i, graph)\n",
    "        \n",
    "        current_tree = []\n",
    "        current_weight = 0\n",
    "        \n",
    "        for j in range(0, k-1):\n",
    "            best_weight = float('inf')    ##najmanja tezina grane izmedju dva cvora u parovima u listi suseda\n",
    "            best_first_node = -1    ##prvi cvor u paru\n",
    "            best_second_node = -1    ##drugi cvor u paru\n",
    "            \n",
    "            for (first_node, second_node) in neighbours:\n",
    "                if second_node in visited_nodes:\n",
    "                    continue\n",
    "                if graph[first_node][second_node]['weight'] < best_weight:\n",
    "                    best_weight = graph[first_node][second_node]['weight']\n",
    "                    best_first_node = first_node\n",
    "                    best_second_node = second_node\n",
    "            if best_weight != float('inf'):         ##ukoliko nije nadjena grana, best_weight ce ostati na inf\n",
    "                current_weight += best_weight\n",
    "                current_tree.append((best_first_node, best_second_node))\n",
    "                visited_nodes.append(best_second_node)\n",
    "                add_neighbours(neighbours, best_second_node, graph)\n",
    "            else:\n",
    "                break\n",
    "        ##\n",
    "        if len(visited_nodes) < k:\n",
    "            continue\n",
    "        if current_weight < best_tree_weight:\n",
    "            best_tree_weight = current_weight\n",
    "            best_tree = copy.deepcopy(current_tree)\n",
    "    \n",
    "    if best_tree_weight != float('inf'):\n",
    "        print(best_tree)\n",
    "        print(best_tree_weight)\n",
    "        end = time.time()\n",
    "    else:    ##ovo se desava ako nije moguce napraviti stablo trazene velicine\n",
    "        print(\"Not possible to construct a sufficient tree\")\n",
    "        end = time.time()\n",
    "    print(end - start)"
   ]
  },
  {
   "cell_type": "code",
   "execution_count": 5,
   "id": "d7565242-58fb-43bd-8502-17f2e0942b60",
   "metadata": {
    "scrolled": true
   },
   "outputs": [
    {
     "name": "stdout",
     "output_type": "stream",
     "text": [
      "[(0, 7), (0, 35), (0, 59)]\n",
      "3\n",
      "0.08817744255065918\n"
     ]
    }
   ],
   "source": [
    "brute_force(graph, 4)"
   ]
  },
  {
   "cell_type": "code",
   "execution_count": 37,
   "id": "42f64906-0482-4531-85e2-1016cabfc29d",
   "metadata": {},
   "outputs": [],
   "source": [
    "%store -r random_graph"
   ]
  },
  {
   "cell_type": "code",
   "execution_count": 38,
   "id": "0bde8fff-28e4-41db-87df-e646cc530a90",
   "metadata": {},
   "outputs": [
    {
     "name": "stdout",
     "output_type": "stream",
     "text": [
      "[(0, 5), (0, 23), (0, 38), (0, 43), (0, 60), (0, 79), (0, 94), (0, 131), (0, 132)]\n",
      "9.0\n",
      "19.854108572006226\n"
     ]
    }
   ],
   "source": [
    "start = time.time()\n",
    "brute_force(random_graph, 10)\n",
    "end = time.time()\n",
    "print(end - start)"
   ]
  },
  {
   "cell_type": "code",
   "execution_count": 32,
   "id": "f08751bc-3aca-4ae6-beb6-ffc46c9a58e5",
   "metadata": {},
   "outputs": [
    {
     "data": {
      "text/plain": [
       "(1000, 1000)"
      ]
     },
     "execution_count": 32,
     "metadata": {},
     "output_type": "execute_result"
    }
   ],
   "source": [
    "random_graph.shape"
   ]
  },
  {
   "cell_type": "code",
   "execution_count": 33,
   "id": "7695b264-7e7a-42f2-bd81-dd27b9979445",
   "metadata": {},
   "outputs": [
    {
     "data": {
      "text/plain": [
       "(15, 15)"
      ]
     },
     "execution_count": 33,
     "metadata": {},
     "output_type": "execute_result"
    }
   ],
   "source": [
    "graph_15_nodes.shape"
   ]
  },
  {
   "cell_type": "code",
   "execution_count": null,
   "id": "514241c2-a5f7-4341-b33c-b79d1eb5552f",
   "metadata": {},
   "outputs": [],
   "source": [
    "graph = gg.generate_graph()"
   ]
  }
 ],
 "metadata": {
  "kernelspec": {
   "display_name": "Python 3 (ipykernel)",
   "language": "python",
   "name": "python3"
  },
  "language_info": {
   "codemirror_mode": {
    "name": "ipython",
    "version": 3
   },
   "file_extension": ".py",
   "mimetype": "text/x-python",
   "name": "python",
   "nbconvert_exporter": "python",
   "pygments_lexer": "ipython3",
   "version": "3.10.12"
  }
 },
 "nbformat": 4,
 "nbformat_minor": 5
}
