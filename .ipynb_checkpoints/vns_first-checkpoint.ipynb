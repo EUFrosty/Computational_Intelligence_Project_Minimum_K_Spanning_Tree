{
 "cells": [
  {
   "cell_type": "code",
   "execution_count": 4,
   "id": "9d5b59d6-19f5-455a-9773-c34ebd785606",
   "metadata": {},
   "outputs": [
    {
     "name": "stdout",
     "output_type": "stream",
     "text": [
      "importing Jupyter notebook from graph_generator.ipynb\n"
     ]
    }
   ],
   "source": [
    "import import_ipynb\n",
    "from datetime import datetime\n",
    "import copy\n",
    "import numpy as np\n",
    "import random\n",
    "import graph_generator as gg"
   ]
  },
  {
   "cell_type": "code",
   "execution_count": 9,
   "id": "55d21da3-458a-4f16-807d-e77e549fc34c",
   "metadata": {},
   "outputs": [],
   "source": [
    "graph = gg.generate_graph(10)"
   ]
  },
  {
   "cell_type": "code",
   "execution_count": 10,
   "id": "87b2bc64-2380-495b-b689-a05ba5c3b214",
   "metadata": {},
   "outputs": [],
   "source": [
    "def initialize_solution(graph, k):\n",
    "    n = len(graph.edges)\n",
    "    solution = [0 for _ in range(n)]\n",
    "    count = 0\n",
    "    while count != k:\n",
    "        invert_index = random.randint(0,n-1)\n",
    "        if solution[invert_index] == 1:\n",
    "            continue\n",
    "        solution[invert_index] = 1\n",
    "        count += 1\n",
    "    return solution"
   ]
  },
  {
   "cell_type": "code",
   "execution_count": 14,
   "id": "d6a6dd3d-ccf7-44cf-98bc-e075cbd8da88",
   "metadata": {
    "scrolled": true
   },
   "outputs": [],
   "source": [
    "solution = initialize_solution(graph, 3)"
   ]
  },
  {
   "cell_type": "code",
   "execution_count": 18,
   "id": "9972cde5-3f6f-4197-8b53-4ddf6832f9f0",
   "metadata": {},
   "outputs": [],
   "source": [
    "def is_feasible(graph, solution):\n",
    "    n = len(solution)\n",
    "    nodes = set()\n",
    "    for i in range(n):\n",
    "        if solution[i] == 1:\n",
    "            nodes.add(graph.edges[solution[i]][0])\n",
    "            nodes.add(graph.edges[solution[i]][1])\n",
    "    print(nodes)\n",
    "        "
   ]
  },
  {
   "cell_type": "code",
   "execution_count": 20,
   "id": "4c186dad-99d7-465b-bd63-298607033bf8",
   "metadata": {},
   "outputs": [
    {
     "ename": "TypeError",
     "evalue": "cannot unpack non-iterable int object",
     "output_type": "error",
     "traceback": [
      "\u001b[0;31m---------------------------------------------------------------------------\u001b[0m",
      "\u001b[0;31mTypeError\u001b[0m                                 Traceback (most recent call last)",
      "Cell \u001b[0;32mIn[20], line 1\u001b[0m\n\u001b[0;32m----> 1\u001b[0m \u001b[43mis_feasible\u001b[49m\u001b[43m(\u001b[49m\u001b[43mgraph\u001b[49m\u001b[43m,\u001b[49m\u001b[43m \u001b[49m\u001b[43msolution\u001b[49m\u001b[43m)\u001b[49m\n",
      "Cell \u001b[0;32mIn[18], line 6\u001b[0m, in \u001b[0;36mis_feasible\u001b[0;34m(graph, solution)\u001b[0m\n\u001b[1;32m      4\u001b[0m \u001b[38;5;28;01mfor\u001b[39;00m i \u001b[38;5;129;01min\u001b[39;00m \u001b[38;5;28mrange\u001b[39m(n):\n\u001b[1;32m      5\u001b[0m     \u001b[38;5;28;01mif\u001b[39;00m solution[i] \u001b[38;5;241m==\u001b[39m \u001b[38;5;241m1\u001b[39m:\n\u001b[0;32m----> 6\u001b[0m         nodes\u001b[38;5;241m.\u001b[39madd(\u001b[43mgraph\u001b[49m\u001b[38;5;241;43m.\u001b[39;49m\u001b[43medges\u001b[49m\u001b[43m[\u001b[49m\u001b[43msolution\u001b[49m\u001b[43m[\u001b[49m\u001b[43mi\u001b[49m\u001b[43m]\u001b[49m\u001b[43m]\u001b[49m[\u001b[38;5;241m0\u001b[39m])\n\u001b[1;32m      7\u001b[0m         nodes\u001b[38;5;241m.\u001b[39madd(graph\u001b[38;5;241m.\u001b[39medges[solution[i]][\u001b[38;5;241m1\u001b[39m])\n\u001b[1;32m      8\u001b[0m \u001b[38;5;28mprint\u001b[39m(nodes)\n",
      "File \u001b[0;32m~/.local/lib/python3.10/site-packages/networkx/classes/reportviews.py:1084\u001b[0m, in \u001b[0;36mOutEdgeView.__getitem__\u001b[0;34m(self, e)\u001b[0m\n\u001b[1;32m   1079\u001b[0m \u001b[38;5;28;01mif\u001b[39;00m \u001b[38;5;28misinstance\u001b[39m(e, \u001b[38;5;28mslice\u001b[39m):\n\u001b[1;32m   1080\u001b[0m     \u001b[38;5;28;01mraise\u001b[39;00m nx\u001b[38;5;241m.\u001b[39mNetworkXError(\n\u001b[1;32m   1081\u001b[0m         \u001b[38;5;124mf\u001b[39m\u001b[38;5;124m\"\u001b[39m\u001b[38;5;132;01m{\u001b[39;00m\u001b[38;5;28mtype\u001b[39m(\u001b[38;5;28mself\u001b[39m)\u001b[38;5;241m.\u001b[39m\u001b[38;5;18m__name__\u001b[39m\u001b[38;5;132;01m}\u001b[39;00m\u001b[38;5;124m does not support slicing, \u001b[39m\u001b[38;5;124m\"\u001b[39m\n\u001b[1;32m   1082\u001b[0m         \u001b[38;5;124mf\u001b[39m\u001b[38;5;124m\"\u001b[39m\u001b[38;5;124mtry list(G.edges)[\u001b[39m\u001b[38;5;132;01m{\u001b[39;00me\u001b[38;5;241m.\u001b[39mstart\u001b[38;5;132;01m}\u001b[39;00m\u001b[38;5;124m:\u001b[39m\u001b[38;5;132;01m{\u001b[39;00me\u001b[38;5;241m.\u001b[39mstop\u001b[38;5;132;01m}\u001b[39;00m\u001b[38;5;124m:\u001b[39m\u001b[38;5;132;01m{\u001b[39;00me\u001b[38;5;241m.\u001b[39mstep\u001b[38;5;132;01m}\u001b[39;00m\u001b[38;5;124m]\u001b[39m\u001b[38;5;124m\"\u001b[39m\n\u001b[1;32m   1083\u001b[0m     )\n\u001b[0;32m-> 1084\u001b[0m u, v \u001b[38;5;241m=\u001b[39m e\n\u001b[1;32m   1085\u001b[0m \u001b[38;5;28;01mreturn\u001b[39;00m \u001b[38;5;28mself\u001b[39m\u001b[38;5;241m.\u001b[39m_adjdict[u][v]\n",
      "\u001b[0;31mTypeError\u001b[0m: cannot unpack non-iterable int object"
     ]
    }
   ],
   "source": [
    "is_feasible(graph, solution)"
   ]
  },
  {
   "cell_type": "code",
   "execution_count": 26,
   "id": "ded528b5-e511-4854-b461-e90bca289e9d",
   "metadata": {},
   "outputs": [
    {
     "data": {
      "text/plain": [
       "EdgeDataView([(2, 0), (2, 3), (2, 4), (2, 6), (2, 7), (2, 8), (2, 9)])"
      ]
     },
     "execution_count": 26,
     "metadata": {},
     "output_type": "execute_result"
    }
   ],
   "source": [
    "graph.edges(2)"
   ]
  },
  {
   "cell_type": "code",
   "execution_count": null,
   "id": "0e70f70d-136f-462b-af15-d08e74fca09c",
   "metadata": {},
   "outputs": [],
   "source": []
  }
 ],
 "metadata": {
  "kernelspec": {
   "display_name": "Python 3 (ipykernel)",
   "language": "python",
   "name": "python3"
  },
  "language_info": {
   "codemirror_mode": {
    "name": "ipython",
    "version": 3
   },
   "file_extension": ".py",
   "mimetype": "text/x-python",
   "name": "python",
   "nbconvert_exporter": "python",
   "pygments_lexer": "ipython3",
   "version": "3.10.12"
  }
 },
 "nbformat": 4,
 "nbformat_minor": 5
}
