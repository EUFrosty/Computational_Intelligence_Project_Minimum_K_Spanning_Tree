{
 "cells": [
  {
   "cell_type": "code",
   "execution_count": 1,
   "metadata": {},
   "outputs": [
    {
     "name": "stdout",
     "output_type": "stream",
     "text": [
      "importing Jupyter notebook from graph_generator.ipynb\n"
     ]
    }
   ],
   "source": [
    "import import_ipynb\n",
    "import random\n",
    "import copy\n",
    "import graph_generator as gg\n",
    "import time"
   ]
  },
  {
   "cell_type": "code",
   "execution_count": 2,
   "metadata": {},
   "outputs": [],
   "source": [
    "pheromone_graph_original = gg.generate_graph(100)"
   ]
  },
  {
   "cell_type": "code",
   "execution_count": 3,
   "metadata": {},
   "outputs": [],
   "source": [
    "# dodajemo sve grane koje vode ka neposecenim cvorovima\n",
    "def add_neighbours(visited, neighbours, pheromone_graph):\n",
    "    for node in visited:\n",
    "        for edge in pheromone_graph[node]:\n",
    "            if edge not in visited:\n",
    "                neighbours.append((node, edge))"
   ]
  },
  {
   "cell_type": "code",
   "execution_count": 4,
   "metadata": {},
   "outputs": [],
   "source": [
    "def traverse(i, pheromone_graph, alpha, beta, k):\n",
    "    n = len(pheromone_graph)\n",
    "    tree = []\n",
    "    tree_weight = 0\n",
    "    visited = [i]\n",
    "    while len(visited) < k:\n",
    "        neighbours = []\n",
    "        add_neighbours(visited, neighbours, pheromone_graph)\n",
    "        if len(neighbours) == 0:\n",
    "            break\n",
    "        values = [pheromone_graph[v[0]][v[1]]['pheromones']**alpha / pheromone_graph[v[0]][v[1]]['weight']**beta for v in neighbours]\n",
    "        chosen_neighbour = random.choices(neighbours, weights = values, k = 1)[0]\n",
    "        tree.append(chosen_neighbour)\n",
    "        #print((chosen_neighbour[1], chosen_neighbour[0]))\n",
    "        tree_weight += pheromone_graph[chosen_neighbour[0]][chosen_neighbour[1]]['weight']\n",
    "        visited.append(chosen_neighbour[1])\n",
    "        \n",
    "    \n",
    "    if tree_weight != float('inf') and len(visited) == k:\n",
    "        return tree, tree_weight"
   ]
  },
  {
   "cell_type": "code",
   "execution_count": 5,
   "metadata": {},
   "outputs": [
    {
     "data": {
      "text/plain": [
       "([(0, 21),\n",
       "  (0, 62),\n",
       "  (0, 3),\n",
       "  (0, 53),\n",
       "  (53, 51),\n",
       "  (21, 83),\n",
       "  (51, 9),\n",
       "  (21, 38),\n",
       "  (9, 78)],\n",
       " 3445)"
      ]
     },
     "execution_count": 5,
     "metadata": {},
     "output_type": "execute_result"
    }
   ],
   "source": [
    "traverse(0, pheromone_graph_original, 0.1, 0.1, 10)"
   ]
  },
  {
   "cell_type": "code",
   "execution_count": 10,
   "metadata": {},
   "outputs": [],
   "source": [
    "def aco(pheromone_graph_original, num_ants, rho, num_iters, theta, alpha, beta, k):\n",
    "    start = time.time()\n",
    "    n = len(pheromone_graph_original)\n",
    "    best_tree = None\n",
    "    \n",
    "    for j in range(num_iters):\n",
    "        pheromone_graph = copy.deepcopy(pheromone_graph_original)\n",
    "        node_best_tree = None\n",
    "        \n",
    "        for i in range(n):\n",
    "            trees = [traverse(i, pheromone_graph, alpha, beta, k) for _ in range(num_ants)]\n",
    "\n",
    "            check = 0\n",
    "            for tree in trees:\n",
    "                if tree is not None:\n",
    "                    check += 1\n",
    "\n",
    "            if check == 0:\n",
    "                break\n",
    "\n",
    "            for edge in pheromone_graph.edges:\n",
    "                pheromone_graph[edge[0]][edge[1]]['pheromones'] *= rho\n",
    "\n",
    "            for tree, tree_weight in trees:\n",
    "                delta = theta / tree_weight\n",
    "                for branch in tree:\n",
    "                    pheromone_graph[branch[0]][branch[1]]['pheromones'] += delta\n",
    "\n",
    "            ants_best_tree = min(trees, key = lambda c: c[1])\n",
    "            if node_best_tree is None or ants_best_tree[1] < node_best_tree[1]:\n",
    "                node_best_tree = copy.deepcopy(ants_best_tree)\n",
    "\n",
    "        if best_tree is None or node_best_tree[1] < best_tree[1]:\n",
    "                best_tree = copy.deepcopy(node_best_tree)\n",
    "\n",
    "    if best_tree is not None:\n",
    "        print(best_tree)\n",
    "        end = time.time()\n",
    "    else:\n",
    "        print(\"No such tree\")\n",
    "        end = time.time()\n",
    "    print(end - start)"
   ]
  },
  {
   "cell_type": "code",
   "execution_count": 11,
   "metadata": {
    "scrolled": true
   },
   "outputs": [
    {
     "ename": "KeyboardInterrupt",
     "evalue": "",
     "output_type": "error",
     "traceback": [
      "\u001b[0;31m---------------------------------------------------------------------------\u001b[0m",
      "\u001b[0;31mKeyboardInterrupt\u001b[0m                         Traceback (most recent call last)",
      "Cell \u001b[0;32mIn[11], line 1\u001b[0m\n\u001b[0;32m----> 1\u001b[0m \u001b[43maco\u001b[49m\u001b[43m(\u001b[49m\u001b[43mpheromone_graph_original\u001b[49m\u001b[43m,\u001b[49m\u001b[43m \u001b[49m\u001b[38;5;241;43m10\u001b[39;49m\u001b[43m,\u001b[49m\u001b[43m \u001b[49m\u001b[38;5;241;43m0.9\u001b[39;49m\u001b[43m,\u001b[49m\u001b[43m \u001b[49m\u001b[38;5;241;43m100\u001b[39;49m\u001b[43m,\u001b[49m\u001b[43m \u001b[49m\u001b[38;5;241;43m0.9\u001b[39;49m\u001b[43m,\u001b[49m\u001b[43m \u001b[49m\u001b[38;5;241;43m1.5\u001b[39;49m\u001b[43m,\u001b[49m\u001b[43m \u001b[49m\u001b[38;5;241;43m100.0\u001b[39;49m\u001b[43m,\u001b[49m\u001b[43m \u001b[49m\u001b[38;5;241;43m4\u001b[39;49m\u001b[43m)\u001b[49m\n",
      "Cell \u001b[0;32mIn[10], line 22\u001b[0m, in \u001b[0;36maco\u001b[0;34m(pheromone_graph_original, num_ants, rho, num_iters, theta, alpha, beta, k)\u001b[0m\n\u001b[1;32m     19\u001b[0m     \u001b[38;5;28;01mbreak\u001b[39;00m\n\u001b[1;32m     21\u001b[0m \u001b[38;5;28;01mfor\u001b[39;00m edge \u001b[38;5;129;01min\u001b[39;00m pheromone_graph\u001b[38;5;241m.\u001b[39medges:\n\u001b[0;32m---> 22\u001b[0m     \u001b[43mpheromone_graph\u001b[49m\u001b[43m[\u001b[49m\u001b[43medge\u001b[49m\u001b[43m[\u001b[49m\u001b[38;5;241;43m0\u001b[39;49m\u001b[43m]\u001b[49m\u001b[43m]\u001b[49m[edge[\u001b[38;5;241m1\u001b[39m]][\u001b[38;5;124m'\u001b[39m\u001b[38;5;124mpheromones\u001b[39m\u001b[38;5;124m'\u001b[39m] \u001b[38;5;241m*\u001b[39m\u001b[38;5;241m=\u001b[39m rho\n\u001b[1;32m     24\u001b[0m \u001b[38;5;28;01mfor\u001b[39;00m tree, tree_weight \u001b[38;5;129;01min\u001b[39;00m trees:\n\u001b[1;32m     25\u001b[0m     delta \u001b[38;5;241m=\u001b[39m theta \u001b[38;5;241m/\u001b[39m tree_weight\n",
      "File \u001b[0;32m~/.local/lib/python3.10/site-packages/networkx/classes/graph.py:513\u001b[0m, in \u001b[0;36mGraph.__getitem__\u001b[0;34m(self, n)\u001b[0m\n\u001b[1;32m    489\u001b[0m \u001b[38;5;28;01mdef\u001b[39;00m \u001b[38;5;21m__getitem__\u001b[39m(\u001b[38;5;28mself\u001b[39m, n):\n\u001b[1;32m    490\u001b[0m \u001b[38;5;250m    \u001b[39m\u001b[38;5;124;03m\"\"\"Returns a dict of neighbors of node n.  Use: 'G[n]'.\u001b[39;00m\n\u001b[1;32m    491\u001b[0m \n\u001b[1;32m    492\u001b[0m \u001b[38;5;124;03m    Parameters\u001b[39;00m\n\u001b[0;32m   (...)\u001b[0m\n\u001b[1;32m    511\u001b[0m \u001b[38;5;124;03m    AtlasView({1: {}})\u001b[39;00m\n\u001b[1;32m    512\u001b[0m \u001b[38;5;124;03m    \"\"\"\u001b[39;00m\n\u001b[0;32m--> 513\u001b[0m     \u001b[38;5;28;01mreturn\u001b[39;00m \u001b[38;5;28;43mself\u001b[39;49m\u001b[38;5;241;43m.\u001b[39;49m\u001b[43madj\u001b[49m\u001b[43m[\u001b[49m\u001b[43mn\u001b[49m\u001b[43m]\u001b[49m\n",
      "File \u001b[0;32m~/.local/lib/python3.10/site-packages/networkx/classes/coreviews.py:80\u001b[0m, in \u001b[0;36mAdjacencyView.__getitem__\u001b[0;34m(self, name)\u001b[0m\n\u001b[1;32m     66\u001b[0m \u001b[38;5;250m\u001b[39m\u001b[38;5;124;03m\"\"\"An AdjacencyView is a Read-only Map of Maps of Maps.\u001b[39;00m\n\u001b[1;32m     67\u001b[0m \n\u001b[1;32m     68\u001b[0m \u001b[38;5;124;03mIt is a View into a dict-of-dict-of-dict data structure.\u001b[39;00m\n\u001b[0;32m   (...)\u001b[0m\n\u001b[1;32m     75\u001b[0m \u001b[38;5;124;03mMultiAdjacencyView: View into dict-of-dict-of-dict-of-dict\u001b[39;00m\n\u001b[1;32m     76\u001b[0m \u001b[38;5;124;03m\"\"\"\u001b[39;00m\n\u001b[1;32m     78\u001b[0m \u001b[38;5;18m__slots__\u001b[39m \u001b[38;5;241m=\u001b[39m ()  \u001b[38;5;66;03m# Still uses AtlasView slots names _atlas\u001b[39;00m\n\u001b[0;32m---> 80\u001b[0m \u001b[38;5;28;01mdef\u001b[39;00m \u001b[38;5;21m__getitem__\u001b[39m(\u001b[38;5;28mself\u001b[39m, name):\n\u001b[1;32m     81\u001b[0m     \u001b[38;5;28;01mreturn\u001b[39;00m AtlasView(\u001b[38;5;28mself\u001b[39m\u001b[38;5;241m.\u001b[39m_atlas[name])\n\u001b[1;32m     83\u001b[0m \u001b[38;5;28;01mdef\u001b[39;00m \u001b[38;5;21mcopy\u001b[39m(\u001b[38;5;28mself\u001b[39m):\n",
      "\u001b[0;31mKeyboardInterrupt\u001b[0m: "
     ]
    }
   ],
   "source": [
    "aco(pheromone_graph_original, 10, 0.9, 100, 0.9, 1.5, 100.0, 4)"
   ]
  },
  {
   "cell_type": "code",
   "execution_count": null,
   "metadata": {},
   "outputs": [],
   "source": []
  }
 ],
 "metadata": {
  "kernelspec": {
   "display_name": "Python 3 (ipykernel)",
   "language": "python",
   "name": "python3"
  },
  "language_info": {
   "codemirror_mode": {
    "name": "ipython",
    "version": 3
   },
   "file_extension": ".py",
   "mimetype": "text/x-python",
   "name": "python",
   "nbconvert_exporter": "python",
   "pygments_lexer": "ipython3",
   "version": "3.10.12"
  }
 },
 "nbformat": 4,
 "nbformat_minor": 4
}
