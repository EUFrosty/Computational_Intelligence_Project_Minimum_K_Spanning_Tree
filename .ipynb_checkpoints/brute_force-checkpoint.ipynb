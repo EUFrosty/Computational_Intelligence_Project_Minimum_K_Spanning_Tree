{
 "cells": [
  {
   "cell_type": "code",
   "execution_count": 1,
   "id": "edffca24-7b34-4f1a-afb4-fa3c767f1472",
   "metadata": {},
   "outputs": [
    {
     "name": "stdout",
     "output_type": "stream",
     "text": [
      "importing Jupyter notebook from graph_generator.ipynb\n"
     ]
    }
   ],
   "source": [
    "import numpy as np\n",
    "import copy\n",
    "import import_ipynb\n",
    "import graph_generator as gg\n",
    "import time\n",
    "from itertools import combinations\n",
    "import networkx as nx"
   ]
  },
  {
   "cell_type": "code",
   "execution_count": 5,
   "id": "d829b957-9748-40f8-b2c9-60970fc86ccf",
   "metadata": {},
   "outputs": [],
   "source": [
    "graph = gg.generate_graph(100)"
   ]
  },
  {
   "cell_type": "code",
   "execution_count": 6,
   "id": "f57311db-48cf-4048-9735-08ce5dd0d3a1",
   "metadata": {},
   "outputs": [],
   "source": [
    "def brute_force(graph, k):\n",
    "    start = time.time()\n",
    "    best_weight = float('inf')\n",
    "    best_tree = None\n",
    "\n",
    "    #Sve kombinacije k cvorova\n",
    "    node_combinations = combinations(graph.nodes(), k)\n",
    "\n",
    "    for nodes in node_combinations:\n",
    "        # Pravimo podgraf od izvucenih cvorova\n",
    "        weight = 0\n",
    "        subgraph = graph.subgraph(nodes) \n",
    "            \n",
    "        spanning_tree = nx.minimum_spanning_tree(subgraph)\n",
    "\n",
    "        count = 0\n",
    "        for u, v in spanning_tree.edges():\n",
    "            weight += spanning_tree[u][v]['weight']\n",
    "            count += 1\n",
    "            #print(weight)\n",
    "\n",
    "        if weight < best_weight and len(spanning_tree.edges) == k-1 and count == k-1:\n",
    "            best_weight = weight\n",
    "            best_tree = copy.deepcopy(spanning_tree)\n",
    "\n",
    "    print(best_tree.edges, best_weight)\n",
    "    end = time.time()\n",
    "    print(end-start)"
   ]
  },
  {
   "cell_type": "code",
   "execution_count": 7,
   "id": "0bf047e2-eb48-4bb5-a380-3d4e48ebd73e",
   "metadata": {},
   "outputs": [
    {
     "ename": "KeyboardInterrupt",
     "evalue": "",
     "output_type": "error",
     "traceback": [
      "\u001b[0;31m---------------------------------------------------------------------------\u001b[0m",
      "\u001b[0;31mKeyboardInterrupt\u001b[0m                         Traceback (most recent call last)",
      "Cell \u001b[0;32mIn[7], line 1\u001b[0m\n\u001b[0;32m----> 1\u001b[0m \u001b[43mbrute_force\u001b[49m\u001b[43m(\u001b[49m\u001b[43mgraph\u001b[49m\u001b[43m,\u001b[49m\u001b[43m \u001b[49m\u001b[38;5;241;43m10\u001b[39;49m\u001b[43m)\u001b[49m\n",
      "Cell \u001b[0;32mIn[6], line 14\u001b[0m, in \u001b[0;36mbrute_force\u001b[0;34m(graph, k)\u001b[0m\n\u001b[1;32m     11\u001b[0m weight \u001b[38;5;241m=\u001b[39m \u001b[38;5;241m0\u001b[39m\n\u001b[1;32m     12\u001b[0m subgraph \u001b[38;5;241m=\u001b[39m graph\u001b[38;5;241m.\u001b[39msubgraph(nodes) \n\u001b[0;32m---> 14\u001b[0m spanning_tree \u001b[38;5;241m=\u001b[39m \u001b[43mnx\u001b[49m\u001b[38;5;241;43m.\u001b[39;49m\u001b[43mminimum_spanning_tree\u001b[49m\u001b[43m(\u001b[49m\u001b[43msubgraph\u001b[49m\u001b[43m)\u001b[49m\n\u001b[1;32m     16\u001b[0m count \u001b[38;5;241m=\u001b[39m \u001b[38;5;241m0\u001b[39m\n\u001b[1;32m     17\u001b[0m \u001b[38;5;28;01mfor\u001b[39;00m u, v \u001b[38;5;129;01min\u001b[39;00m spanning_tree\u001b[38;5;241m.\u001b[39medges():\n",
      "File \u001b[0;32m~/.local/lib/python3.10/site-packages/networkx/utils/backends.py:412\u001b[0m, in \u001b[0;36m_dispatch.__call__\u001b[0;34m(self, backend, *args, **kwargs)\u001b[0m\n\u001b[1;32m    409\u001b[0m \u001b[38;5;28;01mdef\u001b[39;00m \u001b[38;5;21m__call__\u001b[39m(\u001b[38;5;28mself\u001b[39m, \u001b[38;5;241m/\u001b[39m, \u001b[38;5;241m*\u001b[39margs, backend\u001b[38;5;241m=\u001b[39m\u001b[38;5;28;01mNone\u001b[39;00m, \u001b[38;5;241m*\u001b[39m\u001b[38;5;241m*\u001b[39mkwargs):\n\u001b[1;32m    410\u001b[0m     \u001b[38;5;28;01mif\u001b[39;00m \u001b[38;5;129;01mnot\u001b[39;00m backends:\n\u001b[1;32m    411\u001b[0m         \u001b[38;5;66;03m# Fast path if no backends are installed\u001b[39;00m\n\u001b[0;32m--> 412\u001b[0m         \u001b[38;5;28;01mreturn\u001b[39;00m \u001b[38;5;28;43mself\u001b[39;49m\u001b[38;5;241;43m.\u001b[39;49m\u001b[43morig_func\u001b[49m\u001b[43m(\u001b[49m\u001b[38;5;241;43m*\u001b[39;49m\u001b[43margs\u001b[49m\u001b[43m,\u001b[49m\u001b[43m \u001b[49m\u001b[38;5;241;43m*\u001b[39;49m\u001b[38;5;241;43m*\u001b[39;49m\u001b[43mkwargs\u001b[49m\u001b[43m)\u001b[49m\n\u001b[1;32m    414\u001b[0m     \u001b[38;5;66;03m# Use `backend_name` in this function instead of `backend`\u001b[39;00m\n\u001b[1;32m    415\u001b[0m     backend_name \u001b[38;5;241m=\u001b[39m backend\n",
      "File \u001b[0;32m~/.local/lib/python3.10/site-packages/networkx/algorithms/tree/mst.py:614\u001b[0m, in \u001b[0;36mminimum_spanning_tree\u001b[0;34m(G, weight, algorithm, ignore_nan)\u001b[0m\n\u001b[1;32m    612\u001b[0m T\u001b[38;5;241m.\u001b[39mgraph\u001b[38;5;241m.\u001b[39mupdate(G\u001b[38;5;241m.\u001b[39mgraph)\n\u001b[1;32m    613\u001b[0m T\u001b[38;5;241m.\u001b[39madd_nodes_from(G\u001b[38;5;241m.\u001b[39mnodes\u001b[38;5;241m.\u001b[39mitems())\n\u001b[0;32m--> 614\u001b[0m \u001b[43mT\u001b[49m\u001b[38;5;241;43m.\u001b[39;49m\u001b[43madd_edges_from\u001b[49m\u001b[43m(\u001b[49m\u001b[43medges\u001b[49m\u001b[43m)\u001b[49m\n\u001b[1;32m    615\u001b[0m \u001b[38;5;28;01mreturn\u001b[39;00m T\n",
      "File \u001b[0;32m~/.local/lib/python3.10/site-packages/networkx/classes/graph.py:1016\u001b[0m, in \u001b[0;36mGraph.add_edges_from\u001b[0;34m(self, ebunch_to_add, **attr)\u001b[0m\n\u001b[1;32m    961\u001b[0m \u001b[38;5;28;01mdef\u001b[39;00m \u001b[38;5;21madd_edges_from\u001b[39m(\u001b[38;5;28mself\u001b[39m, ebunch_to_add, \u001b[38;5;241m*\u001b[39m\u001b[38;5;241m*\u001b[39mattr):\n\u001b[1;32m    962\u001b[0m \u001b[38;5;250m    \u001b[39m\u001b[38;5;124;03m\"\"\"Add all the edges in ebunch_to_add.\u001b[39;00m\n\u001b[1;32m    963\u001b[0m \n\u001b[1;32m    964\u001b[0m \u001b[38;5;124;03m    Parameters\u001b[39;00m\n\u001b[0;32m   (...)\u001b[0m\n\u001b[1;32m   1014\u001b[0m \u001b[38;5;124;03m    >>> G.add_edges_from(list((5, n) for n in G.nodes))\u001b[39;00m\n\u001b[1;32m   1015\u001b[0m \u001b[38;5;124;03m    \"\"\"\u001b[39;00m\n\u001b[0;32m-> 1016\u001b[0m     \u001b[38;5;28;01mfor\u001b[39;00m e \u001b[38;5;129;01min\u001b[39;00m ebunch_to_add:\n\u001b[1;32m   1017\u001b[0m         ne \u001b[38;5;241m=\u001b[39m \u001b[38;5;28mlen\u001b[39m(e)\n\u001b[1;32m   1018\u001b[0m         \u001b[38;5;28;01mif\u001b[39;00m ne \u001b[38;5;241m==\u001b[39m \u001b[38;5;241m3\u001b[39m:\n",
      "File \u001b[0;32m~/.local/lib/python3.10/site-packages/networkx/algorithms/tree/mst.py:246\u001b[0m, in \u001b[0;36mkruskal_mst_edges\u001b[0;34m(G, minimum, weight, keys, data, ignore_nan, partition)\u001b[0m\n\u001b[1;32m    244\u001b[0m \u001b[38;5;28;01melse\u001b[39;00m:\n\u001b[1;32m    245\u001b[0m     \u001b[38;5;28;01mfor\u001b[39;00m wt, u, v, d \u001b[38;5;129;01min\u001b[39;00m sorted_edges:\n\u001b[0;32m--> 246\u001b[0m         \u001b[38;5;28;01mif\u001b[39;00m subtrees[u] \u001b[38;5;241m!=\u001b[39m \u001b[43msubtrees\u001b[49m\u001b[43m[\u001b[49m\u001b[43mv\u001b[49m\u001b[43m]\u001b[49m:\n\u001b[1;32m    247\u001b[0m             \u001b[38;5;28;01mif\u001b[39;00m data:\n\u001b[1;32m    248\u001b[0m                 \u001b[38;5;28;01myield\u001b[39;00m u, v, d\n",
      "File \u001b[0;32m~/.local/lib/python3.10/site-packages/networkx/utils/union_find.py:65\u001b[0m, in \u001b[0;36mUnionFind.__getitem__\u001b[0;34m(self, object)\u001b[0m\n\u001b[1;32m     63\u001b[0m \u001b[38;5;66;03m# compress the path and return\u001b[39;00m\n\u001b[1;32m     64\u001b[0m \u001b[38;5;28;01mfor\u001b[39;00m ancestor \u001b[38;5;129;01min\u001b[39;00m path:\n\u001b[0;32m---> 65\u001b[0m     \u001b[38;5;28mself\u001b[39m\u001b[38;5;241m.\u001b[39mparents[ancestor] \u001b[38;5;241m=\u001b[39m root\n\u001b[1;32m     66\u001b[0m \u001b[38;5;28;01mreturn\u001b[39;00m root\n",
      "\u001b[0;31mKeyboardInterrupt\u001b[0m: "
     ]
    }
   ],
   "source": [
    "brute_force(graph, 10)"
   ]
  },
  {
   "cell_type": "code",
   "execution_count": null,
   "id": "8d6d1fe8-a0a1-48b7-b773-093647f15903",
   "metadata": {},
   "outputs": [],
   "source": []
  },
  {
   "cell_type": "code",
   "execution_count": null,
   "id": "682347fb-3d41-4b31-93d0-46fd460bac0b",
   "metadata": {},
   "outputs": [],
   "source": []
  }
 ],
 "metadata": {
  "kernelspec": {
   "display_name": "Python 3 (ipykernel)",
   "language": "python",
   "name": "python3"
  },
  "language_info": {
   "codemirror_mode": {
    "name": "ipython",
    "version": 3
   },
   "file_extension": ".py",
   "mimetype": "text/x-python",
   "name": "python",
   "nbconvert_exporter": "python",
   "pygments_lexer": "ipython3",
   "version": "3.10.12"
  }
 },
 "nbformat": 4,
 "nbformat_minor": 5
}
