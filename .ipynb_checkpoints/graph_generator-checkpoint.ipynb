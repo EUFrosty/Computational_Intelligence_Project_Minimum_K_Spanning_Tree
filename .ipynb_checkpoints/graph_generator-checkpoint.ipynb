{
 "cells": [
  {
   "cell_type": "code",
   "execution_count": 21,
   "id": "e9577878-5db1-4973-b266-8c9862e7228d",
   "metadata": {},
   "outputs": [],
   "source": [
    "import random\n",
    "import numpy as np"
   ]
  },
  {
   "cell_type": "code",
   "execution_count": 22,
   "id": "a2f843b6-7b51-4fcb-a71d-37e7bf3e5ee2",
   "metadata": {},
   "outputs": [],
   "source": [
    "def graph_generator(dimension):\n",
    "    graph = np.zeros((dimension, dimension))\n",
    "\n",
    "    for i in range(dimension):\n",
    "        for j in range(i+1, dimension):\n",
    "            if random.randint(0,10) > 5:\n",
    "                graph[i][j] = random.randint(0, 10)\n",
    "                graph[j][i] = graph[i][j]\n",
    "    print(graph)\n",
    "    return graph"
   ]
  },
  {
   "cell_type": "code",
   "execution_count": 23,
   "id": "44ca9346-b735-44f6-a133-4bc1e17bc05c",
   "metadata": {},
   "outputs": [
    {
     "name": "stdout",
     "output_type": "stream",
     "text": [
      "[[0. 4. 7. 6. 0.]\n",
      " [4. 0. 4. 0. 9.]\n",
      " [7. 4. 0. 8. 8.]\n",
      " [6. 0. 8. 0. 1.]\n",
      " [0. 9. 8. 1. 0.]]\n"
     ]
    }
   ],
   "source": [
    "graph_generator(5)"
   ]
  },
  {
   "cell_type": "code",
   "execution_count": 24,
   "id": "8b04f41e-80a0-4d81-81aa-58c4b98b32e2",
   "metadata": {},
   "outputs": [
    {
     "name": "stdout",
     "output_type": "stream",
     "text": [
      "[[0. 0. 0. ... 8. 0. 0.]\n",
      " [0. 0. 0. ... 0. 0. 0.]\n",
      " [0. 0. 0. ... 0. 7. 6.]\n",
      " ...\n",
      " [8. 0. 0. ... 0. 0. 0.]\n",
      " [0. 0. 7. ... 0. 0. 9.]\n",
      " [0. 0. 6. ... 0. 9. 0.]]\n"
     ]
    }
   ],
   "source": [
    "graph_generator(50)"
   ]
  },
  {
   "cell_type": "code",
   "execution_count": 25,
   "id": "3c419484-154f-4c80-9350-17051a2a8f0c",
   "metadata": {},
   "outputs": [
    {
     "name": "stdout",
     "output_type": "stream",
     "text": [
      "[[0. 0. 2. ... 0. 0. 0.]\n",
      " [0. 0. 9. ... 0. 5. 9.]\n",
      " [2. 9. 0. ... 0. 0. 0.]\n",
      " ...\n",
      " [0. 0. 0. ... 0. 0. 0.]\n",
      " [0. 5. 0. ... 0. 0. 0.]\n",
      " [0. 9. 0. ... 0. 0. 0.]]\n"
     ]
    }
   ],
   "source": [
    "graph_generator(1000)"
   ]
  },
  {
   "cell_type": "code",
   "execution_count": null,
   "id": "8570591a-d290-43b8-a3e2-9d66ae1785da",
   "metadata": {},
   "outputs": [],
   "source": []
  }
 ],
 "metadata": {
  "kernelspec": {
   "display_name": "Python 3 (ipykernel)",
   "language": "python",
   "name": "python3"
  },
  "language_info": {
   "codemirror_mode": {
    "name": "ipython",
    "version": 3
   },
   "file_extension": ".py",
   "mimetype": "text/x-python",
   "name": "python",
   "nbconvert_exporter": "python",
   "pygments_lexer": "ipython3",
   "version": "3.10.12"
  }
 },
 "nbformat": 4,
 "nbformat_minor": 5
}
