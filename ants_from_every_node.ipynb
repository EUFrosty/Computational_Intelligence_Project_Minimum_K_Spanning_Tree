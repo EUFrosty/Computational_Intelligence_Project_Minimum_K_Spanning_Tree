{
 "cells": [
  {
   "cell_type": "code",
   "execution_count": 1,
   "metadata": {},
   "outputs": [],
   "source": [
    "import random\n",
    "import copy\n",
    "import time"
   ]
  },
  {
   "cell_type": "code",
   "execution_count": 2,
   "metadata": {},
   "outputs": [],
   "source": [
    "def add_neighbours(visited, neighbours, pheromone_graph):\n",
    "    for node in visited:\n",
    "        for edge in pheromone_graph[node]:\n",
    "            if edge not in visited:\n",
    "                neighbours.append((node, edge))"
   ]
  },
  {
   "cell_type": "code",
   "execution_count": 3,
   "metadata": {},
   "outputs": [],
   "source": [
    "def traverse(i, pheromone_graph, alpha, beta, k):\n",
    "    n = len(pheromone_graph)\n",
    "    tree = []\n",
    "    tree_weight = 0\n",
    "    visited = [i]\n",
    "    while len(visited) < k:\n",
    "        neighbours = []\n",
    "        add_neighbours(visited, neighbours, pheromone_graph)\n",
    "        if len(neighbours) == 0:\n",
    "            return ([], float('inf'))\n",
    "        values = [pheromone_graph[v[0]][v[1]]['pheromones']**alpha / pheromone_graph[v[0]][v[1]]['weight']**beta for v in neighbours]\n",
    "        chosen_neighbour = random.choices(neighbours, weights = values, k = 1)[0]\n",
    "        tree.append(chosen_neighbour)\n",
    "        tree_weight += pheromone_graph[chosen_neighbour[0]][chosen_neighbour[1]]['weight']\n",
    "        visited.append(chosen_neighbour[1])\n",
    "    \n",
    "    if len(visited) != k:\n",
    "        return ([], float('inf'))\n",
    "    \n",
    "    return tree, tree_weight"
   ]
  },
  {
   "cell_type": "code",
   "execution_count": 4,
   "metadata": {},
   "outputs": [],
   "source": [
    "def aco(pheromone_graph_original, num_ants, rho, num_iters, theta, alpha, beta, k):\n",
    "    start = time.time()\n",
    "    n = len(pheromone_graph_original)\n",
    "    best_tree = ([], float('inf'))\n",
    "    \n",
    "    for j in range(num_iters):\n",
    "        pheromone_graph = copy.deepcopy(pheromone_graph_original)\n",
    "        node_best_tree = ([], float('inf'))\n",
    "        \n",
    "        for i in range(n):\n",
    "            trees = [traverse(i, pheromone_graph, alpha, beta, k) for _ in range(num_ants)]\n",
    "\n",
    "            for edge in pheromone_graph.edges:\n",
    "                pheromone_graph[edge[0]][edge[1]]['pheromones'] *= rho\n",
    "\n",
    "            for tree, tree_weight in trees:\n",
    "                delta = theta / tree_weight\n",
    "                for branch in tree:\n",
    "                    pheromone_graph[branch[0]][branch[1]]['pheromones'] += delta\n",
    "\n",
    "            ants_best_tree = min(trees, key = lambda c: c[1])\n",
    "            if node_best_tree[0] == [] or ants_best_tree[1] < node_best_tree[1]:\n",
    "                node_best_tree = copy.deepcopy(ants_best_tree)\n",
    "\n",
    "        if best_tree[0] == [] or node_best_tree[1] < best_tree[1]:\n",
    "            best_tree = copy.deepcopy(node_best_tree)\n",
    "\n",
    "    if best_tree[0] != []:\n",
    "        print(best_tree[0], best_tree[1])\n",
    "    else:\n",
    "        print(\"Not possible to construct a sufficient tree\")\n",
    "        \n",
    "    end = time.time()\n",
    "    print(end - start)\n",
    "    \n",
    "    return best_tree"
   ]
  },
  {
   "cell_type": "code",
   "execution_count": null,
   "metadata": {},
   "outputs": [],
   "source": []
  }
 ],
 "metadata": {
  "kernelspec": {
   "display_name": "Python 3 (ipykernel)",
   "language": "python",
   "name": "python3"
  },
  "language_info": {
   "codemirror_mode": {
    "name": "ipython",
    "version": 3
   },
   "file_extension": ".py",
   "mimetype": "text/x-python",
   "name": "python",
   "nbconvert_exporter": "python",
   "pygments_lexer": "ipython3",
   "version": "3.8.10"
  }
 },
 "nbformat": 4,
 "nbformat_minor": 4
}
