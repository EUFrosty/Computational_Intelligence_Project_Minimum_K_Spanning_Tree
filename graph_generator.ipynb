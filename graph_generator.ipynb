{
 "cells": [
  {
   "cell_type": "code",
   "execution_count": 13,
   "id": "e9577878-5db1-4973-b266-8c9862e7228d",
   "metadata": {},
   "outputs": [],
   "source": [
    "import random\n",
    "import numpy as np\n",
    "import networkx as nx\n",
    "import matplotlib.pyplot as plt\n",
    "import math\n",
    "import copy\n",
    "from datetime import datetime\n",
    "from matplotlib import pyplot as plt"
   ]
  },
  {
   "cell_type": "code",
   "execution_count": 14,
   "id": "8bed0837-1a1c-46fb-93eb-56a9d2dd9873",
   "metadata": {},
   "outputs": [],
   "source": [
    "def generate_graph(number_of_nodes):\n",
    "    G = nx.gnp_random_graph(number_of_nodes, 0.7)\n",
    "\n",
    "    for branch in G.edges:\n",
    "        G.edges[branch]['pheromones'] = 0.1\n",
    "        G.edges[branch]['weight'] = random.randint(1, 1000)\n",
    "\n",
    "    #nx.draw(G, with_labels = True, node_color = 'green', font_color = \"white\")\n",
    "    return G"
   ]
  },
  {
   "cell_type": "code",
   "execution_count": 15,
   "id": "083b8345",
   "metadata": {},
   "outputs": [],
   "source": [
    "def make_nx_graph(n, tree):\n",
    "    if tree is []:\n",
    "        print(\"No tree to create!\")\n",
    "        return None\n",
    "    g = nx.Graph()\n",
    "    g.add_nodes_from(range(n))\n",
    "    g.add_edges_from(tree)\n",
    "    \n",
    "    return g"
   ]
  },
  {
   "cell_type": "code",
   "execution_count": 17,
   "id": "97218f37",
   "metadata": {},
   "outputs": [],
   "source": [
    "def draw_graph(g, canvas_size, node_size, font_size):\n",
    "    if g is None:\n",
    "        print(\"No tree to draw!\")\n",
    "        return\n",
    "    pos = nx.random_layout(g, seed = 420)\n",
    "    plt.figure(3, figsize = (canvas_size, canvas_size)) \n",
    "    nx.draw_networkx(g, pos, node_size = node_size, font_size = font_size)\n",
    "    plt.show()"
   ]
  },
  {
   "cell_type": "code",
   "execution_count": null,
   "id": "4ec07e90",
   "metadata": {},
   "outputs": [],
   "source": []
  }
 ],
 "metadata": {
  "kernelspec": {
   "display_name": "Python 3 (ipykernel)",
   "language": "python",
   "name": "python3"
  },
  "language_info": {
   "codemirror_mode": {
    "name": "ipython",
    "version": 3
   },
   "file_extension": ".py",
   "mimetype": "text/x-python",
   "name": "python",
   "nbconvert_exporter": "python",
   "pygments_lexer": "ipython3",
   "version": "3.8.10"
  }
 },
 "nbformat": 4,
 "nbformat_minor": 5
}
