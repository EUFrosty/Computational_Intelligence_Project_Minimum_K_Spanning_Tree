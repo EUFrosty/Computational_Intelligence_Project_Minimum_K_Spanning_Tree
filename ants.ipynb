{
  "metadata": {
    "kernelspec": {
      "name": "python",
      "display_name": "Python (Pyodide)",
      "language": "python"
    },
    "language_info": {
      "codemirror_mode": {
        "name": "python",
        "version": 3
      },
      "file_extension": ".py",
      "mimetype": "text/x-python",
      "name": "python",
      "nbconvert_exporter": "python",
      "pygments_lexer": "ipython3",
      "version": "3.8"
    }
  },
  "nbformat_minor": 4,
  "nbformat": 4,
  "cells": [
    {
      "cell_type": "code",
      "source": "import random\nimport numpy as np\nimport copy",
      "metadata": {
        "trusted": true
      },
      "outputs": [],
      "execution_count": 1
    },
    {
      "cell_type": "code",
      "source": "graph = np.array([[0, 3, 0, 0, 0, 2, 0, 0, 0, 0, 0, 0, 0, 0, 0],\n                   [3, 0, 0, 7, 0, 0, 0, 1, 0, 0, 0, 0, 0, 0, 0],\n                   [0, 0, 0, 0, 9, 0, 0, 0, 0, 0, 0, 0, 0, 0, 0],\n                   [0, 7, 0, 0, 0, 0, 0, 0, 0, 5, 0, 0, 0, 0, 0],\n                   [0, 0, 9, 0, 0, 4, 0, 0, 0, 0, 0, 0, 0, 0, 0],\n                   [2, 0, 0, 0, 4, 0, 6, 0, 0, 0, 0, 0, 0, 0, 0],\n                   [0, 0, 0, 0, 0, 6, 0, 0, 0, 0, 0, 0, 0, 0, 0],\n                   [0, 1, 0, 0, 0, 0, 0, 0, 2, 0, 0, 0, 0, 0, 0],\n                   [0, 0, 0, 0, 0, 0, 0, 2, 0, 1, 0, 0, 0, 0, 0],\n                   [0, 0, 0, 5, 0, 0, 0, 0, 1, 0, 4, 0, 0, 0, 0],\n                   [0, 0, 0, 0, 0, 0, 0, 0, 0, 4, 0, 6, 0, 0, 0],\n                   [0, 0, 0, 0, 0, 0, 0, 0, 0, 0, 6, 0, 8, 0, 0],\n                   [0, 0, 0, 0, 0, 0, 0, 0, 0, 0, 0, 8, 0, 9, 0],\n                   [0, 0, 0, 0, 0, 0, 0, 0, 0, 0, 0, 0, 9, 0, 1],\n                   [0, 0, 0, 0, 0, 0, 0, 0, 0, 0, 0, 0, 0, 1, 0]])",
      "metadata": {
        "trusted": true
      },
      "outputs": [],
      "execution_count": 2
    },
    {
      "cell_type": "code",
      "source": "def make_pheromone_graph(graph):\n    pheromone_graph = np.array([])\n    for i in range(graph.shape[0]):\n        neighbours = {}\n        for j in range(graph.shape[1]):\n            if graph[i][j] == 0:\n                continue\n            neighbours[j] = {\n                \"from\": i,\n                \"to\": j,\n                \"weight\": graph[i][j],\n                \"pheromones\": 0.1\n            }\n        pheromone_graph = np.append(pheromone_graph, neighbours)\n    return pheromone_graph",
      "metadata": {
        "trusted": true
      },
      "outputs": [],
      "execution_count": 3
    },
    {
      "cell_type": "code",
      "source": "pheromone_graph = make_pheromone_graph(graph)\nprint(pheromone_graph)",
      "metadata": {
        "trusted": true,
        "scrolled": true
      },
      "outputs": [
        {
          "name": "stdout",
          "text": "[{1: {'from': 0, 'to': 1, 'weight': 3, 'pheromones': 0.1}, 5: {'from': 0, 'to': 5, 'weight': 2, 'pheromones': 0.1}}\n {0: {'from': 1, 'to': 0, 'weight': 3, 'pheromones': 0.1}, 3: {'from': 1, 'to': 3, 'weight': 7, 'pheromones': 0.1}, 7: {'from': 1, 'to': 7, 'weight': 1, 'pheromones': 0.1}}\n {4: {'from': 2, 'to': 4, 'weight': 9, 'pheromones': 0.1}}\n {1: {'from': 3, 'to': 1, 'weight': 7, 'pheromones': 0.1}, 9: {'from': 3, 'to': 9, 'weight': 5, 'pheromones': 0.1}}\n {2: {'from': 4, 'to': 2, 'weight': 9, 'pheromones': 0.1}, 5: {'from': 4, 'to': 5, 'weight': 4, 'pheromones': 0.1}}\n {0: {'from': 5, 'to': 0, 'weight': 2, 'pheromones': 0.1}, 4: {'from': 5, 'to': 4, 'weight': 4, 'pheromones': 0.1}, 6: {'from': 5, 'to': 6, 'weight': 6, 'pheromones': 0.1}}\n {5: {'from': 6, 'to': 5, 'weight': 6, 'pheromones': 0.1}}\n {1: {'from': 7, 'to': 1, 'weight': 1, 'pheromones': 0.1}, 8: {'from': 7, 'to': 8, 'weight': 2, 'pheromones': 0.1}}\n {7: {'from': 8, 'to': 7, 'weight': 2, 'pheromones': 0.1}, 9: {'from': 8, 'to': 9, 'weight': 1, 'pheromones': 0.1}}\n {3: {'from': 9, 'to': 3, 'weight': 5, 'pheromones': 0.1}, 8: {'from': 9, 'to': 8, 'weight': 1, 'pheromones': 0.1}, 10: {'from': 9, 'to': 10, 'weight': 4, 'pheromones': 0.1}}\n {9: {'from': 10, 'to': 9, 'weight': 4, 'pheromones': 0.1}, 11: {'from': 10, 'to': 11, 'weight': 6, 'pheromones': 0.1}}\n {10: {'from': 11, 'to': 10, 'weight': 6, 'pheromones': 0.1}, 12: {'from': 11, 'to': 12, 'weight': 8, 'pheromones': 0.1}}\n {11: {'from': 12, 'to': 11, 'weight': 8, 'pheromones': 0.1}, 13: {'from': 12, 'to': 13, 'weight': 9, 'pheromones': 0.1}}\n {12: {'from': 13, 'to': 12, 'weight': 9, 'pheromones': 0.1}, 14: {'from': 13, 'to': 14, 'weight': 1, 'pheromones': 0.1}}\n {13: {'from': 14, 'to': 13, 'weight': 1, 'pheromones': 0.1}}]\n",
          "output_type": "stream"
        }
      ],
      "execution_count": 4
    },
    {
      "cell_type": "code",
      "source": "def add_neighbours(visited, neighbours, pheromone_graph):\n    for node in visited:\n        for branch in pheromone_graph[node]:\n            if pheromone_graph[node][branch]['to'] not in visited:\n                neighbours.append(pheromone_graph[node][branch])",
      "metadata": {
        "trusted": true
      },
      "outputs": [],
      "execution_count": 5
    },
    {
      "cell_type": "code",
      "source": "def traverse(i, pheromone_graph, alpha, beta, k):\n    n = pheromone_graph.shape[0]\n    tree = [i]\n    tree_branches = []\n    tree_weight = 0\n    visited = [i]\n    while len(visited) < k:\n        neighbours = []\n        add_neighbours(visited, neighbours, pheromone_graph)\n        values = [v['pheromones']**alpha / v['weight']**beta for v in neighbours]\n        chosen_neighbour = random.choices(neighbours, weights = values, k = 1)[0]\n        tree.append(chosen_neighbour['to'])\n        tree_branches.append(chosen_neighbour)\n        visited.append(chosen_neighbour['to'])\n        tree_weight += chosen_neighbour['weight']\n    \n    if tree_weight != float('inf'):\n        return tree, tree_branches, tree_weight\n    else:\n        print(\"There is no such tree in this graph\")",
      "metadata": {
        "trusted": true
      },
      "outputs": [],
      "execution_count": 6
    },
    {
      "cell_type": "code",
      "source": "traverse(0, pheromone_graph, 0.1, 0.1, 3)",
      "metadata": {
        "trusted": true
      },
      "outputs": [
        {
          "execution_count": 7,
          "output_type": "execute_result",
          "data": {
            "text/plain": "([0, 5, 1],\n [{'from': 0, 'to': 5, 'weight': 2, 'pheromones': 0.1},\n  {'from': 0, 'to': 1, 'weight': 3, 'pheromones': 0.1}],\n 5)"
          },
          "metadata": {}
        }
      ],
      "execution_count": 7
    },
    {
      "cell_type": "code",
      "source": "def aco(pheromone_graph, num_ants, rho, num_iters, theta, alpha, beta, k):\n    n = pheromone_graph.shape[0]\n    best_tree = None\n\n    for i in range(pheromone_graph.shape[0]):\n        pheromone_graph = make_pheromone_graph(graph)\n        node_best_tree = None\n        \n        for j in range(num_iters):\n            trees = [traverse(i, pheromone_graph, alpha, beta, k) for _ in range(num_ants)]\n\n            for u in range(n):\n                for v in range(u + 1, n):\n                    if v not in pheromone_graph[u]:\n                        continue\n                    pheromone_graph[u][v]['pheromones'] *= rho\n\n            for tree, tree_branches, tree_weight in trees:\n                delta = theta / tree_weight\n                for branch in tree_branches:\n                    branch['pheromones'] += delta\n\n            ants_best_tree = min(trees, key = lambda c: c[2])\n            if node_best_tree is None or ants_best_tree[2] < node_best_tree[2]:\n                node_best_tree = copy.deepcopy(ants_best_tree)\n\n        if best_tree is None or node_best_tree[2] < best_tree[2]:\n                best_tree = copy.deepcopy(node_best_tree)\n\n    print(best_tree)",
      "metadata": {
        "trusted": true
      },
      "outputs": [],
      "execution_count": 8
    },
    {
      "cell_type": "code",
      "source": "aco(pheromone_graph, 10, 0.9, 100, 0.9, 1.5, 100.0, 10)",
      "metadata": {
        "trusted": true,
        "scrolled": true
      },
      "outputs": [
        {
          "name": "stdout",
          "text": "([0, 5, 1, 7, 8, 9, 10, 4, 3, 11], [{'from': 0, 'to': 5, 'weight': 2, 'pheromones': 0.4114285714285714}, {'from': 0, 'to': 1, 'weight': 3, 'pheromones': 0.4114285714285714}, {'from': 1, 'to': 7, 'weight': 1, 'pheromones': 0.4114285714285714}, {'from': 7, 'to': 8, 'weight': 2, 'pheromones': 0.4114285714285714}, {'from': 8, 'to': 9, 'weight': 1, 'pheromones': 0.4114285714285714}, {'from': 9, 'to': 10, 'weight': 4, 'pheromones': 0.4114285714285714}, {'from': 5, 'to': 4, 'weight': 4, 'pheromones': 0.42142857142857143}, {'from': 9, 'to': 3, 'weight': 5, 'pheromones': 0.42142857142857143}, {'from': 10, 'to': 11, 'weight': 6, 'pheromones': 0.2507142857142857}], 28)\n",
          "output_type": "stream"
        }
      ],
      "execution_count": 9
    },
    {
      "cell_type": "code",
      "source": "",
      "metadata": {
        "trusted": true
      },
      "outputs": [],
      "execution_count": null
    }
  ]
}