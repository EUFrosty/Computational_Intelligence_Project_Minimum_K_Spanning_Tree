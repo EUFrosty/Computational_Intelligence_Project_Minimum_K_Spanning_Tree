{
 "cells": [
  {
   "cell_type": "code",
   "execution_count": 20,
   "metadata": {},
   "outputs": [],
   "source": [
    "import random\n",
    "import numpy as np\n",
    "import copy"
   ]
  },
  {
   "cell_type": "code",
   "execution_count": 21,
   "metadata": {},
   "outputs": [],
   "source": [
    "graph = np.array([[0, 1, 2, 3, 4],\n",
    "                          [1, 0, 5, 6, 7],\n",
    "                          [2, 5, 0, 8, 9],\n",
    "                          [3, 6, 8, 0, 10],\n",
    "                          [4, 7, 9, 10, 0]])"
   ]
  },
  {
   "cell_type": "code",
   "execution_count": 22,
   "metadata": {},
   "outputs": [],
   "source": [
    "def make_pheromone_graph(graph):\n",
    "    pheromone_graph = np.array([])\n",
    "    for i in range(graph.shape[0]):\n",
    "        neighbours = {}\n",
    "        for j in range(graph.shape[1]):\n",
    "            if graph[i][j] == 0:\n",
    "                continue\n",
    "            neighbours[j] = {\n",
    "                \"from\": i,\n",
    "                \"to\": j,\n",
    "                \"weight\": graph[i][j],\n",
    "                \"pheromones\": 0.1\n",
    "            }\n",
    "        pheromone_graph = np.append(pheromone_graph, neighbours)\n",
    "    return pheromone_graph"
   ]
  },
  {
   "cell_type": "code",
   "execution_count": 23,
   "metadata": {
    "scrolled": true
   },
   "outputs": [
    {
     "name": "stdout",
     "output_type": "stream",
     "text": [
      "[{1: {'from': 0, 'to': 1, 'weight': 1, 'pheromones': 0.1}, 2: {'from': 0, 'to': 2, 'weight': 2, 'pheromones': 0.1}, 3: {'from': 0, 'to': 3, 'weight': 3, 'pheromones': 0.1}, 4: {'from': 0, 'to': 4, 'weight': 4, 'pheromones': 0.1}}\n",
      " {0: {'from': 1, 'to': 0, 'weight': 1, 'pheromones': 0.1}, 2: {'from': 1, 'to': 2, 'weight': 5, 'pheromones': 0.1}, 3: {'from': 1, 'to': 3, 'weight': 6, 'pheromones': 0.1}, 4: {'from': 1, 'to': 4, 'weight': 7, 'pheromones': 0.1}}\n",
      " {0: {'from': 2, 'to': 0, 'weight': 2, 'pheromones': 0.1}, 1: {'from': 2, 'to': 1, 'weight': 5, 'pheromones': 0.1}, 3: {'from': 2, 'to': 3, 'weight': 8, 'pheromones': 0.1}, 4: {'from': 2, 'to': 4, 'weight': 9, 'pheromones': 0.1}}\n",
      " {0: {'from': 3, 'to': 0, 'weight': 3, 'pheromones': 0.1}, 1: {'from': 3, 'to': 1, 'weight': 6, 'pheromones': 0.1}, 2: {'from': 3, 'to': 2, 'weight': 8, 'pheromones': 0.1}, 4: {'from': 3, 'to': 4, 'weight': 10, 'pheromones': 0.1}}\n",
      " {0: {'from': 4, 'to': 0, 'weight': 4, 'pheromones': 0.1}, 1: {'from': 4, 'to': 1, 'weight': 7, 'pheromones': 0.1}, 2: {'from': 4, 'to': 2, 'weight': 9, 'pheromones': 0.1}, 3: {'from': 4, 'to': 3, 'weight': 10, 'pheromones': 0.1}}]\n"
     ]
    }
   ],
   "source": [
    "pheromone_graph = make_pheromone_graph(graph)\n",
    "print(pheromone_graph)"
   ]
  },
  {
   "cell_type": "code",
   "execution_count": 24,
   "metadata": {},
   "outputs": [],
   "source": [
    "def add_neighbours(visited, neighbours, pheromone_graph):\n",
    "    for node in visited:\n",
    "        for branch in pheromone_graph[node]:\n",
    "            if pheromone_graph[node][branch]['to'] not in visited:\n",
    "                neighbours.append(pheromone_graph[node][branch])"
   ]
  },
  {
   "cell_type": "code",
   "execution_count": 25,
   "metadata": {},
   "outputs": [],
   "source": [
    "def traverse(i, pheromone_graph, alpha, beta, k):\n",
    "    n = pheromone_graph.shape[0]\n",
    "    tree = [i]\n",
    "    tree_branches = []\n",
    "    tree_weight = 0\n",
    "    visited = [i]\n",
    "    while len(visited) < k:\n",
    "        neighbours = []\n",
    "        add_neighbours(visited, neighbours, pheromone_graph)\n",
    "        if len(neighbours) == 0:\n",
    "            break\n",
    "        values = [v['pheromones']**alpha / v['weight']**beta for v in neighbours]\n",
    "        chosen_neighbour = random.choices(neighbours, weights = values, k = 1)[0]\n",
    "        tree.append(chosen_neighbour['to'])\n",
    "        tree_branches.append(chosen_neighbour)\n",
    "        visited.append(chosen_neighbour['to'])\n",
    "        tree_weight += chosen_neighbour['weight']\n",
    "        \n",
    "    \n",
    "    if tree_weight != float('inf') and len(visited) == k:\n",
    "        return tree, tree_branches, tree_weight"
   ]
  },
  {
   "cell_type": "code",
   "execution_count": 26,
   "metadata": {},
   "outputs": [
    {
     "data": {
      "text/plain": [
       "([0, 2, 1],\n",
       " [{'from': 0, 'to': 2, 'weight': 2, 'pheromones': 0.1},\n",
       "  {'from': 0, 'to': 1, 'weight': 1, 'pheromones': 0.1}],\n",
       " 3)"
      ]
     },
     "execution_count": 26,
     "metadata": {},
     "output_type": "execute_result"
    }
   ],
   "source": [
    "traverse(0, pheromone_graph, 0.1, 0.1, 3)"
   ]
  },
  {
   "cell_type": "code",
   "execution_count": 45,
   "metadata": {},
   "outputs": [],
   "source": [
    "def aco(pheromone_graph, num_ants, rho, num_iters, theta, alpha, beta, k):\n",
    "    n = pheromone_graph.shape[0]\n",
    "    best_tree = None\n",
    "\n",
    "    for i in range(pheromone_graph.shape[0]):\n",
    "        pheromone_graph = make_pheromone_graph(graph)\n",
    "        node_best_tree = None\n",
    "        \n",
    "        for j in range(num_iters):\n",
    "            trees = [traverse(i, pheromone_graph, alpha, beta, k) for _ in range(num_ants)]\n",
    "\n",
    "            check = None\n",
    "            for tree in trees:\n",
    "                if tree is not None:\n",
    "                    check = copy.deepcopy(tree)\n",
    "\n",
    "            if check is None:\n",
    "                break\n",
    "\n",
    "            for u in range(n):\n",
    "                for v in range(u + 1, n):\n",
    "                    if v not in pheromone_graph[u]:\n",
    "                        continue\n",
    "                    pheromone_graph[u][v]['pheromones'] *= rho\n",
    "\n",
    "            for tree, tree_branches, tree_weight in trees:\n",
    "                delta = theta / tree_weight\n",
    "                for branch in tree_branches:\n",
    "                    branch['pheromones'] += delta\n",
    "\n",
    "            ants_best_tree = min(trees, key = lambda c: c[2])\n",
    "            if node_best_tree is None or ants_best_tree[2] < node_best_tree[2]:\n",
    "                node_best_tree = copy.deepcopy(ants_best_tree)\n",
    "\n",
    "        if best_tree is None or node_best_tree[2] < best_tree[2]:\n",
    "                best_tree = copy.deepcopy(node_best_tree)\n",
    "\n",
    "    if best_tree is not None:\n",
    "        print(best_tree)\n",
    "    else:\n",
    "        print(\"No such tree\")"
   ]
  },
  {
   "cell_type": "code",
   "execution_count": 48,
   "metadata": {
    "scrolled": true
   },
   "outputs": [
    {
     "name": "stdout",
     "output_type": "stream",
     "text": [
      "([0, 1, 2], [{'from': 0, 'to': 1, 'weight': 1, 'pheromones': 3.0899999999999994}, {'from': 0, 'to': 2, 'weight': 2, 'pheromones': 3.0899999999999994}], 3)\n"
     ]
    }
   ],
   "source": [
    "aco(pheromone_graph, 10, 0.9, 100, 0.9, 1.5, 100.0, 3)"
   ]
  },
  {
   "cell_type": "code",
   "execution_count": null,
   "metadata": {},
   "outputs": [],
   "source": []
  }
 ],
 "metadata": {
  "kernelspec": {
   "display_name": "Python 3 (ipykernel)",
   "language": "python",
   "name": "python3"
  },
  "language_info": {
   "codemirror_mode": {
    "name": "ipython",
    "version": 3
   },
   "file_extension": ".py",
   "mimetype": "text/x-python",
   "name": "python",
   "nbconvert_exporter": "python",
   "pygments_lexer": "ipython3",
   "version": "3.10.12"
  }
 },
 "nbformat": 4,
 "nbformat_minor": 4
}
