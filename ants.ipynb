{
 "cells": [
  {
   "cell_type": "code",
   "execution_count": 17,
   "metadata": {},
   "outputs": [],
   "source": [
    "import random\n",
    "import copy"
   ]
  },
  {
   "cell_type": "code",
   "execution_count": 18,
   "metadata": {},
   "outputs": [],
   "source": [
    "graph = [[0, 3, 0, 0, 0, 2, 0, 0, 0, 0, 0, 0, 0, 0, 0],\n",
    "                           [3, 0, 0, 7, 0, 0, 0, 1, 0, 0, 0, 0, 0, 0, 0],\n",
    "                           [0, 0, 0, 0, 9, 0, 0, 0, 0, 0, 0, 0, 0, 0, 0],\n",
    "                           [0, 7, 0, 0, 0, 0, 0, 0, 0, 5, 0, 0, 0, 0, 0],\n",
    "                           [0, 0, 9, 0, 0, 4, 0, 0, 0, 0, 0, 0, 0, 0, 0],\n",
    "                           [2, 0, 0, 0, 4, 0, 6, 0, 0, 0, 0, 0, 0, 0, 0],\n",
    "                           [0, 0, 0, 0, 0, 6, 0, 0, 0, 0, 0, 0, 0, 0, 0],\n",
    "                           [0, 1, 0, 0, 0, 0, 0, 0, 2, 0, 0, 0, 0, 0, 0],\n",
    "                           [0, 0, 0, 0, 0, 0, 0, 2, 0, 1, 0, 0, 0, 0, 0],\n",
    "                           [0, 0, 0, 5, 0, 0, 0, 0, 1, 0, 4, 0, 0, 0, 0],\n",
    "                           [0, 0, 0, 0, 0, 0, 0, 0, 0, 4, 0, 6, 0, 0, 0],\n",
    "                           [0, 0, 0, 0, 0, 0, 0, 0, 0, 0, 6, 0, 8, 0, 0],\n",
    "                           [0, 0, 0, 0, 0, 0, 0, 0, 0, 0, 0, 8, 0, 9, 0],\n",
    "                           [0, 0, 0, 0, 0, 0, 0, 0, 0, 0, 0, 0, 9, 0, 1],\n",
    "                           [0, 0, 0, 0, 0, 0, 0, 0, 0, 0, 0, 0, 0, 1, 0]]"
   ]
  },
  {
   "cell_type": "code",
   "execution_count": 19,
   "metadata": {},
   "outputs": [],
   "source": [
    "# matrica tuple-ova: vrsta oznacava polazni cvor, prvi element krajnji, drugi tezinu, treci feromone\n",
    "def make_pheromone_graph(graph):\n",
    "    pheromone_graph = []\n",
    "    for i in range(len(graph)):\n",
    "        neighbours = []\n",
    "        for j in range(len(graph[0])):\n",
    "            if graph[i][j] == 0:\n",
    "                continue\n",
    "            neighbour = [j, graph[i][j], 0.1]\n",
    "            neighbours.append(neighbour)\n",
    "        pheromone_graph.append(neighbours)\n",
    "    return pheromone_graph"
   ]
  },
  {
   "cell_type": "code",
   "execution_count": 20,
   "metadata": {
    "scrolled": true
   },
   "outputs": [
    {
     "name": "stdout",
     "output_type": "stream",
     "text": [
      "[[[1, 3, 0.1], [5, 2, 0.1]], [[0, 3, 0.1], [3, 7, 0.1], [7, 1, 0.1]], [[4, 9, 0.1]], [[1, 7, 0.1], [9, 5, 0.1]], [[2, 9, 0.1], [5, 4, 0.1]], [[0, 2, 0.1], [4, 4, 0.1], [6, 6, 0.1]], [[5, 6, 0.1]], [[1, 1, 0.1], [8, 2, 0.1]], [[7, 2, 0.1], [9, 1, 0.1]], [[3, 5, 0.1], [8, 1, 0.1], [10, 4, 0.1]], [[9, 4, 0.1], [11, 6, 0.1]], [[10, 6, 0.1], [12, 8, 0.1]], [[11, 8, 0.1], [13, 9, 0.1]], [[12, 9, 0.1], [14, 1, 0.1]], [[13, 1, 0.1]]]\n"
     ]
    }
   ],
   "source": [
    "pheromone_graph = make_pheromone_graph(graph)\n",
    "copy_of_pheromone_graph = copy.deepcopy(pheromone_graph)\n",
    "print(pheromone_graph)"
   ]
  },
  {
   "cell_type": "code",
   "execution_count": 21,
   "metadata": {},
   "outputs": [],
   "source": [
    "# dodajemo sve grane koje vode ka neposecenim cvorovima\n",
    "def add_neighbours(visited, neighbours, pheromone_graph):\n",
    "    for node in visited:\n",
    "        for branch in pheromone_graph[node]:\n",
    "            if branch[0] not in visited:\n",
    "                neighbours.append(branch)"
   ]
  },
  {
   "cell_type": "code",
   "execution_count": 22,
   "metadata": {},
   "outputs": [],
   "source": [
    "def traverse(i, pheromone_graph, alpha, beta, k):\n",
    "    n = len(pheromone_graph)\n",
    "    tree = []\n",
    "    tree_weight = 0\n",
    "    visited = [i]\n",
    "    while len(visited) < k:\n",
    "        neighbours = []\n",
    "        add_neighbours(visited, neighbours, pheromone_graph)\n",
    "        if len(neighbours) == 0:\n",
    "            break\n",
    "        values = [v[2]**alpha / v[2]**beta for v in neighbours]\n",
    "        chosen_neighbour = random.choices(neighbours, weights = values, k = 1)[0]\n",
    "        tree.append((i, chosen_neighbour))\n",
    "        tree_weight += chosen_neighbour[1]\n",
    "        visited.append(chosen_neighbour[0])\n",
    "        \n",
    "    \n",
    "    if tree_weight != float('inf') and len(visited) == k:\n",
    "        return tree, tree_weight"
   ]
  },
  {
   "cell_type": "code",
   "execution_count": 23,
   "metadata": {},
   "outputs": [
    {
     "data": {
      "text/plain": [
       "([(0, [1, 3, 0.1]), (0, [5, 2, 0.1])], 5)"
      ]
     },
     "execution_count": 23,
     "metadata": {},
     "output_type": "execute_result"
    }
   ],
   "source": [
    "traverse(0, pheromone_graph, 0.1, 0.1, 3)"
   ]
  },
  {
   "cell_type": "code",
   "execution_count": 24,
   "metadata": {},
   "outputs": [],
   "source": [
    "def aco(pheromone_graph, num_ants, rho, num_iters, theta, alpha, beta, k):\n",
    "    n = len(pheromone_graph)\n",
    "    best_tree = None\n",
    "    \n",
    "    for j in range(num_iters):\n",
    "        pheromone_graph = copy.deepcopy(copy_of_pheromone_graph)\n",
    "        node_best_tree = None\n",
    "        \n",
    "        for i in range(n):\n",
    "            trees = [traverse(i, pheromone_graph, alpha, beta, k) for _ in range(num_ants)]\n",
    "\n",
    "            check = None\n",
    "            for tree in trees:\n",
    "                if tree is not None:\n",
    "                    check = copy.deepcopy(tree)\n",
    "\n",
    "            if check is None:\n",
    "                break\n",
    "\n",
    "            for u in range(n):\n",
    "                for v in range(u + 1, n):\n",
    "                    if v not in pheromone_graph[u]:\n",
    "                        continue\n",
    "                    pheromone_graph[u][v]['pheromones'] *= rho\n",
    "\n",
    "            for tree, tree_weight in trees:\n",
    "                delta = theta / tree_weight\n",
    "                for branch in tree:\n",
    "                    branch[1][2] += delta\n",
    "\n",
    "            ants_best_tree = min(trees, key = lambda c: c[1])\n",
    "            if node_best_tree is None or ants_best_tree[1] < node_best_tree[1]:\n",
    "                node_best_tree = copy.deepcopy(ants_best_tree)\n",
    "\n",
    "        if best_tree is None or node_best_tree[1] < best_tree[1]:\n",
    "                best_tree = copy.deepcopy(node_best_tree)\n",
    "\n",
    "    if best_tree is not None:\n",
    "        print(best_tree)\n",
    "    else:\n",
    "        print(\"No such tree\")"
   ]
  },
  {
   "cell_type": "code",
   "execution_count": 25,
   "metadata": {
    "scrolled": true
   },
   "outputs": [
    {
     "name": "stdout",
     "output_type": "stream",
     "text": [
      "([(8, [7, 2, 1.2483917433917444]), (8, [1, 1, 0.7005357142857144]), (8, [0, 3, 1.1723216441361601]), (8, [5, 2, 1.2742780415860262]), (8, [6, 6, 1.2737496042430734]), (8, [9, 1, 1.3996891415036579]), (8, [3, 5, 1.0774813492958653]), (8, [4, 4, 1.4345764931344775]), (8, [10, 4, 1.4885159089817883])], 28)\n",
      "2.6776187419891357\n"
     ]
    }
   ],
   "source": [
    "import time\n",
    "start = time.time()\n",
    "aco(pheromone_graph, 10, 0.9, 100, 0.9, 1.5, 100.0, 10)\n",
    "end = time.time()\n",
    "print(end - start)"
   ]
  },
  {
   "cell_type": "code",
   "execution_count": 27,
   "metadata": {},
   "outputs": [
    {
     "ename": "KeyboardInterrupt",
     "evalue": "",
     "output_type": "error",
     "traceback": [
      "\u001b[0;31m---------------------------------------------------------------------------\u001b[0m",
      "\u001b[0;31mKeyboardInterrupt\u001b[0m                         Traceback (most recent call last)",
      "Cell \u001b[0;32mIn[27], line 5\u001b[0m\n\u001b[1;32m      3\u001b[0m copy_of_pheromone_graph \u001b[38;5;241m=\u001b[39m copy\u001b[38;5;241m.\u001b[39mdeepcopy(pheromone_graph)\n\u001b[1;32m      4\u001b[0m start \u001b[38;5;241m=\u001b[39m time\u001b[38;5;241m.\u001b[39mtime()\n\u001b[0;32m----> 5\u001b[0m \u001b[43maco\u001b[49m\u001b[43m(\u001b[49m\u001b[43mpheromone_graph\u001b[49m\u001b[43m,\u001b[49m\u001b[43m \u001b[49m\u001b[38;5;241;43m1\u001b[39;49m\u001b[43m,\u001b[49m\u001b[43m \u001b[49m\u001b[38;5;241;43m0.9\u001b[39;49m\u001b[43m,\u001b[49m\u001b[43m \u001b[49m\u001b[38;5;241;43m1\u001b[39;49m\u001b[43m,\u001b[49m\u001b[43m \u001b[49m\u001b[38;5;241;43m0.9\u001b[39;49m\u001b[43m,\u001b[49m\u001b[43m \u001b[49m\u001b[38;5;241;43m1.5\u001b[39;49m\u001b[43m,\u001b[49m\u001b[43m \u001b[49m\u001b[38;5;241;43m100.0\u001b[39;49m\u001b[43m,\u001b[49m\u001b[43m \u001b[49m\u001b[38;5;241;43m10\u001b[39;49m\u001b[43m)\u001b[49m\n\u001b[1;32m      6\u001b[0m end \u001b[38;5;241m=\u001b[39m time\u001b[38;5;241m.\u001b[39mtime()\n\u001b[1;32m      7\u001b[0m \u001b[38;5;28mprint\u001b[39m(end \u001b[38;5;241m-\u001b[39m start)\n",
      "Cell \u001b[0;32mIn[24], line 23\u001b[0m, in \u001b[0;36maco\u001b[0;34m(pheromone_graph, num_ants, rho, num_iters, theta, alpha, beta, k)\u001b[0m\n\u001b[1;32m     21\u001b[0m     \u001b[38;5;28;01mfor\u001b[39;00m v \u001b[38;5;129;01min\u001b[39;00m \u001b[38;5;28mrange\u001b[39m(u \u001b[38;5;241m+\u001b[39m \u001b[38;5;241m1\u001b[39m, n):\n\u001b[1;32m     22\u001b[0m         \u001b[38;5;28;01mif\u001b[39;00m v \u001b[38;5;129;01mnot\u001b[39;00m \u001b[38;5;129;01min\u001b[39;00m pheromone_graph[u]:\n\u001b[0;32m---> 23\u001b[0m             \u001b[38;5;28;01mcontinue\u001b[39;00m\n\u001b[1;32m     24\u001b[0m         pheromone_graph[u][v][\u001b[38;5;124m'\u001b[39m\u001b[38;5;124mpheromones\u001b[39m\u001b[38;5;124m'\u001b[39m] \u001b[38;5;241m*\u001b[39m\u001b[38;5;241m=\u001b[39m rho\n\u001b[1;32m     26\u001b[0m \u001b[38;5;28;01mfor\u001b[39;00m tree, tree_weight \u001b[38;5;129;01min\u001b[39;00m trees:\n",
      "\u001b[0;31mKeyboardInterrupt\u001b[0m: "
     ]
    }
   ],
   "source": [
    "%store -r random_graph\n",
    "pheromone_graph = make_pheromone_graph(random_graph)\n",
    "copy_of_pheromone_graph = copy.deepcopy(pheromone_graph)\n",
    "start = time.time()\n",
    "aco(pheromone_graph, 1, 0.9, 1, 0.9, 1.5, 100.0, 10)\n",
    "end = time.time()\n",
    "print(end - start)"
   ]
  },
  {
   "cell_type": "code",
   "execution_count": null,
   "metadata": {},
   "outputs": [],
   "source": []
  }
 ],
 "metadata": {
  "kernelspec": {
   "display_name": "Python 3 (ipykernel)",
   "language": "python",
   "name": "python3"
  },
  "language_info": {
   "codemirror_mode": {
    "name": "ipython",
    "version": 3
   },
   "file_extension": ".py",
   "mimetype": "text/x-python",
   "name": "python",
   "nbconvert_exporter": "python",
   "pygments_lexer": "ipython3",
   "version": "3.10.12"
  }
 },
 "nbformat": 4,
 "nbformat_minor": 4
}
