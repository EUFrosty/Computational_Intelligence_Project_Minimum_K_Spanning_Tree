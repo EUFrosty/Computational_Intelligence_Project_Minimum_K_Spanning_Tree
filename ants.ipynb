{
 "cells": [
  {
   "cell_type": "code",
   "execution_count": 47,
   "metadata": {},
   "outputs": [],
   "source": [
    "import random\n",
    "import copy"
   ]
  },
  {
   "cell_type": "code",
   "execution_count": 215,
   "metadata": {},
   "outputs": [],
   "source": [
    "graph = [[0, 3, 0, 0, 0, 2, 0, 0, 0, 0, 0, 0, 0, 0, 0],\n",
    "                           [3, 0, 0, 7, 0, 0, 0, 1, 0, 0, 0, 0, 0, 0, 0],\n",
    "                           [0, 0, 0, 0, 9, 0, 0, 0, 0, 0, 0, 0, 0, 0, 0],\n",
    "                           [0, 7, 0, 0, 0, 0, 0, 0, 0, 5, 0, 0, 0, 0, 0],\n",
    "                           [0, 0, 9, 0, 0, 4, 0, 0, 0, 0, 0, 0, 0, 0, 0],\n",
    "                           [2, 0, 0, 0, 4, 0, 6, 0, 0, 0, 0, 0, 0, 0, 0],\n",
    "                           [0, 0, 0, 0, 0, 6, 0, 0, 0, 0, 0, 0, 0, 0, 0],\n",
    "                           [0, 1, 0, 0, 0, 0, 0, 0, 2, 0, 0, 0, 0, 0, 0],\n",
    "                           [0, 0, 0, 0, 0, 0, 0, 2, 0, 1, 0, 0, 0, 0, 0],\n",
    "                           [0, 0, 0, 5, 0, 0, 0, 0, 1, 0, 4, 0, 0, 0, 0],\n",
    "                           [0, 0, 0, 0, 0, 0, 0, 0, 0, 4, 0, 6, 0, 0, 0],\n",
    "                           [0, 0, 0, 0, 0, 0, 0, 0, 0, 0, 6, 0, 8, 0, 0],\n",
    "                           [0, 0, 0, 0, 0, 0, 0, 0, 0, 0, 0, 8, 0, 9, 0],\n",
    "                           [0, 0, 0, 0, 0, 0, 0, 0, 0, 0, 0, 0, 9, 0, 1],\n",
    "                           [0, 0, 0, 0, 0, 0, 0, 0, 0, 0, 0, 0, 0, 1, 0]]"
   ]
  },
  {
   "cell_type": "code",
   "execution_count": 216,
   "metadata": {},
   "outputs": [],
   "source": [
    "# matrica tuple-ova: vrsta oznacava polazni cvor, prvi element krajnji, drugi tezinu, treci feromone\n",
    "def make_pheromone_graph(graph):\n",
    "    pheromone_graph = []\n",
    "    for i in range(len(graph)):\n",
    "        neighbours = []\n",
    "        for j in range(len(graph[0])):\n",
    "            if graph[i][j] == 0:\n",
    "                continue\n",
    "            neighbour = [j, graph[i][j], 0.1]\n",
    "            neighbours.append(neighbour)\n",
    "        pheromone_graph.append(neighbours)\n",
    "    return pheromone_graph"
   ]
  },
  {
   "cell_type": "code",
   "execution_count": 217,
   "metadata": {
    "scrolled": true
   },
   "outputs": [
    {
     "name": "stdout",
     "output_type": "stream",
     "text": [
      "[[[1, 3, 0.1], [5, 2, 0.1]], [[0, 3, 0.1], [3, 7, 0.1], [7, 1, 0.1]], [[4, 9, 0.1]], [[1, 7, 0.1], [9, 5, 0.1]], [[2, 9, 0.1], [5, 4, 0.1]], [[0, 2, 0.1], [4, 4, 0.1], [6, 6, 0.1]], [[5, 6, 0.1]], [[1, 1, 0.1], [8, 2, 0.1]], [[7, 2, 0.1], [9, 1, 0.1]], [[3, 5, 0.1], [8, 1, 0.1], [10, 4, 0.1]], [[9, 4, 0.1], [11, 6, 0.1]], [[10, 6, 0.1], [12, 8, 0.1]], [[11, 8, 0.1], [13, 9, 0.1]], [[12, 9, 0.1], [14, 1, 0.1]], [[13, 1, 0.1]]]\n"
     ]
    }
   ],
   "source": [
    "pheromone_graph = make_pheromone_graph(graph)\n",
    "copy_of_pheromone_graph = copy.deepcopy(pheromone_graph)\n",
    "print(pheromone_graph)"
   ]
  },
  {
   "cell_type": "code",
   "execution_count": 218,
   "metadata": {},
   "outputs": [],
   "source": [
    "# dodajemo sve grane koje vode ka neposecenim cvorovima\n",
    "def add_neighbours(visited, neighbours, pheromone_graph):\n",
    "    for node in visited:\n",
    "        for branch in pheromone_graph[node]:\n",
    "            if branch[0] not in visited:\n",
    "                neighbours.append(branch)"
   ]
  },
  {
   "cell_type": "code",
   "execution_count": 219,
   "metadata": {},
   "outputs": [],
   "source": [
    "def traverse(i, pheromone_graph, alpha, beta, k):\n",
    "    n = len(pheromone_graph)\n",
    "    tree = []\n",
    "    tree_weight = 0\n",
    "    visited = [i]\n",
    "    while len(visited) < k:\n",
    "        neighbours = []\n",
    "        add_neighbours(visited, neighbours, pheromone_graph)\n",
    "        if len(neighbours) == 0:\n",
    "            break\n",
    "        values = [v[2]**alpha / v[2]**beta for v in neighbours]\n",
    "        chosen_neighbour = random.choices(neighbours, weights = values, k = 1)[0]\n",
    "        tree.append((i, chosen_neighbour))\n",
    "        tree_weight += chosen_neighbour[1]\n",
    "        visited.append(chosen_neighbour[0])\n",
    "        \n",
    "    \n",
    "    if tree_weight != float('inf') and len(visited) == k:\n",
    "        return tree, tree_weight"
   ]
  },
  {
   "cell_type": "code",
   "execution_count": 220,
   "metadata": {},
   "outputs": [
    {
     "data": {
      "text/plain": [
       "([(0, [1, 3, 0.1]), (0, [7, 1, 0.1])], 4)"
      ]
     },
     "execution_count": 220,
     "metadata": {},
     "output_type": "execute_result"
    }
   ],
   "source": [
    "traverse(0, pheromone_graph, 0.1, 0.1, 3)"
   ]
  },
  {
   "cell_type": "code",
   "execution_count": 221,
   "metadata": {},
   "outputs": [],
   "source": [
    "def aco(pheromone_graph, num_ants, rho, num_iters, theta, alpha, beta, k):\n",
    "    n = len(pheromone_graph)\n",
    "    best_tree = None\n",
    "\n",
    "    for i in range(n):\n",
    "        pheromone_graph = copy.deepcopy(copy_of_pheromone_graph)\n",
    "        node_best_tree = None\n",
    "        \n",
    "        for j in range(num_iters):\n",
    "            trees = [traverse(i, pheromone_graph, alpha, beta, k) for _ in range(num_ants)]\n",
    "\n",
    "            check = None\n",
    "            for tree in trees:\n",
    "                if tree is not None:\n",
    "                    check = copy.deepcopy(tree)\n",
    "\n",
    "            if check is None:\n",
    "                break\n",
    "\n",
    "            for u in range(n):\n",
    "                for v in range(u + 1, n):\n",
    "                    if v not in pheromone_graph[u]:\n",
    "                        continue\n",
    "                    pheromone_graph[u][v]['pheromones'] *= rho\n",
    "\n",
    "            for tree, tree_weight in trees:\n",
    "                delta = theta / tree_weight\n",
    "                for branch in tree:\n",
    "                    branch[1][2] += delta\n",
    "\n",
    "            ants_best_tree = min(trees, key = lambda c: c[1])\n",
    "            if node_best_tree is None or ants_best_tree[1] < node_best_tree[1]:\n",
    "                node_best_tree = copy.deepcopy(ants_best_tree)\n",
    "\n",
    "        if best_tree is None or node_best_tree[1] < best_tree[1]:\n",
    "                best_tree = copy.deepcopy(node_best_tree)\n",
    "\n",
    "    if best_tree is not None:\n",
    "        print(best_tree)\n",
    "    else:\n",
    "        print(\"No such tree\")"
   ]
  },
  {
   "cell_type": "code",
   "execution_count": 227,
   "metadata": {
    "scrolled": true
   },
   "outputs": [
    {
     "name": "stdout",
     "output_type": "stream",
     "text": [
      "([(0, [5, 2, 17.653308186477073]), (0, [6, 6, 17.331701842905538]), (0, [4, 4, 17.370798617099087]), (0, [1, 3, 18.312079415248295]), (0, [7, 1, 9.6295124690571]), (0, [8, 2, 9.308095150816936]), (0, [9, 1, 9.19271053543232]), (0, [3, 5, 6.382718652315438]), (0, [10, 4, 6.443876565466485])], 28)\n",
      "0.9747581481933594\n"
     ]
    }
   ],
   "source": [
    "import time\n",
    "start = time.time()\n",
    "aco(pheromone_graph, 10, 0.9, 100, 0.9, 1.5, 100.0, 10)\n",
    "end = time.time()\n",
    "print(end - start)"
   ]
  },
  {
   "cell_type": "code",
   "execution_count": null,
   "metadata": {},
   "outputs": [],
   "source": []
  }
 ],
 "metadata": {
  "kernelspec": {
   "display_name": "Python 3 (ipykernel)",
   "language": "python",
   "name": "python3"
  },
  "language_info": {
   "codemirror_mode": {
    "name": "ipython",
    "version": 3
   },
   "file_extension": ".py",
   "mimetype": "text/x-python",
   "name": "python",
   "nbconvert_exporter": "python",
   "pygments_lexer": "ipython3",
   "version": "3.8.10"
  }
 },
 "nbformat": 4,
 "nbformat_minor": 4
}
