{
 "cells": [
  {
   "cell_type": "code",
   "execution_count": 67,
   "id": "df1272bb-0f1a-4b03-b685-c3c2d778b01b",
   "metadata": {},
   "outputs": [],
   "source": [
    "import import_ipynb\n",
    "from datetime import datetime\n",
    "import copy\n",
    "import numpy as np\n",
    "import random\n",
    "import graph_generator as gg\n",
    "import networkx as nx\n",
    "import time\n",
    "from time import perf_counter"
   ]
  },
  {
   "cell_type": "code",
   "execution_count": 68,
   "id": "12f9b473-aa31-4ee0-850f-d580b2c50bd4",
   "metadata": {},
   "outputs": [],
   "source": [
    "graph = gg.generate_graph(50)"
   ]
  },
  {
   "cell_type": "code",
   "execution_count": 69,
   "id": "0998e04c-d046-4415-9705-b384a9c133f3",
   "metadata": {},
   "outputs": [],
   "source": [
    "tree = nx.minimum_spanning_tree(graph)"
   ]
  },
  {
   "cell_type": "code",
   "execution_count": 70,
   "id": "dd2b1abf-a730-4daa-b16b-4a302fdc4955",
   "metadata": {},
   "outputs": [],
   "source": [
    "def add_neighbours(tree, visited):\n",
    "    new_neighbours = []\n",
    "    for node in visited:\n",
    "        for edge in tree[node]:\n",
    "            if edge not in visited:\n",
    "                #print(node, edge)\n",
    "                new_neighbours.append((node, edge))\n",
    "    return new_neighbours"
   ]
  },
  {
   "cell_type": "code",
   "execution_count": 71,
   "id": "1993bf67-c007-4ed2-8354-0150d53e4ab6",
   "metadata": {},
   "outputs": [],
   "source": [
    "def initialize_solution(tree, k):\n",
    "    start_node = random.randint(0, len(tree)-1)\n",
    "    solution = [False for _ in range(len(tree))]\n",
    "    solution[start_node] = True\n",
    "    visited = [start_node]\n",
    "    neighbours = add_neighbours(tree, visited)\n",
    "    weight = 0\n",
    "    edges = []\n",
    "\n",
    "    counter = 1\n",
    "    while counter < k:\n",
    "        chosen = random.randint(0, len(neighbours)-1)\n",
    "        visited.append(neighbours[chosen][1])\n",
    "        edges.append((neighbours[chosen][0], neighbours[chosen][1]))\n",
    "        solution[neighbours[chosen][1]] = True\n",
    "        weight += tree[neighbours[chosen][0]][neighbours[chosen][1]]['weight']\n",
    "\n",
    "        neighbours = add_neighbours(tree, visited)\n",
    "        counter += 1\n",
    "\n",
    "    return solution, edges, weight"
   ]
  },
  {
   "cell_type": "code",
   "execution_count": 72,
   "id": "19518b3f-afa7-4384-a4f3-649edc395727",
   "metadata": {
    "scrolled": true
   },
   "outputs": [
    {
     "name": "stdout",
     "output_type": "stream",
     "text": [
      "[False, False, False, True, False, True, False, False, False, False, True, False, False, False, False, False, False, False, False, False, False, False, False, False, False, False, False, False, False, False, False, True, False, False, False, False, False, False, False, False, False, False, False, False, True, False, False, False, False, False]\n",
      "[(3, 5), (5, 44), (44, 10), (44, 31)]\n",
      "115\n"
     ]
    }
   ],
   "source": [
    "solution, edges, weight = initialize_solution(tree, 5)\n",
    "print(solution)\n",
    "print(edges)\n",
    "print(weight)"
   ]
  },
  {
   "cell_type": "code",
   "execution_count": 73,
   "id": "eb80af34-5f03-4fbc-9353-8b14f66ac74f",
   "metadata": {},
   "outputs": [],
   "source": [
    "def add_neighbours_except_k(tree, nodes_in_tree, k):\n",
    "    new_neighbours = []\n",
    "    for node in nodes_in_tree:\n",
    "        if node != k:\n",
    "            for neighbour in tree[node]:\n",
    "                if neighbour not in nodes_in_tree:\n",
    "                    new_neighbours.append((node, neighbour))\n",
    "    return new_neighbours"
   ]
  },
  {
   "cell_type": "code",
   "execution_count": 74,
   "id": "ed1f4b7b-81aa-421e-a74f-6017f07741ba",
   "metadata": {},
   "outputs": [],
   "source": [
    "def find_candidates(tree, nodes_in_tree, edges):\n",
    "    candidates = []\n",
    "    num_of_connections = dict()\n",
    "    for node in tree:\n",
    "        num_of_connections[node] = 0\n",
    "    \n",
    "    for edge in edges:\n",
    "        num_of_connections[edge[0]] += 1\n",
    "        num_of_connections[edge[1]] += 1\n",
    "\n",
    "    for connection in num_of_connections:\n",
    "        if num_of_connections[connection] == 1:\n",
    "            candidates.append(connection)\n",
    "        \n",
    "    \n",
    "    return candidates"
   ]
  },
  {
   "cell_type": "code",
   "execution_count": 75,
   "id": "6f6a843f-c31d-4d7c-8596-ab076c57e790",
   "metadata": {},
   "outputs": [
    {
     "name": "stdout",
     "output_type": "stream",
     "text": [
      "[3, 5, 10, 31, 44]\n",
      "2\n"
     ]
    },
    {
     "data": {
      "text/plain": [
       "[(5, 48), (31, 43), (44, 40), (44, 17)]"
      ]
     },
     "execution_count": 75,
     "metadata": {},
     "output_type": "execute_result"
    }
   ],
   "source": [
    "##TEST\n",
    "\n",
    "nodes_in_tree = []\n",
    "for i in range(len(tree)):\n",
    "        if solution[i]:\n",
    "            nodes_in_tree.append(i)\n",
    "print(nodes_in_tree)\n",
    "chosen = random.randint(0, len(nodes_in_tree)-1)\n",
    "print(chosen)\n",
    "add_neighbours_except_k(tree, nodes_in_tree, nodes_in_tree[chosen])\n",
    "\n"
   ]
  },
  {
   "cell_type": "code",
   "execution_count": 76,
   "id": "0f375f41-882d-4e3e-a639-1f9840e80efd",
   "metadata": {},
   "outputs": [],
   "source": [
    "def invert_first_improvement(tree, solution, weight, edges):\n",
    "    new_solution = copy.deepcopy(solution)\n",
    "    new_weight = weight\n",
    "    improved = True\n",
    "    while improved:\n",
    "        improved = False\n",
    "        nodes_in_tree = []\n",
    "        for i in range(len(new_solution)):\n",
    "            if new_solution[i]:\n",
    "                nodes_in_tree.append(i)\n",
    "        candidates = find_candidates(tree, nodes_in_tree, edges)\n",
    "        chosen_candidate = random.randint(0, len(candidates)-1) #ovde ponekad vrati da je range (0, 0, 0) i puca\n",
    "        neighbours = add_neighbours_except_k(tree, nodes_in_tree, candidates[chosen_candidate])\n",
    "\n",
    "        new_solution[candidates[chosen_candidate]] = False\n",
    "        new_edges = []\n",
    "        for edge in edges:\n",
    "            if edge[1] != candidates[chosen_candidate]:\n",
    "                new_edges.append(edge)\n",
    "            else:\n",
    "                new_weight -= tree[edge[0]][edge[1]]['weight']\n",
    "        if len(neighbours) == 0:\n",
    "            break\n",
    "        chosen_neighbour = random.randint(0, len(neighbours)-1)\n",
    "        new_weight += tree[neighbours[chosen_neighbour][0]][neighbours[chosen_neighbour][1]]['weight']\n",
    "        new_solution[neighbours[chosen_neighbour][1]] = True\n",
    "        new_edges.append((neighbours[chosen_neighbour][0], neighbours[chosen_neighbour][1]))\n",
    "\n",
    "        if new_weight < weight:\n",
    "            weight = new_weight\n",
    "            solution = new_solution\n",
    "            edges = copy.deepcopy(new_edges)\n",
    "            improved = True\n",
    "        else:\n",
    "            new_weight = weight\n",
    "            new_solution = solution\n",
    "\n",
    "    return solution, edges, weight\n",
    "        "
   ]
  },
  {
   "cell_type": "code",
   "execution_count": 77,
   "id": "80b8358f-807e-4673-a724-10bf95b02a7f",
   "metadata": {
    "scrolled": true
   },
   "outputs": [
    {
     "data": {
      "text/plain": [
       "([False,\n",
       "  False,\n",
       "  False,\n",
       "  True,\n",
       "  False,\n",
       "  True,\n",
       "  False,\n",
       "  False,\n",
       "  False,\n",
       "  False,\n",
       "  False,\n",
       "  False,\n",
       "  False,\n",
       "  False,\n",
       "  False,\n",
       "  False,\n",
       "  False,\n",
       "  False,\n",
       "  False,\n",
       "  False,\n",
       "  False,\n",
       "  False,\n",
       "  False,\n",
       "  False,\n",
       "  False,\n",
       "  False,\n",
       "  False,\n",
       "  False,\n",
       "  False,\n",
       "  False,\n",
       "  False,\n",
       "  True,\n",
       "  False,\n",
       "  False,\n",
       "  False,\n",
       "  False,\n",
       "  False,\n",
       "  False,\n",
       "  False,\n",
       "  False,\n",
       "  True,\n",
       "  False,\n",
       "  False,\n",
       "  False,\n",
       "  True,\n",
       "  False,\n",
       "  False,\n",
       "  False,\n",
       "  False,\n",
       "  False],\n",
       " [(3, 5), (5, 44), (44, 31), (5, 48)],\n",
       " 103)"
      ]
     },
     "execution_count": 77,
     "metadata": {},
     "output_type": "execute_result"
    }
   ],
   "source": [
    "invert_first_improvement(tree, solution, weight, edges)"
   ]
  },
  {
   "cell_type": "code",
   "execution_count": 78,
   "id": "c9fe3dc6-2204-42d8-8f78-5f0a74ba6215",
   "metadata": {},
   "outputs": [],
   "source": [
    "def shaking(tree, k):\n",
    "    new_solution = initialize_solution(tree, k)\n",
    "    return new_solution"
   ]
  },
  {
   "cell_type": "code",
   "execution_count": 86,
   "id": "9630ab22-4cd9-44b5-b766-25f9ec857ace",
   "metadata": {},
   "outputs": [],
   "source": [
    "vns_params = {\n",
    "    'time_limit': 2,\n",
    "    'l_min': 1,\n",
    "    'l_max': 2,\n",
    "    'move_prob': 0.5,\n",
    "}"
   ]
  },
  {
   "cell_type": "code",
   "execution_count": 80,
   "id": "a77d9335-0258-4a4a-afde-0c8336c01d75",
   "metadata": {},
   "outputs": [],
   "source": [
    "def vns_algorithm(tree, k, vns_params):\n",
    "    start_time = perf_counter()\n",
    "    solution, edges, weight = initialize_solution(tree, k)\n",
    "    while perf_counter() - start_time < vns_params['time_limit']:\n",
    "        for l in range(vns_params['l_min'], vns_params['l_max']):\n",
    "            new_solution, new_edges, new_weight = shaking(tree, k) #diverzifikacija\n",
    "            new_solution, new_edges, new_weight = invert_first_improvement(tree, new_solution, new_weight, new_edges) #intenzifikacija\n",
    "\n",
    "            if new_weight < weight or (new_weight == weight and random.random() < vns_params['move_prob']):\n",
    "                solution = new_solution\n",
    "                weight = new_weight\n",
    "                edges = copy.deepcopy(new_edges)\n",
    "\n",
    "    return solution, edges, weight\n",
    "            "
   ]
  },
  {
   "cell_type": "code",
   "execution_count": 81,
   "id": "857ab2dc-fdf5-4117-98f6-79bb564a6cac",
   "metadata": {
    "scrolled": true
   },
   "outputs": [
    {
     "data": {
      "text/plain": [
       "([False,\n",
       "  False,\n",
       "  False,\n",
       "  False,\n",
       "  False,\n",
       "  False,\n",
       "  False,\n",
       "  False,\n",
       "  False,\n",
       "  False,\n",
       "  False,\n",
       "  False,\n",
       "  True,\n",
       "  False,\n",
       "  False,\n",
       "  False,\n",
       "  False,\n",
       "  False,\n",
       "  True,\n",
       "  False,\n",
       "  False,\n",
       "  False,\n",
       "  False,\n",
       "  False,\n",
       "  False,\n",
       "  True,\n",
       "  False,\n",
       "  False,\n",
       "  False,\n",
       "  False,\n",
       "  False,\n",
       "  False,\n",
       "  False,\n",
       "  False,\n",
       "  False,\n",
       "  False,\n",
       "  False,\n",
       "  False,\n",
       "  True,\n",
       "  False,\n",
       "  False,\n",
       "  False,\n",
       "  True,\n",
       "  False,\n",
       "  False,\n",
       "  False,\n",
       "  False,\n",
       "  False,\n",
       "  False,\n",
       "  False],\n",
       " [(25, 12), (25, 42), (12, 38), (38, 18)],\n",
       " 44)"
      ]
     },
     "execution_count": 81,
     "metadata": {},
     "output_type": "execute_result"
    }
   ],
   "source": [
    "vns_algorithm(tree, 5, vns_params)"
   ]
  },
  {
   "cell_type": "code",
   "execution_count": 82,
   "id": "f2522ee2-e8ef-490c-9de4-d79db1ae2638",
   "metadata": {},
   "outputs": [],
   "source": [
    "def vns(graph, k, vns_params):\n",
    "    start = time.time()\n",
    "    tree = nx.minimum_spanning_tree(graph)\n",
    "    solution, edges, weight = vns_algorithm(tree, k, vns_params)\n",
    "    end = time.time()\n",
    "    print(solution, edges, weight)\n",
    "    print(end-start)"
   ]
  },
  {
   "cell_type": "code",
   "execution_count": 87,
   "id": "142f6892-d6a4-4461-b0bd-47b76a23a3cc",
   "metadata": {},
   "outputs": [
    {
     "name": "stdout",
     "output_type": "stream",
     "text": [
      "[False, False, False, False, False, True, False, False, False, False, True, False, False, True, False, False, False, False, False, False, False, False, False, False, False, False, False, False, False, False, False, False, False, False, False, False, False, False, False, False, False, False, False, False, True, False, False, False, True, False] [(13, 48), (48, 5), (5, 44), (44, 10)] 44\n",
      "2.0073111057281494\n"
     ]
    }
   ],
   "source": [
    "vns(graph, 5, vns_params)"
   ]
  },
  {
   "cell_type": "code",
   "execution_count": null,
   "id": "1f322502-04da-4385-bafb-f7dff069a0e5",
   "metadata": {},
   "outputs": [],
   "source": []
  }
 ],
 "metadata": {
  "kernelspec": {
   "display_name": "Python 3 (ipykernel)",
   "language": "python",
   "name": "python3"
  },
  "language_info": {
   "codemirror_mode": {
    "name": "ipython",
    "version": 3
   },
   "file_extension": ".py",
   "mimetype": "text/x-python",
   "name": "python",
   "nbconvert_exporter": "python",
   "pygments_lexer": "ipython3",
   "version": "3.10.12"
  }
 },
 "nbformat": 4,
 "nbformat_minor": 5
}
