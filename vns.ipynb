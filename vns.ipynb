{
 "cells": [
  {
   "cell_type": "code",
   "execution_count": 1,
   "id": "df1272bb-0f1a-4b03-b685-c3c2d778b01b",
   "metadata": {},
   "outputs": [],
   "source": [
    "import import_ipynb\n",
    "from datetime import datetime\n",
    "import copy\n",
    "import numpy as np\n",
    "import random\n",
    "import graph_generator as gg\n",
    "import networkx as nx\n",
    "import time\n",
    "from time import perf_counter"
   ]
  },
  {
   "cell_type": "code",
   "execution_count": 4,
   "id": "dd2b1abf-a730-4daa-b16b-4a302fdc4955",
   "metadata": {},
   "outputs": [],
   "source": [
    "def add_neighbours(tree, visited):\n",
    "    new_neighbours = []\n",
    "    for node in visited:\n",
    "        for edge in tree[node]:\n",
    "            if edge not in visited:\n",
    "                #print(node, edge)\n",
    "                new_neighbours.append((node, edge))\n",
    "    return new_neighbours"
   ]
  },
  {
   "cell_type": "code",
   "execution_count": 5,
   "id": "1993bf67-c007-4ed2-8354-0150d53e4ab6",
   "metadata": {},
   "outputs": [],
   "source": [
    "def initialize_solution(tree, k):\n",
    "    start_node = random.randint(0, len(tree)-1)\n",
    "    solution = [False for _ in range(len(tree))]\n",
    "    solution[start_node] = True\n",
    "    visited = [start_node]\n",
    "    neighbours = add_neighbours(tree, visited)\n",
    "    weight = 0\n",
    "    edges = []\n",
    "\n",
    "    counter = 1\n",
    "    while counter < k:\n",
    "        chosen = random.randint(0, len(neighbours)-1)\n",
    "        visited.append(neighbours[chosen][1])\n",
    "        edges.append((neighbours[chosen][0], neighbours[chosen][1]))\n",
    "        solution[neighbours[chosen][1]] = True\n",
    "        weight += tree[neighbours[chosen][0]][neighbours[chosen][1]]['weight']\n",
    "\n",
    "        neighbours = add_neighbours(tree, visited)\n",
    "        counter += 1\n",
    "\n",
    "    return solution, edges, weight"
   ]
  },
  {
   "cell_type": "code",
   "execution_count": 7,
   "id": "eb80af34-5f03-4fbc-9353-8b14f66ac74f",
   "metadata": {},
   "outputs": [],
   "source": [
    "def add_neighbours_except_k(tree, nodes_in_tree, k):\n",
    "    new_neighbours = []\n",
    "    for node in nodes_in_tree:\n",
    "        if node != k:\n",
    "            for neighbour in tree[node]:\n",
    "                if neighbour not in nodes_in_tree:\n",
    "                    new_neighbours.append((node, neighbour))\n",
    "    return new_neighbours"
   ]
  },
  {
   "cell_type": "code",
   "execution_count": 8,
   "id": "ed1f4b7b-81aa-421e-a74f-6017f07741ba",
   "metadata": {},
   "outputs": [],
   "source": [
    "def find_candidates(tree, nodes_in_tree, edges):\n",
    "    candidates = []\n",
    "    num_of_connections = dict()\n",
    "    for node in tree:\n",
    "        num_of_connections[node] = 0\n",
    "    \n",
    "    for edge in edges:\n",
    "        num_of_connections[edge[0]] += 1\n",
    "        num_of_connections[edge[1]] += 1\n",
    "\n",
    "    for connection in num_of_connections:\n",
    "        if num_of_connections[connection] == 1:\n",
    "            candidates.append(connection)\n",
    "        \n",
    "    \n",
    "    return candidates"
   ]
  },
  {
   "cell_type": "code",
   "execution_count": 10,
   "id": "0f375f41-882d-4e3e-a639-1f9840e80efd",
   "metadata": {},
   "outputs": [],
   "source": [
    "def invert_first_improvement(tree, solution, weight, edges):\n",
    "    new_solution = copy.deepcopy(solution)\n",
    "    new_weight = weight\n",
    "    improved = True\n",
    "    while improved:\n",
    "        improved = False\n",
    "        nodes_in_tree = []\n",
    "        for i in range(len(new_solution)):\n",
    "            if new_solution[i]:\n",
    "                nodes_in_tree.append(i)\n",
    "        candidates = find_candidates(tree, nodes_in_tree, edges)\n",
    "        chosen_candidate = random.randint(0, len(candidates)-1) #ovde ponekad vrati da je range (0, 0, 0) i puca\n",
    "        neighbours = add_neighbours_except_k(tree, nodes_in_tree, candidates[chosen_candidate])\n",
    "\n",
    "        new_solution[candidates[chosen_candidate]] = False\n",
    "        new_edges = []\n",
    "        for edge in edges:\n",
    "            if edge[1] != candidates[chosen_candidate]:\n",
    "                new_edges.append(edge)\n",
    "            else:\n",
    "                new_weight -= tree[edge[0]][edge[1]]['weight']\n",
    "        if len(neighbours) == 0:\n",
    "            break\n",
    "        chosen_neighbour = random.randint(0, len(neighbours)-1)\n",
    "        new_weight += tree[neighbours[chosen_neighbour][0]][neighbours[chosen_neighbour][1]]['weight']\n",
    "        new_solution[neighbours[chosen_neighbour][1]] = True\n",
    "        new_edges.append((neighbours[chosen_neighbour][0], neighbours[chosen_neighbour][1]))\n",
    "\n",
    "        if new_weight < weight:\n",
    "            weight = new_weight\n",
    "            solution = new_solution\n",
    "            edges = copy.deepcopy(new_edges)\n",
    "            improved = True\n",
    "        else:\n",
    "            new_weight = weight\n",
    "            new_solution = solution\n",
    "\n",
    "    return solution, edges, weight\n",
    "        "
   ]
  },
  {
   "cell_type": "code",
   "execution_count": 12,
   "id": "c9fe3dc6-2204-42d8-8f78-5f0a74ba6215",
   "metadata": {},
   "outputs": [],
   "source": [
    "def shaking(tree, k):\n",
    "    new_solution = initialize_solution(tree, k)\n",
    "    return new_solution"
   ]
  },
  {
   "cell_type": "code",
   "execution_count": 13,
   "id": "9630ab22-4cd9-44b5-b766-25f9ec857ace",
   "metadata": {},
   "outputs": [],
   "source": [
    "vns_params = {\n",
    "    'time_limit': 2,\n",
    "    'l_min': 1,\n",
    "    'l_max': 2,\n",
    "    'move_prob': 0.5,\n",
    "}"
   ]
  },
  {
   "cell_type": "code",
   "execution_count": 14,
   "id": "a77d9335-0258-4a4a-afde-0c8336c01d75",
   "metadata": {},
   "outputs": [],
   "source": [
    "def vns_algorithm(tree, k, vns_params):\n",
    "    start_time = perf_counter()\n",
    "    solution, edges, weight = initialize_solution(tree, k)\n",
    "    while perf_counter() - start_time < vns_params['time_limit']:\n",
    "        for l in range(vns_params['l_min'], vns_params['l_max']):\n",
    "            new_solution, new_edges, new_weight = shaking(tree, k) #diverzifikacija\n",
    "            new_solution, new_edges, new_weight = invert_first_improvement(tree, new_solution, new_weight, new_edges) #intenzifikacija\n",
    "\n",
    "            if new_weight < weight or (new_weight == weight and random.random() < vns_params['move_prob']):\n",
    "                solution = new_solution\n",
    "                weight = new_weight\n",
    "                edges = copy.deepcopy(new_edges)\n",
    "\n",
    "    return solution, edges, weight\n",
    "            "
   ]
  },
  {
   "cell_type": "code",
   "execution_count": 16,
   "id": "f2522ee2-e8ef-490c-9de4-d79db1ae2638",
   "metadata": {},
   "outputs": [],
   "source": [
    "def vns(graph, k, time_limit):\n",
    "    start = time.time()\n",
    "    vns_params = {\n",
    "    'time_limit': time_limit,\n",
    "    'l_min': 1,\n",
    "    'l_max': 2,\n",
    "    'move_prob': 0.5,\n",
    "    }\n",
    "    tree = nx.minimum_spanning_tree(graph)\n",
    "    solution, edges, weight = vns_algorithm(tree, k, vns_params)\n",
    "    end = time.time()\n",
    "    print(edges, weight)\n",
    "    print(end-start)\n",
    "    \n",
    "    return edges"
   ]
  }
 ],
 "metadata": {
  "kernelspec": {
   "display_name": "Python 3 (ipykernel)",
   "language": "python",
   "name": "python3"
  },
  "language_info": {
   "codemirror_mode": {
    "name": "ipython",
    "version": 3
   },
   "file_extension": ".py",
   "mimetype": "text/x-python",
   "name": "python",
   "nbconvert_exporter": "python",
   "pygments_lexer": "ipython3",
   "version": "3.8.10"
  }
 },
 "nbformat": 4,
 "nbformat_minor": 5
}
