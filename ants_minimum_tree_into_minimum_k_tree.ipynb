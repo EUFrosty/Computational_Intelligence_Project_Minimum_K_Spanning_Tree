{
 "cells": [
  {
   "cell_type": "code",
   "execution_count": 1,
   "id": "3e5db9e6-cd40-4050-b101-9defe2b69539",
   "metadata": {},
   "outputs": [],
   "source": [
    "import random\n",
    "import copy\n",
    "import time"
   ]
  },
  {
   "cell_type": "code",
   "execution_count": 2,
   "id": "45b2259e-98e7-4d2c-9cd3-2fd5e81b43fd",
   "metadata": {},
   "outputs": [],
   "source": [
    "# dodajemo sve grane koje vode ka neposecenim cvorovima\n",
    "def add_neighbours(visited, neighbours, pheromone_graph):\n",
    "    for node in visited:\n",
    "        for edge in pheromone_graph[node]:\n",
    "            if edge not in visited:\n",
    "                neighbours.append((node, edge))"
   ]
  },
  {
   "cell_type": "code",
   "execution_count": 3,
   "id": "8c4b8091-c4d3-423b-94bf-cabf030a1435",
   "metadata": {},
   "outputs": [],
   "source": [
    "def traverse(pheromone_graph, alpha, beta):\n",
    "    n = len(pheromone_graph)\n",
    "    tree = []\n",
    "    tree_weight = float('inf')\n",
    "    visited = [0]\n",
    "    while len(visited) < n:\n",
    "        neighbours = []\n",
    "        add_neighbours(visited, neighbours, pheromone_graph)\n",
    "        if len(neighbours) == 0:\n",
    "            break\n",
    "        values = [pheromone_graph[v[0]][v[1]]['pheromones']**alpha / pheromone_graph[v[0]][v[1]]['weight']**beta for v in neighbours]\n",
    "        chosen_neighbour = random.choices(neighbours, weights = values, k = 1)[0]\n",
    "        tree.append(chosen_neighbour)\n",
    "        #print((chosen_neighbour[1], chosen_neighbour[0]))\n",
    "        tree_weight += pheromone_graph[chosen_neighbour[0]][chosen_neighbour[1]]['weight']\n",
    "        visited.append(chosen_neighbour[1])\n",
    "    \n",
    "    return (tree, tree_weight)"
   ]
  },
  {
   "cell_type": "code",
   "execution_count": 4,
   "id": "4b427d8a-e327-41e2-ae00-94e8eae66f9f",
   "metadata": {},
   "outputs": [],
   "source": [
    "def aco(pheromone_graph, num_ants, rho, num_iters, theta, alpha, beta):\n",
    "    start = time.time()\n",
    "    best_tree = ([], float('inf'))\n",
    "    \n",
    "    for j in range(num_iters):\n",
    "        trees = [traverse(pheromone_graph, alpha, beta) for _ in range(num_ants)]\n",
    "\n",
    "        for edge in pheromone_graph.edges:\n",
    "            pheromone_graph[edge[0]][edge[1]]['pheromones'] *= rho\n",
    "\n",
    "        for tree, tree_weight in trees:\n",
    "            delta = theta / tree_weight\n",
    "            for branch in tree:\n",
    "                pheromone_graph[branch[0]][branch[1]]['pheromones'] += delta\n",
    "\n",
    "        ants_best_tree = min(trees, key = lambda c: c[1])\n",
    "        if best_tree[0] == [] or ants_best_tree[1] < best_tree[1]:\n",
    "            best_tree = copy.deepcopy(ants_best_tree)\n",
    "\n",
    "    if best_tree[0] != []:\n",
    "        print(best_tree)\n",
    "    else:\n",
    "        print(\"Not possible to construct a sufficient tree\")\n",
    "        \n",
    "    end = time.time()\n",
    "    print(end - start)\n",
    "    \n",
    "    return best_tree"
   ]
  },
  {
   "cell_type": "code",
   "execution_count": 5,
   "id": "67daebf2-3f33-46e3-be58-06edf8b743c2",
   "metadata": {},
   "outputs": [],
   "source": [
    "def select_k_tree(tree, k):\n",
    "    ##\"Samo\" ovo treba da se odradi lepo\n",
    "    #nmp\n",
    "    pass"
   ]
  },
  {
   "cell_type": "code",
   "execution_count": 6,
   "id": "9f678594-0492-431b-ab21-82190b95f076",
   "metadata": {},
   "outputs": [],
   "source": [
    "def minimum_k_tree(pheromone_graph, k):\n",
    "    start = time.time()\n",
    "    tree = aco(pheromone_graph, 10, 0.9, 100, 0.9, 1.5, 100.0)\n",
    "    select_k_tree(tree, k)\n",
    "    \n",
    "    end = time.time()\n",
    "    print(end - start)"
   ]
  },
  {
   "cell_type": "code",
   "execution_count": null,
   "id": "25151540-7af8-454d-846c-6810958deca0",
   "metadata": {},
   "outputs": [],
   "source": []
  }
 ],
 "metadata": {
  "kernelspec": {
   "display_name": "Python 3 (ipykernel)",
   "language": "python",
   "name": "python3"
  },
  "language_info": {
   "codemirror_mode": {
    "name": "ipython",
    "version": 3
   },
   "file_extension": ".py",
   "mimetype": "text/x-python",
   "name": "python",
   "nbconvert_exporter": "python",
   "pygments_lexer": "ipython3",
   "version": "3.8.10"
  }
 },
 "nbformat": 4,
 "nbformat_minor": 5
}
