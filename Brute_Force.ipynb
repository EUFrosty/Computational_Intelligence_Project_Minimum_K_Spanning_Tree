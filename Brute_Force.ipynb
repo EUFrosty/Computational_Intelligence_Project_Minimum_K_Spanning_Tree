{
 "cells": [
  {
   "cell_type": "code",
   "execution_count": 114,
   "id": "d9899b6b-572e-4454-a569-b082e94602a2",
   "metadata": {},
   "outputs": [],
   "source": [
    "import numpy as np\n",
    "import copy"
   ]
  },
  {
   "cell_type": "code",
   "execution_count": 115,
   "id": "9dc33194-5c73-4402-82c9-0881f582ba5d",
   "metadata": {},
   "outputs": [],
   "source": [
    "graph_5_nodes = np.array([[0, 1, 2, 3, 4],\n",
    "                          [1, 0, 5, 6, 7],\n",
    "                          [2, 5, 0, 8, 9],\n",
    "                          [3, 6, 8, 0, 10],\n",
    "                          [4, 7, 9, 10, 0]])\n"
   ]
  },
  {
   "cell_type": "markdown",
   "id": "adb17a09-b186-4845-a8e4-a577caa4188e",
   "metadata": {},
   "source": [
    "Za k = 3, resenje: [(0, 1), (0, 2)], 3"
   ]
  },
  {
   "cell_type": "code",
   "execution_count": 116,
   "id": "ee165f98-40d4-47c1-a9ad-554ba7ed50cf",
   "metadata": {},
   "outputs": [],
   "source": [
    "graph_10_nodes = np.array([[0, 3, 8, 0, 0, 2, 0, 0, 0, 0],\n",
    "                           [3, 0, 0, 7, 0, 0, 0, 1, 0, 0],\n",
    "                           [8, 0, 0, 0, 9, 0, 0, 0, 0, 0],\n",
    "                           [0, 7, 0, 0, 0, 0, 0, 0, 0, 5],\n",
    "                           [0, 0, 9, 0, 0, 4, 0, 0, 0, 0],\n",
    "                           [2, 0, 0, 0, 4, 0, 6, 0, 0, 0],\n",
    "                           [0, 0, 0, 0, 0, 6, 0, 0, 0, 0],\n",
    "                           [0, 1, 0, 0, 0, 0, 0, 0, 2, 0],\n",
    "                           [0, 0, 0, 0, 0, 0, 0, 2, 0, 1],\n",
    "                           [0, 0, 0, 5, 0, 0, 0, 0, 1, 0]])\n"
   ]
  },
  {
   "cell_type": "markdown",
   "id": "dbdf77a5-1efc-462b-808c-4f0ce6d826b3",
   "metadata": {},
   "source": [
    "Za k = 5, resenje: [(1, 7), (7, 8), (8, 9), (1, 0)], 7"
   ]
  },
  {
   "cell_type": "code",
   "execution_count": 117,
   "id": "d4eb0bbd-36d4-43b2-b08b-76f87c0735d1",
   "metadata": {},
   "outputs": [],
   "source": [
    "graph_connected = np.array([[0, 3, 4, 5, 1, 2, 3, 0, 0, 0],\n",
    "                            [3, 0, 5, 2, 1, 0, 0, 1, 0, 0],\n",
    "                            [4, 5, 0, 1, 2, 0, 0, 0, 1, 0],\n",
    "                            [5, 2, 1, 0, 3, 0, 0, 0, 0, 1],\n",
    "                            [1, 1, 2, 3, 0, 0, 0, 0, 0, 0],\n",
    "                            [2, 0, 0, 0, 0, 0, 2, 3, 0, 0],\n",
    "                            [3, 0, 0, 0, 0, 2, 0, 1, 0, 0],\n",
    "                            [0, 1, 0, 0, 0, 3, 1, 0, 1, 0],\n",
    "                            [0, 0, 1, 0, 0, 0, 0, 1, 0, 1],\n",
    "                            [0, 0, 0, 1, 0, 0, 0, 0, 1, 0]])"
   ]
  },
  {
   "cell_type": "markdown",
   "id": "cf4ccc8b-33ca-4a46-9541-f8d149ce0926",
   "metadata": {},
   "source": [
    "Za k = 5, resenje: [(0, 4), (4, 1), (1, 7), (7, 6)],  4"
   ]
  },
  {
   "cell_type": "code",
   "execution_count": 118,
   "id": "34d2132d-b4a3-402d-8c80-7c932cced934",
   "metadata": {},
   "outputs": [],
   "source": [
    "graph_15_nodes = np.array([[0, 3, 0, 0, 0, 2, 0, 0, 0, 0, 0, 0, 0, 0, 0],\n",
    "                           [3, 0, 0, 7, 0, 0, 0, 1, 0, 0, 0, 0, 0, 0, 0],\n",
    "                           [0, 0, 0, 0, 9, 0, 0, 0, 0, 0, 0, 0, 0, 0, 0],\n",
    "                           [0, 7, 0, 0, 0, 0, 0, 0, 0, 5, 0, 0, 0, 0, 0],\n",
    "                           [0, 0, 9, 0, 0, 4, 0, 0, 0, 0, 0, 0, 0, 0, 0],\n",
    "                           [2, 0, 0, 0, 4, 0, 6, 0, 0, 0, 0, 0, 0, 0, 0],\n",
    "                           [0, 0, 0, 0, 0, 6, 0, 0, 0, 0, 0, 0, 0, 0, 0],\n",
    "                           [0, 1, 0, 0, 0, 0, 0, 0, 2, 0, 0, 0, 0, 0, 0],\n",
    "                           [0, 0, 0, 0, 0, 0, 0, 2, 0, 1, 0, 0, 0, 0, 0],\n",
    "                           [0, 0, 0, 5, 0, 0, 0, 0, 1, 0, 4, 0, 0, 0, 0],\n",
    "                           [0, 0, 0, 0, 0, 0, 0, 0, 0, 4, 0, 6, 0, 0, 0],\n",
    "                           [0, 0, 0, 0, 0, 0, 0, 0, 0, 0, 6, 0, 8, 0, 0],\n",
    "                           [0, 0, 0, 0, 0, 0, 0, 0, 0, 0, 0, 8, 0, 9, 0],\n",
    "                           [0, 0, 0, 0, 0, 0, 0, 0, 0, 0, 0, 0, 9, 0, 1],\n",
    "                           [0, 0, 0, 0, 0, 0, 0, 0, 0, 0, 0, 0, 0, 1, 0]])\n"
   ]
  },
  {
   "cell_type": "markdown",
   "id": "a00e3c1f-26f3-4638-81ff-0ad329eb6e7b",
   "metadata": {},
   "source": [
    "Za k = 10, resenje: [(0, 5), (0, 1), (1, 7), (7, 8), (8, 9), (5, 4), (9, 10), (9, 3), (5, 6)], 28"
   ]
  },
  {
   "cell_type": "code",
   "execution_count": 119,
   "id": "257923cd-c0bb-4453-ad15-5b4c2eee53a6",
   "metadata": {},
   "outputs": [],
   "source": [
    "wikipedia_graph =  np.array([[0, 5, 3, 1, 0, 0, 0, 0, 0],\n",
    "                             [5, 0, 0, 4, 7, 0, 0, 0, 0],\n",
    "                             [3, 0, 0, 0, 0, 0, 3, 0, 0],\n",
    "                             [1, 4, 0, 0, 1, 0, 3, 0, 0],\n",
    "                             [0, 7, 0, 1, 0, 3, 0, 2, 0],\n",
    "                             [0, 0, 0, 0, 3, 0, 0, 0, 2],\n",
    "                             [0, 0, 3, 3, 0, 0, 0, 4, 0],\n",
    "                             [0, 0, 0, 0, 2, 0, 4, 0, 2],\n",
    "                             [0, 0, 0, 0, 0, 2, 0, 2, 0]])"
   ]
  },
  {
   "cell_type": "markdown",
   "id": "f03a07f7-eaba-47a6-bfd4-757b53c74e2f",
   "metadata": {},
   "source": [
    "Za k = 5, resenje: [(0, 3), (3, 4), (4, 7), (7, 8)], 6"
   ]
  },
  {
   "cell_type": "code",
   "execution_count": 120,
   "id": "e475ad77-c7bb-4570-8e46-4187b75a44dd",
   "metadata": {},
   "outputs": [],
   "source": [
    "graph = graph_5_nodes"
   ]
  },
  {
   "cell_type": "code",
   "execution_count": 121,
   "id": "44c343d5-0507-4aa6-b5f1-61217aaeaa13",
   "metadata": {},
   "outputs": [],
   "source": [
    "def add_neighbours(neighbours, node):\n",
    "    n = graph.shape[0]\n",
    "    for i in range(0, n):\n",
    "        if graph[node][i] != 0:\n",
    "            neighbours.append((node, i))"
   ]
  },
  {
   "cell_type": "code",
   "execution_count": 122,
   "id": "c8f33d0c-85b7-4fab-afa1-05d51c8ac776",
   "metadata": {},
   "outputs": [
    {
     "name": "stdout",
     "output_type": "stream",
     "text": [
      "[(0, 1), (0, 2), (0, 3), (0, 4)]\n",
      "10\n"
     ]
    }
   ],
   "source": [
    "k = 5\n",
    "\n",
    "n = graph.shape[0]\n",
    "\n",
    "best_tree = []\n",
    "best_tree_weight = float('inf')\n",
    "\n",
    "for i in range(0, n):\n",
    "    visited_nodes = [i]\n",
    "    neighbours = [] ##lista parova (cvor_izvor, cvor_cilj)\n",
    "    add_neighbours(neighbours, i)\n",
    "    \n",
    "    current_tree = []\n",
    "    current_weight = 0\n",
    "    \n",
    "    for j in range(0, k-1):\n",
    "        best_weight = float('inf')    ##najmanja tezina grane izmedju dva cvora u parovima u listi suseda\n",
    "        best_first_node = -1    ##prvi cvor u paru\n",
    "        best_second_node = -1    ##drugi cvor u paru\n",
    "        \n",
    "        for (first_node, second_node) in neighbours:\n",
    "            if second_node in visited_nodes:\n",
    "                continue\n",
    "            if graph[first_node][second_node] < best_weight:\n",
    "                best_weight = graph[first_node][second_node]\n",
    "                best_first_node = first_node\n",
    "                best_second_node = second_node\n",
    "        if best_weight != float('inf'):         ##ukoliko nije nadjena grana, best_weight ce ostati na inf\n",
    "            current_weight += best_weight\n",
    "            current_tree.append((best_first_node, best_second_node))\n",
    "            visited_nodes.append(best_second_node)\n",
    "            add_neighbours(neighbours, best_second_node)\n",
    "        else:\n",
    "            break\n",
    "    ##\n",
    "    if len(visited_nodes) < k:\n",
    "        continue\n",
    "    if current_weight < best_tree_weight:\n",
    "        best_tree_weight = current_weight\n",
    "        best_tree = copy.deepcopy(current_tree)\n",
    "\n",
    "if best_tree_weight != float('inf'):\n",
    "    print(best_tree)\n",
    "    print(best_tree_weight)\n",
    "else:    ##ovo se desava ako nije moguce napraviti stablo trazene velicine\n",
    "    print(\"Not possible to construct a sufficient tree\")"
   ]
  }
 ],
 "metadata": {
  "kernelspec": {
   "display_name": "Python 3 (ipykernel)",
   "language": "python",
   "name": "python3"
  },
  "language_info": {
   "codemirror_mode": {
    "name": "ipython",
    "version": 3
   },
   "file_extension": ".py",
   "mimetype": "text/x-python",
   "name": "python",
   "nbconvert_exporter": "python",
   "pygments_lexer": "ipython3",
   "version": "3.10.12"
  }
 },
 "nbformat": 4,
 "nbformat_minor": 5
}
