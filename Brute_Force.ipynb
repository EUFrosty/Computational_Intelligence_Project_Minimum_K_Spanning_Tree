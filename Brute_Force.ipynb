{
 "cells": [
  {
   "cell_type": "code",
   "execution_count": 3,
   "id": "d9899b6b-572e-4454-a569-b082e94602a2",
   "metadata": {},
   "outputs": [],
   "source": [
    "import numpy as np\n",
    "import copy\n",
    "import import_ipynb\n",
    "import graph_generator as gg"
   ]
  },
  {
   "cell_type": "code",
   "execution_count": 4,
   "id": "e475ad77-c7bb-4570-8e46-4187b75a44dd",
   "metadata": {},
   "outputs": [],
   "source": [
    "graph = gg.generate_graph(10)"
   ]
  },
  {
   "cell_type": "code",
   "execution_count": 5,
   "id": "6b6d07a9",
   "metadata": {},
   "outputs": [
    {
     "data": {
      "text/plain": [
       "NodeView((0, 1, 2, 3, 4, 5, 6, 7, 8, 9))"
      ]
     },
     "execution_count": 5,
     "metadata": {},
     "output_type": "execute_result"
    }
   ],
   "source": [
    "graph.nodes"
   ]
  },
  {
   "cell_type": "code",
   "execution_count": 6,
   "id": "21cf8180",
   "metadata": {},
   "outputs": [
    {
     "data": {
      "text/plain": [
       "EdgeView([(0, 1), (0, 2), (0, 3), (0, 4), (0, 5), (0, 6), (0, 7), (0, 8), (0, 9), (1, 2), (1, 3), (1, 4), (1, 5), (1, 6), (1, 7), (1, 8), (1, 9), (2, 3), (2, 4), (2, 5), (2, 6), (2, 7), (2, 8), (2, 9), (3, 4), (3, 5), (3, 6), (3, 7), (3, 8), (3, 9), (4, 5), (4, 6), (4, 7), (4, 8), (4, 9), (5, 6), (5, 7), (5, 8), (5, 9), (6, 7), (6, 8), (6, 9), (7, 8), (7, 9), (8, 9)])"
      ]
     },
     "execution_count": 6,
     "metadata": {},
     "output_type": "execute_result"
    }
   ],
   "source": [
    "graph.edges"
   ]
  },
  {
   "cell_type": "code",
   "execution_count": 27,
   "id": "66af5f4f",
   "metadata": {},
   "outputs": [
    {
     "ename": "ValueError",
     "evalue": "too many values to unpack (expected 2)",
     "output_type": "error",
     "traceback": [
      "\u001b[0;31m---------------------------------------------------------------------------\u001b[0m",
      "\u001b[0;31mValueError\u001b[0m                                Traceback (most recent call last)",
      "Cell \u001b[0;32mIn[27], line 1\u001b[0m\n\u001b[0;32m----> 1\u001b[0m \u001b[43mgraph\u001b[49m\u001b[38;5;241;43m.\u001b[39;49m\u001b[43medges\u001b[49m\u001b[43m[\u001b[49m\u001b[38;5;124;43m'\u001b[39;49m\u001b[38;5;124;43mpheromones\u001b[39;49m\u001b[38;5;124;43m'\u001b[39;49m\u001b[43m]\u001b[49m\n",
      "File \u001b[0;32m~/.local/lib/python3.8/site-packages/networkx/classes/reportviews.py:1084\u001b[0m, in \u001b[0;36mOutEdgeView.__getitem__\u001b[0;34m(self, e)\u001b[0m\n\u001b[1;32m   1079\u001b[0m \u001b[38;5;28;01mif\u001b[39;00m \u001b[38;5;28misinstance\u001b[39m(e, \u001b[38;5;28mslice\u001b[39m):\n\u001b[1;32m   1080\u001b[0m     \u001b[38;5;28;01mraise\u001b[39;00m nx\u001b[38;5;241m.\u001b[39mNetworkXError(\n\u001b[1;32m   1081\u001b[0m         \u001b[38;5;124mf\u001b[39m\u001b[38;5;124m\"\u001b[39m\u001b[38;5;132;01m{\u001b[39;00m\u001b[38;5;28mtype\u001b[39m(\u001b[38;5;28mself\u001b[39m)\u001b[38;5;241m.\u001b[39m\u001b[38;5;18m__name__\u001b[39m\u001b[38;5;132;01m}\u001b[39;00m\u001b[38;5;124m does not support slicing, \u001b[39m\u001b[38;5;124m\"\u001b[39m\n\u001b[1;32m   1082\u001b[0m         \u001b[38;5;124mf\u001b[39m\u001b[38;5;124m\"\u001b[39m\u001b[38;5;124mtry list(G.edges)[\u001b[39m\u001b[38;5;132;01m{\u001b[39;00me\u001b[38;5;241m.\u001b[39mstart\u001b[38;5;132;01m}\u001b[39;00m\u001b[38;5;124m:\u001b[39m\u001b[38;5;132;01m{\u001b[39;00me\u001b[38;5;241m.\u001b[39mstop\u001b[38;5;132;01m}\u001b[39;00m\u001b[38;5;124m:\u001b[39m\u001b[38;5;132;01m{\u001b[39;00me\u001b[38;5;241m.\u001b[39mstep\u001b[38;5;132;01m}\u001b[39;00m\u001b[38;5;124m]\u001b[39m\u001b[38;5;124m\"\u001b[39m\n\u001b[1;32m   1083\u001b[0m     )\n\u001b[0;32m-> 1084\u001b[0m u, v \u001b[38;5;241m=\u001b[39m e\n\u001b[1;32m   1085\u001b[0m \u001b[38;5;28;01mreturn\u001b[39;00m \u001b[38;5;28mself\u001b[39m\u001b[38;5;241m.\u001b[39m_adjdict[u][v]\n",
      "\u001b[0;31mValueError\u001b[0m: too many values to unpack (expected 2)"
     ]
    }
   ],
   "source": [
    "graph.edges['pheromones']"
   ]
  },
  {
   "cell_type": "code",
   "execution_count": 16,
   "id": "44c343d5-0507-4aa6-b5f1-61217aaeaa13",
   "metadata": {},
   "outputs": [],
   "source": [
    "def add_neighbours(neighbours, node):\n",
    "    n = len(graph.edges)\n",
    "    for i in range(0, n):\n",
    "        if graph.edges[node][i] != 0:\n",
    "            neighbours.append((node, i))"
   ]
  },
  {
   "cell_type": "code",
   "execution_count": 17,
   "id": "c8f33d0c-85b7-4fab-afa1-05d51c8ac776",
   "metadata": {},
   "outputs": [],
   "source": [
    "def brute_force(graph, k):\n",
    "    n = len(graph.edges)\n",
    "\n",
    "    best_tree = []\n",
    "    best_tree_weight = float('inf')\n",
    "\n",
    "    for i in range(0, n):\n",
    "        visited_nodes = [i]\n",
    "        neighbours = [] ##lista parova (cvor_izvor, cvor_cilj)\n",
    "        add_neighbours(neighbours, i)\n",
    "\n",
    "        current_tree = []\n",
    "        current_weight = 0\n",
    "\n",
    "        for j in range(0, k-1):\n",
    "            best_weight = float('inf')    ##najmanja tezina grane izmedju dva cvora u parovima u listi suseda\n",
    "            best_first_node = -1    ##prvi cvor u paru\n",
    "            best_second_node = -1    ##drugi cvor u paru\n",
    "\n",
    "            for (first_node, second_node) in neighbours:\n",
    "                if second_node in visited_nodes:\n",
    "                    continue\n",
    "                if graph[first_node][second_node] < best_weight:\n",
    "                    best_weight = graph[first_node][second_node]\n",
    "                    best_first_node = first_node\n",
    "                    best_second_node = second_node\n",
    "            if best_weight != float('inf'):         ##ukoliko nije nadjena grana, best_weight ce ostati na inf\n",
    "                current_weight += best_weight\n",
    "                current_tree.append((best_first_node, best_second_node))\n",
    "                visited_nodes.append(best_second_node)\n",
    "                add_neighbours(neighbours, best_second_node)\n",
    "            else:\n",
    "                break\n",
    "        ##\n",
    "        if len(visited_nodes) < k:\n",
    "            continue\n",
    "        if current_weight < best_tree_weight:\n",
    "            best_tree_weight = current_weight\n",
    "            best_tree = copy.deepcopy(current_tree)\n",
    "\n",
    "    if best_tree_weight != float('inf'):\n",
    "        print(best_tree)\n",
    "        print(best_tree_weight)\n",
    "    else:    ##ovo se desava ako nije moguce napraviti stablo trazene velicine\n",
    "        print(\"Not possible to construct a sufficient tree\")"
   ]
  },
  {
   "cell_type": "code",
   "execution_count": 18,
   "id": "0e95aefa",
   "metadata": {},
   "outputs": [
    {
     "ename": "AttributeError",
     "evalue": "'Graph' object has no attribute 'edge'",
     "output_type": "error",
     "traceback": [
      "\u001b[0;31m---------------------------------------------------------------------------\u001b[0m",
      "\u001b[0;31mAttributeError\u001b[0m                            Traceback (most recent call last)",
      "Cell \u001b[0;32mIn[18], line 1\u001b[0m\n\u001b[0;32m----> 1\u001b[0m \u001b[43mbrute_force\u001b[49m\u001b[43m(\u001b[49m\u001b[43mgraph\u001b[49m\u001b[43m,\u001b[49m\u001b[43m \u001b[49m\u001b[38;5;241;43m5\u001b[39;49m\u001b[43m)\u001b[49m\n",
      "Cell \u001b[0;32mIn[17], line 10\u001b[0m, in \u001b[0;36mbrute_force\u001b[0;34m(graph, k)\u001b[0m\n\u001b[1;32m      8\u001b[0m visited_nodes \u001b[38;5;241m=\u001b[39m [i]\n\u001b[1;32m      9\u001b[0m neighbours \u001b[38;5;241m=\u001b[39m [] \u001b[38;5;66;03m##lista parova (cvor_izvor, cvor_cilj)\u001b[39;00m\n\u001b[0;32m---> 10\u001b[0m \u001b[43madd_neighbours\u001b[49m\u001b[43m(\u001b[49m\u001b[43mneighbours\u001b[49m\u001b[43m,\u001b[49m\u001b[43m \u001b[49m\u001b[43mi\u001b[49m\u001b[43m)\u001b[49m\n\u001b[1;32m     12\u001b[0m current_tree \u001b[38;5;241m=\u001b[39m []\n\u001b[1;32m     13\u001b[0m current_weight \u001b[38;5;241m=\u001b[39m \u001b[38;5;241m0\u001b[39m\n",
      "Cell \u001b[0;32mIn[16], line 4\u001b[0m, in \u001b[0;36madd_neighbours\u001b[0;34m(neighbours, node)\u001b[0m\n\u001b[1;32m      2\u001b[0m n \u001b[38;5;241m=\u001b[39m \u001b[38;5;28mlen\u001b[39m(graph\u001b[38;5;241m.\u001b[39medges)\n\u001b[1;32m      3\u001b[0m \u001b[38;5;28;01mfor\u001b[39;00m i \u001b[38;5;129;01min\u001b[39;00m \u001b[38;5;28mrange\u001b[39m(\u001b[38;5;241m0\u001b[39m, n):\n\u001b[0;32m----> 4\u001b[0m     \u001b[38;5;28;01mif\u001b[39;00m \u001b[43mgraph\u001b[49m\u001b[38;5;241;43m.\u001b[39;49m\u001b[43medge\u001b[49m[node][i] \u001b[38;5;241m!=\u001b[39m \u001b[38;5;241m0\u001b[39m:\n\u001b[1;32m      5\u001b[0m         neighbours\u001b[38;5;241m.\u001b[39mappend((node, i))\n",
      "\u001b[0;31mAttributeError\u001b[0m: 'Graph' object has no attribute 'edge'"
     ]
    }
   ],
   "source": [
    "brute_force(graph, 5)"
   ]
  },
  {
   "cell_type": "code",
   "execution_count": null,
   "id": "dd1d86f2",
   "metadata": {},
   "outputs": [],
   "source": []
  }
 ],
 "metadata": {
  "kernelspec": {
   "display_name": "Python 3 (ipykernel)",
   "language": "python",
   "name": "python3"
  },
  "language_info": {
   "codemirror_mode": {
    "name": "ipython",
    "version": 3
   },
   "file_extension": ".py",
   "mimetype": "text/x-python",
   "name": "python",
   "nbconvert_exporter": "python",
   "pygments_lexer": "ipython3",
   "version": "3.8.10"
  }
 },
 "nbformat": 4,
 "nbformat_minor": 5
}
