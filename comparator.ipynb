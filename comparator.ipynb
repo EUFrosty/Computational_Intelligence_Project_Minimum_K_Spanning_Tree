{
 "cells": [
  {
   "cell_type": "code",
   "execution_count": 3,
   "id": "b8c91251-4786-44ee-9327-077ac83a0a9e",
   "metadata": {},
   "outputs": [
    {
     "name": "stdout",
     "output_type": "stream",
     "text": [
      "importing Jupyter notebook from ants_minimum_tree_into_minimum_k_tree.ipynb\n",
      "([(0, 9), (9, 7), (9, 8), (8, 6), (6, 2), (8, 3), (3, 5), (2, 4), (7, 1)], 2286)\n",
      "([(0, 9), (9, 7), (9, 8), (8, 6), (6, 2), (8, 3), (3, 5), (2, 4), (7, 1)], 2286)\n",
      "0.46917724609375\n"
     ]
    }
   ],
   "source": [
    "import import_ipynb\n",
    "import graph_generator as gg\n",
    "import brute_force as bf\n",
    "import brute_force_optimized as bfo\n",
    "import ants_from_every_node as afen\n",
    "import ants_minimum_tree_into_minimum_k_tree as amtimkt"
   ]
  },
  {
   "cell_type": "code",
   "execution_count": 4,
   "id": "47097951-16e0-47d7-8a83-86b42386fca3",
   "metadata": {},
   "outputs": [],
   "source": [
    "graph_25 = gg.generate_graph(25)\n",
    "graph_50 = gg.generate_graph(50)\n",
    "graph_100 = gg.generate_graph(100)\n",
    "graph_300 = gg.generate_graph(300)\n",
    "graph_1000 = gg.generate_graph(1000)"
   ]
  },
  {
   "cell_type": "code",
   "execution_count": 5,
   "id": "d2f1431f-1fab-4f49-9076-2269e61f9b04",
   "metadata": {},
   "outputs": [
    {
     "name": "stdout",
     "output_type": "stream",
     "text": [
      "[(3, 21), (5, 21), (20, 21), (21, 22)] 104\n",
      "11.394295454025269\n"
     ]
    }
   ],
   "source": [
    "bf.brute_force(graph_25, 5)"
   ]
  },
  {
   "cell_type": "code",
   "execution_count": 7,
   "id": "2cd2a4e2-8006-4e33-919e-0719c9f6eb5c",
   "metadata": {},
   "outputs": [
    {
     "name": "stdout",
     "output_type": "stream",
     "text": [
      "[(3, 21), (21, 20), (21, 22), (21, 5)]\n",
      "104\n",
      "0.008763790130615234\n"
     ]
    }
   ],
   "source": [
    "bfo.brute_force_optimized(graph_25, 5)"
   ]
  },
  {
   "cell_type": "code",
   "execution_count": 8,
   "id": "6e7d076b-9c71-4936-b96c-aeabc916b91d",
   "metadata": {},
   "outputs": [
    {
     "name": "stdout",
     "output_type": "stream",
     "text": [
      "[(9, 27), (27, 15), (15, 6), (15, 12)]\n",
      "35\n",
      "0.031468868255615234\n"
     ]
    }
   ],
   "source": [
    "bfo.brute_force_optimized(graph_50, 5)"
   ]
  },
  {
   "cell_type": "code",
   "execution_count": 9,
   "id": "82abbbf0-240a-47b5-b3d8-cd513f758ea8",
   "metadata": {},
   "outputs": [
    {
     "name": "stdout",
     "output_type": "stream",
     "text": [
      "[(0, 28), (28, 47), (47, 2), (2, 16), (16, 15), (15, 6), (15, 12), (15, 38), (15, 27)]\n",
      "134\n",
      "0.10592985153198242\n"
     ]
    }
   ],
   "source": [
    "bfo.brute_force_optimized(graph_50, 10)"
   ]
  },
  {
   "cell_type": "code",
   "execution_count": 11,
   "id": "6836c065-bcbc-42c6-8462-b082e6f89416",
   "metadata": {},
   "outputs": [
    {
     "name": "stdout",
     "output_type": "stream",
     "text": [
      "[(2, 9), (9, 82), (82, 44), (44, 8), (8, 81), (44, 68), (68, 23), (2, 40), (9, 7)]\n",
      "39\n",
      "0.3941044807434082\n"
     ]
    }
   ],
   "source": [
    "bfo.brute_force_optimized(graph_100, 10)"
   ]
  },
  {
   "cell_type": "code",
   "execution_count": 12,
   "id": "ad48e3e3-5f42-4ee1-95bb-f692991b1699",
   "metadata": {},
   "outputs": [
    {
     "name": "stdout",
     "output_type": "stream",
     "text": [
      "[(2, 9), (9, 82), (82, 44), (44, 8), (8, 81), (44, 68), (68, 23), (2, 40), (9, 7), (68, 28), (44, 38), (38, 52), (52, 17), (52, 33), (17, 78), (78, 49), (49, 90), (90, 59), (17, 42)]\n",
      "90\n",
      "1.47418212890625\n"
     ]
    }
   ],
   "source": [
    "bfo.brute_force_optimized(graph_100, 20)"
   ]
  },
  {
   "cell_type": "code",
   "execution_count": 13,
   "id": "fa686703-0ed6-4bdf-87f1-b1b7bffe3b75",
   "metadata": {},
   "outputs": [
    {
     "name": "stdout",
     "output_type": "stream",
     "text": [
      "[(1, 40), (1, 38), (40, 175), (175, 42), (42, 128), (128, 76), (76, 271), (271, 53), (128, 13), (271, 29), (53, 57), (29, 64), (64, 117), (117, 123), (123, 214), (117, 121), (121, 24), (24, 111), (121, 160)]\n",
      "42\n",
      "14.583856105804443\n"
     ]
    }
   ],
   "source": [
    "bfo.brute_force_optimized(graph_300, 20)"
   ]
  },
  {
   "cell_type": "code",
   "execution_count": 14,
   "id": "6fc74e3f-ddd3-40d0-b38c-67da7ecc5553",
   "metadata": {},
   "outputs": [
    {
     "name": "stdout",
     "output_type": "stream",
     "text": [
      "[(39, 181), (181, 125), (125, 168), (125, 206), (181, 151), (151, 130), (130, 71), (71, 73), (73, 243), (243, 114), (243, 225), (225, 66), (225, 16), (225, 140), (140, 133), (140, 36), (36, 83), (168, 30), (30, 123), (123, 117), (123, 214), (117, 64), (123, 205), (117, 121), (121, 24), (24, 111), (121, 160), (64, 29), (29, 271)]\n",
      "75\n",
      "34.72235941886902\n"
     ]
    }
   ],
   "source": [
    "bfo.brute_force_optimized(graph_300, 30)"
   ]
  },
  {
   "cell_type": "code",
   "execution_count": 18,
   "id": "1c2a83ea-e07f-4a97-9227-9fc8c665ec0b",
   "metadata": {},
   "outputs": [
    {
     "name": "stdout",
     "output_type": "stream",
     "text": [
      "[(2, 9), (9, 82), (82, 44), (44, 8), (8, 81), (44, 68), (68, 23), (2, 40), (9, 7)]\n",
      "39\n",
      "0.4458038806915283\n"
     ]
    }
   ],
   "source": [
    "bfo.brute_force_optimized_with_sorting(graph_100, 10)"
   ]
  },
  {
   "cell_type": "code",
   "execution_count": 19,
   "id": "6f1a4519-41e2-4e24-acf3-2dae42ed6fd7",
   "metadata": {},
   "outputs": [
    {
     "name": "stdout",
     "output_type": "stream",
     "text": [
      "[(2, 9), (9, 82), (82, 44), (44, 8), (8, 81), (44, 68), (68, 23), (2, 40), (9, 7), (68, 28), (44, 38), (38, 52), (52, 17), (52, 33), (17, 78), (78, 49), (49, 90), (90, 59), (17, 42)]\n",
      "90\n",
      "1.8485240936279297\n"
     ]
    }
   ],
   "source": [
    "bfo.brute_force_optimized_with_sorting(graph_100, 20)"
   ]
  },
  {
   "cell_type": "code",
   "execution_count": 20,
   "id": "d79955bb-1c07-42ca-a8d1-0b8e9a0ab760",
   "metadata": {},
   "outputs": [
    {
     "name": "stdout",
     "output_type": "stream",
     "text": [
      "[(1, 40), (1, 38), (40, 175), (175, 42), (42, 128), (128, 76), (76, 271), (271, 53), (128, 13), (271, 29), (53, 57), (29, 64), (64, 117), (117, 123), (123, 214), (117, 121), (121, 24), (24, 111), (121, 160)]\n",
      "42\n",
      "16.871232748031616\n"
     ]
    }
   ],
   "source": [
    "bfo.brute_force_optimized_with_sorting(graph_300, 20)"
   ]
  },
  {
   "cell_type": "code",
   "execution_count": 21,
   "id": "42d26553-1860-4dc2-af64-e9720352362c",
   "metadata": {},
   "outputs": [
    {
     "name": "stdout",
     "output_type": "stream",
     "text": [
      "[(39, 181), (181, 125), (125, 168), (125, 206), (181, 151), (151, 130), (130, 71), (71, 73), (73, 243), (243, 114), (243, 225), (225, 66), (225, 16), (225, 140), (140, 133), (140, 36), (36, 83), (168, 30), (30, 123), (123, 117), (123, 214), (117, 64), (123, 205), (117, 121), (121, 24), (24, 111), (121, 160), (64, 29), (29, 271)]\n",
      "75\n",
      "37.932440757751465\n"
     ]
    }
   ],
   "source": [
    "bfo.brute_force_optimized_with_sorting(graph_300, 30)"
   ]
  },
  {
   "cell_type": "code",
   "execution_count": 17,
   "id": "56be09b2-394c-4e9e-80f6-eede6a4f34b6",
   "metadata": {},
   "outputs": [
    {
     "name": "stdout",
     "output_type": "stream",
     "text": [
      "([(2, 9), (9, 82), (82, 44), (44, 8), (8, 81), (44, 68), (68, 23), (2, 40), (9, 7)], 39)\n",
      "923.2556159496307\n"
     ]
    }
   ],
   "source": [
    "afen.aco(graph_100, 10, 0.9, 100, 0.9, 1.5, 100.0, 10)"
   ]
  },
  {
   "cell_type": "code",
   "execution_count": null,
   "id": "1ea5d928-7754-43e2-b906-9b4aa59480a6",
   "metadata": {},
   "outputs": [],
   "source": []
  }
 ],
 "metadata": {
  "kernelspec": {
   "display_name": "Python 3 (ipykernel)",
   "language": "python",
   "name": "python3"
  },
  "language_info": {
   "codemirror_mode": {
    "name": "ipython",
    "version": 3
   },
   "file_extension": ".py",
   "mimetype": "text/x-python",
   "name": "python",
   "nbconvert_exporter": "python",
   "pygments_lexer": "ipython3",
   "version": "3.8.10"
  }
 },
 "nbformat": 4,
 "nbformat_minor": 5
}
