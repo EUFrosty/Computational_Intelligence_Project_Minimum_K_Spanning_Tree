{
 "cells": [
  {
   "cell_type": "code",
   "execution_count": 1,
   "id": "3dd78b3b",
   "metadata": {},
   "outputs": [
    {
     "name": "stdout",
     "output_type": "stream",
     "text": [
      "importing Jupyter notebook from Brute_Force.ipynb\n",
      "importing Jupyter notebook from ants.ipynb\n",
      "[[[1, 3, 0.1], [5, 2, 0.1]], [[0, 3, 0.1], [3, 7, 0.1], [7, 1, 0.1]], [[4, 9, 0.1]], [[1, 7, 0.1], [9, 5, 0.1]], [[2, 9, 0.1], [5, 4, 0.1]], [[0, 2, 0.1], [4, 4, 0.1], [6, 6, 0.1]], [[5, 6, 0.1]], [[1, 1, 0.1], [8, 2, 0.1]], [[7, 2, 0.1], [9, 1, 0.1]], [[3, 5, 0.1], [8, 1, 0.1], [10, 4, 0.1]], [[9, 4, 0.1], [11, 6, 0.1]], [[10, 6, 0.1], [12, 8, 0.1]], [[11, 8, 0.1], [13, 9, 0.1]], [[12, 9, 0.1], [14, 1, 0.1]], [[13, 1, 0.1]]]\n",
      "importing Jupyter notebook from graph_generator.ipynb\n"
     ]
    }
   ],
   "source": [
    "import import_ipynb\n",
    "import time\n",
    "import Brute_Force as bf\n",
    "import ants\n",
    "import graph_generator as gg"
   ]
  },
  {
   "cell_type": "code",
   "execution_count": 5,
   "id": "ad490782",
   "metadata": {},
   "outputs": [],
   "source": [
    "graph = gg.generate_graph(10)"
   ]
  },
  {
   "cell_type": "code",
   "execution_count": 6,
   "id": "79d8f8cd",
   "metadata": {},
   "outputs": [
    {
     "data": {
      "text/plain": [
       "EdgeView([(0, 1), (0, 2), (0, 3), (0, 4), (0, 5), (0, 6), (0, 7), (0, 8), (0, 9), (1, 2), (1, 3), (1, 4), (1, 5), (1, 6), (1, 7), (1, 8), (1, 9), (2, 3), (2, 4), (2, 5), (2, 6), (2, 7), (2, 8), (2, 9), (3, 4), (3, 5), (3, 6), (3, 7), (3, 8), (3, 9), (4, 5), (4, 6), (4, 7), (4, 8), (4, 9), (5, 6), (5, 7), (5, 8), (5, 9), (6, 7), (6, 8), (6, 9), (7, 8), (7, 9), (8, 9)])"
      ]
     },
     "execution_count": 6,
     "metadata": {},
     "output_type": "execute_result"
    }
   ],
   "source": [
    "graph.edges"
   ]
  },
  {
   "cell_type": "code",
   "execution_count": 7,
   "id": "d651a7a2",
   "metadata": {},
   "outputs": [
    {
     "data": {
      "text/plain": [
       "NodeView((0, 1, 2, 3, 4, 5, 6, 7, 8, 9))"
      ]
     },
     "execution_count": 7,
     "metadata": {},
     "output_type": "execute_result"
    }
   ],
   "source": [
    "graph.nodes"
   ]
  },
  {
   "cell_type": "code",
   "execution_count": 3,
   "id": "9072c243",
   "metadata": {},
   "outputs": [
    {
     "ename": "AttributeError",
     "evalue": "'Graph' object has no attribute 'shape'",
     "output_type": "error",
     "traceback": [
      "\u001b[0;31m---------------------------------------------------------------------------\u001b[0m",
      "\u001b[0;31mAttributeError\u001b[0m                            Traceback (most recent call last)",
      "Cell \u001b[0;32mIn[3], line 3\u001b[0m\n\u001b[1;32m      1\u001b[0m start \u001b[38;5;241m=\u001b[39m time\u001b[38;5;241m.\u001b[39mtime()\n\u001b[0;32m----> 3\u001b[0m \u001b[43mbf\u001b[49m\u001b[38;5;241;43m.\u001b[39;49m\u001b[43mbrute_force\u001b[49m\u001b[43m(\u001b[49m\u001b[43mgraph\u001b[49m\u001b[43m,\u001b[49m\u001b[43m \u001b[49m\u001b[38;5;241;43m10\u001b[39;49m\u001b[43m)\u001b[49m\n\u001b[1;32m      5\u001b[0m end \u001b[38;5;241m=\u001b[39m time\u001b[38;5;241m.\u001b[39mtime()\n\u001b[1;32m      6\u001b[0m \u001b[38;5;28mprint\u001b[39m(end \u001b[38;5;241m-\u001b[39m start)\n",
      "File \u001b[0;32m<string>:2\u001b[0m, in \u001b[0;36mbrute_force\u001b[0;34m(graph, k)\u001b[0m\n",
      "\u001b[0;31mAttributeError\u001b[0m: 'Graph' object has no attribute 'shape'"
     ]
    }
   ],
   "source": [
    "start = time.time()\n",
    "\n",
    "bf.brute_force(graph, 10)\n",
    "\n",
    "end = time.time()\n",
    "print(end - start)"
   ]
  },
  {
   "cell_type": "code",
   "execution_count": 34,
   "id": "6e7e5f47",
   "metadata": {},
   "outputs": [
    {
     "ename": "NameError",
     "evalue": "name 'pheromone_graph' is not defined",
     "output_type": "error",
     "traceback": [
      "\u001b[0;31m---------------------------------------------------------------------------\u001b[0m",
      "\u001b[0;31mNameError\u001b[0m                                 Traceback (most recent call last)",
      "Cell \u001b[0;32mIn[34], line 3\u001b[0m\n\u001b[1;32m      1\u001b[0m start \u001b[38;5;241m=\u001b[39m time\u001b[38;5;241m.\u001b[39mtime()\n\u001b[0;32m----> 3\u001b[0m a\u001b[38;5;241m.\u001b[39maco(pheromone_graph \u001b[38;5;241m=\u001b[39m \u001b[43mpheromone_graph\u001b[49m, num_ants \u001b[38;5;241m=\u001b[39m \u001b[38;5;241m10\u001b[39m, rho \u001b[38;5;241m=\u001b[39m \u001b[38;5;241m0.9\u001b[39m, num_iters \u001b[38;5;241m=\u001b[39m \u001b[38;5;241m10\u001b[39m,\n\u001b[1;32m      4\u001b[0m                       theta \u001b[38;5;241m=\u001b[39m \u001b[38;5;241m0.1\u001b[39m, alpha \u001b[38;5;241m=\u001b[39m \u001b[38;5;241m0.1\u001b[39m, beta \u001b[38;5;241m=\u001b[39m \u001b[38;5;241m0.1\u001b[39m, k \u001b[38;5;241m=\u001b[39m \u001b[38;5;241m10\u001b[39m)\n\u001b[1;32m      6\u001b[0m end \u001b[38;5;241m=\u001b[39m time\u001b[38;5;241m.\u001b[39mtime()\n\u001b[1;32m      7\u001b[0m \u001b[38;5;28mprint\u001b[39m(end \u001b[38;5;241m-\u001b[39m start)\n",
      "\u001b[0;31mNameError\u001b[0m: name 'pheromone_graph' is not defined"
     ]
    }
   ],
   "source": [
    "start = time.time()\n",
    "\n",
    "ants.aco(pheromone_graph = pheromone_graph, num_ants = 10, rho = 0.9, num_iters = 10,\n",
    "                      theta = 0.1, alpha = 0.1, beta = 0.1, k = 10)\n",
    "\n",
    "end = time.time()\n",
    "print(end - start)"
   ]
  },
  {
   "cell_type": "code",
   "execution_count": null,
   "id": "a93a678b",
   "metadata": {},
   "outputs": [],
   "source": []
  }
 ],
 "metadata": {
  "kernelspec": {
   "display_name": "Python 3 (ipykernel)",
   "language": "python",
   "name": "python3"
  },
  "language_info": {
   "codemirror_mode": {
    "name": "ipython",
    "version": 3
   },
   "file_extension": ".py",
   "mimetype": "text/x-python",
   "name": "python",
   "nbconvert_exporter": "python",
   "pygments_lexer": "ipython3",
   "version": "3.8.10"
  }
 },
 "nbformat": 4,
 "nbformat_minor": 5
}
