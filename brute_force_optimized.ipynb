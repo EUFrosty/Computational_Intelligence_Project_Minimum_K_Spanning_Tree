{
 "cells": [
  {
   "cell_type": "code",
   "execution_count": 21,
   "id": "d9899b6b-572e-4454-a569-b082e94602a2",
   "metadata": {},
   "outputs": [],
   "source": [
    "import numpy as np\n",
    "import copy\n",
    "import import_ipynb\n",
    "import graph_generator as gg\n",
    "import time"
   ]
  },
  {
   "cell_type": "code",
   "execution_count": 22,
   "id": "7f5351c8-f400-4b3a-aae1-b9b486514465",
   "metadata": {},
   "outputs": [],
   "source": [
    "graph = gg.generate_graph(100)"
   ]
  },
  {
   "cell_type": "code",
   "execution_count": null,
   "id": "8e786846-fbbd-4035-8706-08061d940f2b",
   "metadata": {},
   "outputs": [],
   "source": [
    "def compare(pair, graph):\n",
    "    return graph[pair[0]][pair[1]]['weight']"
   ]
  },
  {
   "cell_type": "code",
   "execution_count": 23,
   "id": "44c343d5-0507-4aa6-b5f1-61217aaeaa13",
   "metadata": {},
   "outputs": [],
   "source": [
    "def add_neighbours(neighbours, node, graph):\n",
    "    for connection in graph[node]:\n",
    "            neighbours.append((node, connection))"
   ]
  },
  {
   "cell_type": "code",
   "execution_count": 58,
   "id": "c8f33d0c-85b7-4fab-afa1-05d51c8ac776",
   "metadata": {},
   "outputs": [],
   "source": [
    "def brute_force_optimized(graph, k):\n",
    "    start = time.time()\n",
    "    n = len(graph)\n",
    "    \n",
    "    best_tree = []\n",
    "    best_tree_weight = float('inf')\n",
    "    \n",
    "    for i in range(0, n):\n",
    "        visited_nodes = [i]\n",
    "        neighbours = [] ##lista parova (cvor_izvor, cvor_cilj)\n",
    "        add_neighbours(neighbours, i, graph)\n",
    "        \n",
    "        current_tree = []\n",
    "        current_weight = 0\n",
    "        \n",
    "        for j in range(0, k-1):\n",
    "            best_weight = float('inf')    ##najmanja tezina grane izmedju dva cvora u parovima u listi suseda\n",
    "            best_first_node = -1    ##prvi cvor u paru\n",
    "            best_second_node = -1    ##drugi cvor u paru\n",
    "            \n",
    "            for (first_node, second_node) in neighbours:\n",
    "                if second_node in visited_nodes:\n",
    "                    continue\n",
    "                if graph[first_node][second_node]['weight'] < best_weight:\n",
    "                    best_weight = graph[first_node][second_node]['weight']\n",
    "                    best_first_node = first_node\n",
    "                    best_second_node = second_node\n",
    "            if best_weight != float('inf'):         ##ukoliko nije nadjena grana, best_weight ce ostati na inf\n",
    "                current_weight += best_weight\n",
    "                current_tree.append((best_first_node, best_second_node))\n",
    "                visited_nodes.append(best_second_node)\n",
    "                add_neighbours(neighbours, best_second_node, graph)\n",
    "            else:\n",
    "                break\n",
    "        ##\n",
    "        if len(visited_nodes) < k:\n",
    "            continue\n",
    "        if current_weight < best_tree_weight:\n",
    "            best_tree_weight = current_weight\n",
    "            best_tree = copy.deepcopy(current_tree)\n",
    "    \n",
    "    if best_tree_weight != float('inf'):\n",
    "        print(best_tree)\n",
    "        print(best_tree_weight)\n",
    "        end = time.time()\n",
    "    else:    ##ovo se desava ako nije moguce napraviti stablo trazene velicine\n",
    "        print(\"Not possible to construct a sufficient tree\")\n",
    "        end = time.time()\n",
    "    print(end - start)"
   ]
  },
  {
   "cell_type": "code",
   "execution_count": 60,
   "id": "d7565242-58fb-43bd-8502-17f2e0942b60",
   "metadata": {
    "scrolled": true
   },
   "outputs": [
    {
     "name": "stdout",
     "output_type": "stream",
     "text": [
      "[(34, 67), (67, 49), (49, 21), (21, 36), (21, 13), (13, 4), (4, 96), (13, 51), (13, 5)]\n",
      "35\n",
      "0.39792633056640625\n"
     ]
    }
   ],
   "source": [
    "brute_force_optimized(graph, 10)"
   ]
  },
  {
   "cell_type": "code",
   "execution_count": 54,
   "id": "7960b96c-a85d-40b3-9402-025d648b8a1a",
   "metadata": {},
   "outputs": [],
   "source": [
    "def brute_force_optimized_with_sorting(graph, k):\n",
    "    start = time.time()\n",
    "    n = len(graph)\n",
    "    \n",
    "    best_tree = []\n",
    "    best_tree_weight = float('inf')\n",
    "    \n",
    "    for i in range(0, n):\n",
    "        visited_nodes = [i]\n",
    "        neighbours = [] ##lista parova (cvor_izvor, cvor_cilj)\n",
    "        add_neighbours(neighbours, i, graph)\n",
    "        \n",
    "        current_tree = []\n",
    "        current_weight = 0\n",
    "        \n",
    "        for j in range(0, k-1):\n",
    "            best_weight = float('inf')    ##najmanja tezina grane izmedju dva cvora u parovima u listi suseda\n",
    "            best_first_node = -1    ##prvi cvor u paru\n",
    "            best_second_node = -1    ##drugi cvor u paru\n",
    "\n",
    "            neighbours = sorted(neighbours, key = lambda x: compare(x, graph))\n",
    "            for (first_node, second_node) in neighbours:\n",
    "                if second_node in visited_nodes:\n",
    "                    continue\n",
    "                if graph[first_node][second_node]['weight'] < best_weight:\n",
    "                    best_weight = graph[first_node][second_node]['weight']\n",
    "                    best_first_node = first_node\n",
    "                    best_second_node = second_node\n",
    "                    break\n",
    "                else:\n",
    "                    break\n",
    "                    \n",
    "            if best_weight != float('inf'):         ##ukoliko nije nadjena grana, best_weight ce ostati na inf\n",
    "                current_weight += best_weight\n",
    "                current_tree.append((best_first_node, best_second_node))\n",
    "                visited_nodes.append(best_second_node)\n",
    "                add_neighbours(neighbours, best_second_node, graph)\n",
    "            else:\n",
    "                break\n",
    "        ##\n",
    "        if len(visited_nodes) < k:\n",
    "            continue\n",
    "        if current_weight < best_tree_weight:\n",
    "            best_tree_weight = current_weight\n",
    "            best_tree = copy.deepcopy(current_tree)\n",
    "    \n",
    "    if best_tree_weight != float('inf'):\n",
    "        print(best_tree)\n",
    "        print(best_tree_weight)\n",
    "        end = time.time()\n",
    "    else:    ##ovo se desava ako nije moguce napraviti stablo trazene velicine\n",
    "        print(\"Not possible to construct a sufficient tree\")\n",
    "        end = time.time()\n",
    "    print(end - start)"
   ]
  },
  {
   "cell_type": "code",
   "execution_count": 65,
   "id": "2a7d679d-4317-4fe7-b637-7d368a2217f1",
   "metadata": {},
   "outputs": [
    {
     "name": "stdout",
     "output_type": "stream",
     "text": [
      "[(34, 67), (67, 49), (49, 21), (21, 36), (21, 13), (13, 4), (4, 96), (13, 51), (13, 5)]\n",
      "35\n",
      "0.44238853454589844\n"
     ]
    }
   ],
   "source": [
    "brute_force_optimized_with_sorting(graph, 10)"
   ]
  },
  {
   "cell_type": "code",
   "execution_count": null,
   "id": "23784234-9ec1-42f8-8974-76a54158f0fc",
   "metadata": {},
   "outputs": [],
   "source": []
  }
 ],
 "metadata": {
  "kernelspec": {
   "display_name": "Python 3 (ipykernel)",
   "language": "python",
   "name": "python3"
  },
  "language_info": {
   "codemirror_mode": {
    "name": "ipython",
    "version": 3
   },
   "file_extension": ".py",
   "mimetype": "text/x-python",
   "name": "python",
   "nbconvert_exporter": "python",
   "pygments_lexer": "ipython3",
   "version": "3.10.12"
  }
 },
 "nbformat": 4,
 "nbformat_minor": 5
}
